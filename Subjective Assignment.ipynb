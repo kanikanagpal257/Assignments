{
 "cells": [
  {
   "cell_type": "markdown",
   "metadata": {},
   "source": [
    "# Subjective Assignment"
   ]
  },
  {
   "cell_type": "markdown",
   "metadata": {},
   "source": [
    "#### Q1. Write a Python program to get the string from the given string where all the occurrence of its first char has been changed to '&' except first char itself?\n",
    "Sample String: 'prospect' Expected Result : 'pros&ect'"
   ]
  },
  {
   "cell_type": "code",
   "execution_count": 4,
   "metadata": {},
   "outputs": [
    {
     "data": {
      "text/plain": [
       "'pros&ect'"
      ]
     },
     "execution_count": 4,
     "metadata": {},
     "output_type": "execute_result"
    }
   ],
   "source": [
    "x='prospect'\n",
    "def replaceDollar(x):\n",
    "    z=''\n",
    "    for i in range(0,len(x)):\n",
    "        if x[i]==x[0] and i>0:\n",
    "            z = z + x[i].replace(x[i],'&')\n",
    "        else:\n",
    "            z = z + x[i]\n",
    "    return z\n",
    "replaceDollar(x)"
   ]
  },
  {
   "cell_type": "markdown",
   "metadata": {},
   "source": [
    "#### Q2. Write a Python program to get the single string from the two given strings, and separated by the space and swap the first two characters of each string?\n",
    "Sample String : 'abc', 'xyz'. Expected Result: 'xyc abz'"
   ]
  },
  {
   "cell_type": "code",
   "execution_count": 1,
   "metadata": {},
   "outputs": [
    {
     "data": {
      "text/plain": [
       "'xyc abz'"
      ]
     },
     "execution_count": 1,
     "metadata": {},
     "output_type": "execute_result"
    }
   ],
   "source": [
    "j='abc'\n",
    "k='xyz'\n",
    "def swapFirstTwo(s1,s2):\n",
    "    s=''\n",
    "    for i in range(len(s1)):\n",
    "        if i<2:\n",
    "            s = s + s1[i].replace(s1[i],s2[i])\n",
    "        else:\n",
    "            s = s + s1[i]\n",
    "    s=s+\" \"        \n",
    "    for i in range(len(s2)):\n",
    "        if i<2:\n",
    "            s = s + s2[i].replace(s2[i],s1[i])\n",
    "        else:\n",
    "            s = s + s2[i]\n",
    "    return s\n",
    "swapFirstTwo(j,k)"
   ]
  },
  {
   "cell_type": "markdown",
   "metadata": {},
   "source": [
    "#### Q3. Write the Python program to add 'ing' at the end of the given string (length of the string should be at least 3). If given string already ends with 'ing,' then add 'ly' instead. If string length of the given string is less than 3, leave it unchanged?\n",
    "Sample string: ' abc ' Expected result: ' abcing ' Sample string: ' string ' Expected result: ' stringly '"
   ]
  },
  {
   "cell_type": "code",
   "execution_count": 2,
   "metadata": {},
   "outputs": [
    {
     "name": "stdout",
     "output_type": "stream",
     "text": [
      "missingly\n"
     ]
    }
   ],
   "source": [
    "strng='missing'\n",
    "def addString(s):\n",
    "    if len(s)>=3 and s[-3:]!='ing':\n",
    "        s=s+'ing'\n",
    "        print(s)\n",
    "    elif len(s)>=3 and s[-3:]=='ing':\n",
    "        s=s+'ly'\n",
    "        print(s)\n",
    "    else:\n",
    "        print(s)\n",
    "addString(strng)    "
   ]
  },
  {
   "cell_type": "markdown",
   "metadata": {},
   "source": [
    "#### Q4. Write the Python program to find the first appearance of the substring 'not' and 'poor' from the given string, if 'not' follows the 'poor', replace the whole 'not'...' poor' substring with 'good'.Return the resulting string.\n",
    "Sample string: 'The lyrics are not that poor!' 'The lyrics are poor!' Expected Result: 'The lyrics are good!' 'The lyrics are poor!'"
   ]
  },
  {
   "cell_type": "code",
   "execution_count": 52,
   "metadata": {},
   "outputs": [
    {
     "name": "stdout",
     "output_type": "stream",
     "text": [
      "The lyrics are good! The lyrics are poor!\n"
     ]
    }
   ],
   "source": [
    "str1= \"The lyrics are not that poor!\"\n",
    "str2= \"The lyrics are poor!\"\n",
    "def not_poor(strn):\n",
    "    sn = strn.find('not')\n",
    "    sp = strn.find('poor')\n",
    "    if sp > sn and sn>0 and sp>0: \n",
    "        strn = strn.replace(strn[sn:(sp+4)], 'good') \n",
    "        return strn \n",
    "    else: return strn\n",
    "            \n",
    "print(not_poor(str1),not_poor(str2))"
   ]
  },
  {
   "cell_type": "markdown",
   "metadata": {},
   "source": [
    "#### Q5. Write the Python program to remove the characters which have odd index values of a given string."
   ]
  },
  {
   "cell_type": "code",
   "execution_count": 14,
   "metadata": {},
   "outputs": [
    {
     "data": {
      "text/plain": [
       "'hello'"
      ]
     },
     "execution_count": 14,
     "metadata": {},
     "output_type": "execute_result"
    }
   ],
   "source": [
    "x='haeblcldoe'\n",
    "def removeOdd(s):\n",
    "    return s[::2]\n",
    "removeOdd(x)    "
   ]
  },
  {
   "cell_type": "markdown",
   "metadata": {},
   "source": [
    "#### Q6. Write the Python function to get a string made of 4 copies of the last two characters of the specified string (length must be at least 2).\n",
    "Sample function and result : insert-end ('Python') -> onononon insert-end('Exercises') -> eseseses"
   ]
  },
  {
   "cell_type": "code",
   "execution_count": 15,
   "metadata": {},
   "outputs": [
    {
     "data": {
      "text/plain": [
       "'onononon'"
      ]
     },
     "execution_count": 15,
     "metadata": {},
     "output_type": "execute_result"
    }
   ],
   "source": [
    "x=\"on\"\n",
    "def last_two_char(x):\n",
    "    if len(x)>=2:\n",
    "        return x[-2:]*4\n",
    "    else:\n",
    "        return x\n",
    "last_two_char(x)"
   ]
  },
  {
   "cell_type": "markdown",
   "metadata": {},
   "source": [
    "#### Q7. Write the python function to get a string made of its first three characters of a specified string. If the length of the string is less than 3 then return the original string.\n",
    "Sample function and result : first-three('ipy') -> ipy first-three('python') -> pyt"
   ]
  },
  {
   "cell_type": "code",
   "execution_count": 162,
   "metadata": {},
   "outputs": [
    {
     "data": {
      "text/plain": [
       "'pyt'"
      ]
     },
     "execution_count": 162,
     "metadata": {},
     "output_type": "execute_result"
    }
   ],
   "source": [
    "x='abc'\n",
    "y='python'\n",
    "def first_three(s):\n",
    "    if len(s) <= 3:\n",
    "        return s\n",
    "    else: \n",
    "        return s[:3]\n",
    "    \n",
    "first_three(y)        "
   ]
  },
  {
   "cell_type": "markdown",
   "metadata": {},
   "source": [
    "#### Q8. Write the python program to print the following floating numbers up to 2 decimal places?"
   ]
  },
  {
   "cell_type": "code",
   "execution_count": 54,
   "metadata": {},
   "outputs": [
    {
     "name": "stdout",
     "output_type": "stream",
     "text": [
      "The number is 23890890.28\n"
     ]
    }
   ],
   "source": [
    "x=23890890.279\n",
    "def floatingNum(x):\n",
    "    print('The number is %0.2f' %x)\n",
    "floatingNum(x)"
   ]
  },
  {
   "cell_type": "markdown",
   "metadata": {},
   "source": [
    "#### Q9. Write the Python program to format a number with a percentage?"
   ]
  },
  {
   "cell_type": "code",
   "execution_count": 16,
   "metadata": {},
   "outputs": [
    {
     "name": "stdout",
     "output_type": "stream",
     "text": [
      "The number is 77.0%\n"
     ]
    }
   ],
   "source": [
    "x=0.77\n",
    "def format_percentage(x):\n",
    "    print (\"The number is {}%\".format(x*100))\n",
    "format_percentage(x)"
   ]
  },
  {
   "cell_type": "markdown",
   "metadata": {},
   "source": [
    "#### Q10. Write the Python program to count occurrences of a substring in a String?"
   ]
  },
  {
   "cell_type": "code",
   "execution_count": 120,
   "metadata": {},
   "outputs": [
    {
     "name": "stdout",
     "output_type": "stream",
     "text": [
      "geeks:2 will:2 remain:1 geeks:2 only:1 and:1 will:2 be:1 happy:1 always:1 \n"
     ]
    }
   ],
   "source": [
    "s=\"geeks will remain geeks only and will be happy always\"\n",
    "def count_substring(s):\n",
    "    substr=''\n",
    "    strng=s.split(\" \")\n",
    "    for i in range(len(strng)):\n",
    "        substr= substr + strng[i] +\":\" + str(strng.count(strng[i]))+ \" \"\n",
    "    print(substr)\n",
    "        \n",
    "count_substring(s)"
   ]
  },
  {
   "cell_type": "markdown",
   "metadata": {},
   "source": [
    "#### Q11. Write the Python program to count repeated characters in a string.\n",
    "Sample string: ' thequickbrownjumpsoverthelazydog ' Expected output: o 3 e 3 u 2 h 2 r 2 t 2"
   ]
  },
  {
   "cell_type": "code",
   "execution_count": 42,
   "metadata": {},
   "outputs": [
    {
     "name": "stdout",
     "output_type": "stream",
     "text": [
      " c:17 b:15 d:19 a:12\n"
     ]
    }
   ],
   "source": [
    "s=\"thequickbrownjumpsoverthelazydog\"\n",
    "s1=\"aaaaaaaaaaaabbbbbbbbbbbbbbbcccccccccccccccccddddddddddddddddddd\"\n",
    "def count_char(s):\n",
    "    strng=''\n",
    "    for i in range(len(s)):\n",
    "        strng= strng + s[i] +\":\" + str(s.count(s[i]))+ \" \"\n",
    "    print(' '.join(set(strng.split(\" \"))))  \n",
    "    \n",
    "count_char(s1)"
   ]
  },
  {
   "cell_type": "markdown",
   "metadata": {},
   "source": [
    "#### Q12. Write the Python program to print the square and cube symbol in the area of a rectangle and volume of a cylinder? \n",
    "Sample output- The area of the rectangle is 1256.66cm2 The volume of the cylinder is 1254.725cm3"
   ]
  },
  {
   "cell_type": "code",
   "execution_count": 57,
   "metadata": {},
   "outputs": [
    {
     "name": "stdout",
     "output_type": "stream",
     "text": [
      "The area of rectangle is 1256.67cm²\n",
      "The volume of cylinder is 1254.726cm³\n"
     ]
    }
   ],
   "source": [
    "area = 1256.666666\n",
    "volume = 1254.72555555\n",
    "def area_volume(a,v):\n",
    "    print(\"The area of rectangle is {0:.{1}f}cm\\u00b2\".format(area,2)) \n",
    "    print(\"The volume of cylinder is {0:.{1}f}cm\\u00b3\".format(volume,3))\n",
    "\n",
    "area_volume(area,volume)  "
   ]
  },
  {
   "cell_type": "markdown",
   "metadata": {},
   "source": [
    "#### Q13. Write the Python program to check if a string contains all letters of the alphabet?"
   ]
  },
  {
   "cell_type": "code",
   "execution_count": 60,
   "metadata": {},
   "outputs": [
    {
     "name": "stdout",
     "output_type": "stream",
     "text": [
      "True\n",
      "False\n"
     ]
    }
   ],
   "source": [
    "import string\n",
    "\n",
    "str1 = 'The quick brown fox jumps over the lazy dog' \n",
    "str2 = 'Yellow Blue Green'\n",
    "def check_all_letters(strn):\n",
    "    alphabet = string.ascii_lowercase \n",
    "    print(set(strn.lower()) >= set(alphabet))\n",
    "    \n",
    "check_all_letters(str1)\n",
    "check_all_letters(str2)"
   ]
  },
  {
   "cell_type": "markdown",
   "metadata": {},
   "source": [
    "#### Q14. Write the Python program to find the second most repeated word in a given string?"
   ]
  },
  {
   "cell_type": "code",
   "execution_count": 39,
   "metadata": {},
   "outputs": [
    {
     "name": "stdout",
     "output_type": "stream",
     "text": [
      "('for', 2)\n"
     ]
    }
   ],
   "source": [
    "input_string='Work for many but work for you will be good work'\n",
    "def word_count(strn): \n",
    "    counts = dict() \n",
    "    words = strn.split()\n",
    "    for w in words: \n",
    "        if w in counts: \n",
    "            counts[w] = counts[w]+1 \n",
    "        else: counts[w] = 1\n",
    "    counts_x = sorted(counts.items(), key=lambda kv: kv[1]) \n",
    "    return counts_x[-2]\n",
    "print(word_count(input_string))"
   ]
  },
  {
   "cell_type": "markdown",
   "metadata": {},
   "source": [
    "#### Q15. Write the Python program to find the minimum window in the given string, which will contains all the characters of another given strings?\n",
    "Example 1 Input : string1 = \" PRWSOERIUSFK \" string2 = \" OSU \" Output: Minimum window is \"OERIUS\""
   ]
  },
  {
   "cell_type": "code",
   "execution_count": 62,
   "metadata": {},
   "outputs": [
    {
     "data": {
      "text/plain": [
       "'OERIUS'"
      ]
     },
     "execution_count": 62,
     "metadata": {},
     "output_type": "execute_result"
    }
   ],
   "source": [
    "import collections\n",
    "string1= \"PRWSOERIUSFK\"\n",
    "string2= \"OSU\"\n",
    "def min_window(str1, str2): \n",
    "    result_char, missing_char = collections.Counter(str2), len(str2) \n",
    "    i = p = q = 0 \n",
    "    for j, c in enumerate(str1, 1): \n",
    "        missing_char -= result_char[c] > 0 \n",
    "        result_char[c] -= 1 \n",
    "        if not missing_char: \n",
    "            while i < q and result_char[str1[i]] < 0:\n",
    "                result_char[str1[i]] += 1 \n",
    "                i += 1 \n",
    "            if not q or j - i <= q - p: \n",
    "                p, q = i, j \n",
    "    return str1[p:q]\n",
    "min_window(string1, string2)"
   ]
  },
  {
   "cell_type": "markdown",
   "metadata": {},
   "source": [
    "#### Q16. Write the Python program to find smallest window that contains all characters of the given string?\n",
    "Original Strings: asdaewsqgtwwsa Smallest window that contains all characters of the said string:Daewsqgt"
   ]
  },
  {
   "cell_type": "code",
   "execution_count": 49,
   "metadata": {},
   "outputs": [
    {
     "name": "stdout",
     "output_type": "stream",
     "text": [
      "Original String: asdaewsqgtwwsa\n",
      "Smallest window: edaswqtg\n"
     ]
    }
   ],
   "source": [
    "s1=\"asdaewsqgtwwsa\"\n",
    "def smallest_window(s):\n",
    "    strng=''\n",
    "    for i in range(len(s)):\n",
    "        strng= strng + s[i]+\" \"\n",
    "    print('Original String: '+s1)\n",
    "    print('Smallest window: '+''.join(set(strng.split(\" \"))))  \n",
    "    \n",
    "smallest_window(s1)"
   ]
  },
  {
   "cell_type": "markdown",
   "metadata": {},
   "source": [
    "#### Q17. Write the Python program to count number of substrings from a given string of lowercase alphabets with exactly k distinct (given) characters?\n",
    "Input a string (lowercase alphabets): wolf Input k: 4 Number of substrings with exactly 4 distinct characters: 1"
   ]
  },
  {
   "cell_type": "code",
   "execution_count": 3,
   "metadata": {},
   "outputs": [
    {
     "name": "stdout",
     "output_type": "stream",
     "text": [
      "Enter the string in lowercase: wolf\n",
      "Enter the value for k: 4\n",
      "Number of subsbtrings with exactly 4 different characters: 1\n"
     ]
    }
   ],
   "source": [
    "string = input(\"Enter the string in lowercase: \")\n",
    "k = int(input(\"Enter the value for k: \"))\n",
    "count=0\n",
    "l = string.split()\n",
    "for el in l:\n",
    "    n = len(set(el))\n",
    "    if(n==k):\n",
    "        count+=1\n",
    "\n",
    "print(\"Number of subsbtrings with exactly\",k,\"different characters:\",count)"
   ]
  },
  {
   "cell_type": "markdown",
   "metadata": {},
   "source": [
    "#### Q18. Write the Python program to count number of non-empty substrings of the given string? \n",
    "Input a string: w3resource Number of substrings: 55"
   ]
  },
  {
   "cell_type": "code",
   "execution_count": 4,
   "metadata": {},
   "outputs": [
    {
     "name": "stdout",
     "output_type": "stream",
     "text": [
      "Input a string: w3resource\n",
      "Number of substrings: \n",
      "55\n"
     ]
    }
   ],
   "source": [
    "def number_of_substrings(str): \n",
    "    str_len = len(str)\n",
    "    return int(str_len * (str_len + 1) / 2)\n",
    "\n",
    "str1 = input(\"Input a string: \")\n",
    "print(\"Number of substrings: \") \n",
    "print(number_of_substrings(str1))"
   ]
  },
  {
   "cell_type": "markdown",
   "metadata": {},
   "source": [
    "#### Q19. Write the Python program to count number of substrings with same first and last characters of the given string?\n",
    "Input a string: abcd 4"
   ]
  },
  {
   "cell_type": "code",
   "execution_count": 5,
   "metadata": {},
   "outputs": [
    {
     "name": "stdout",
     "output_type": "stream",
     "text": [
      "Input a string: abcd\n",
      "4\n"
     ]
    }
   ],
   "source": [
    "def no_of_substring_with_equalEnds(str1): \n",
    "    result = 0; \n",
    "    n = len(str1); \n",
    "    for i in range(n): \n",
    "        for j in range(i, n): \n",
    "            if (str1[i] == str1[j]):\n",
    "                result = result + 1\n",
    "    return result \n",
    "str1 = input(\"Input a string: \")\n",
    "print(no_of_substring_with_equalEnds(str1))"
   ]
  },
  {
   "cell_type": "markdown",
   "metadata": {},
   "source": [
    "#### Q20. Write the Python program to count the number of strings where the string length is 2 or more, and first and last character are same from a given list of strings.\n",
    "Sample List : ['abc', 'xyz', 'wxw', '1331'] Expected Result: 2"
   ]
  },
  {
   "cell_type": "code",
   "execution_count": 9,
   "metadata": {},
   "outputs": [
    {
     "data": {
      "text/plain": [
       "2"
      ]
     },
     "execution_count": 9,
     "metadata": {},
     "output_type": "execute_result"
    }
   ],
   "source": [
    "words=['abc', 'xyz', 'wxw', '1221']\n",
    "def match_words(words): \n",
    "    x = 0\n",
    "    for word in words: \n",
    "        if len(word) > 1 and word[0] == word[-1]: \n",
    "            x = x + 1 \n",
    "    return x\n",
    "#print(match_words(['abc', 'xyz', 'aba', '1221']))\n",
    "match_words(words)"
   ]
  },
  {
   "cell_type": "markdown",
   "metadata": {},
   "source": [
    "#### Q21. Write the Python program to get a list, sorted in increasing order by the last element in each tuple from the given list of non-empty tuples?\n",
    "Sample List - [ (2, 5), (1, 2), (4, 4), (2, 3), (2, 1) ] Expected Result - [ (2, 1), (1, 2), (2, 3), (4, 4), (2, 5) ]"
   ]
  },
  {
   "cell_type": "code",
   "execution_count": 2,
   "metadata": {},
   "outputs": [
    {
     "name": "stdout",
     "output_type": "stream",
     "text": [
      "[(1, 0), (2, 1), (1, 2), (2, 3), (4, 4), (2, 5)]\n"
     ]
    }
   ],
   "source": [
    "l1= [(2, 5), (1, 2), (4, 4), (2, 3), (2, 1) ,(1,0)]\n",
    "l2=[]\n",
    "x = len(l1)\n",
    "s = l1[0][1]\n",
    "for i in range(0,x):\n",
    "    l = len(l1)\n",
    "    s = l1[0][1]\n",
    "    for j in range(0,l):\n",
    "        if(s>=l1[j][1]):\n",
    "            #print(\"i is \",i)\n",
    "            s = l1[j][1]\n",
    "            y=j\n",
    "            \n",
    "    #print(s) \n",
    "    l2.append(l1[y])        \n",
    "    l1.remove(l1[y])\n",
    "    ##print(\"l1 is\",l1)\n",
    "print(l2)"
   ]
  },
  {
   "cell_type": "markdown",
   "metadata": {},
   "source": [
    "#### Q22. Write the Python program to remove duplicates from a list? "
   ]
  },
  {
   "cell_type": "code",
   "execution_count": 3,
   "metadata": {},
   "outputs": [
    {
     "name": "stdout",
     "output_type": "stream",
     "text": [
      "[1, 2, 3, 4]\n"
     ]
    }
   ],
   "source": [
    "l1 = [1,1,2,2,3,4]\n",
    "l = list(set(l1))\n",
    "print(l)"
   ]
  },
  {
   "cell_type": "markdown",
   "metadata": {},
   "source": [
    "#### Q23. Write the Python program to find the list of words that are longer than n from a given list of words?"
   ]
  },
  {
   "cell_type": "code",
   "execution_count": 11,
   "metadata": {},
   "outputs": [
    {
     "data": {
      "text/plain": [
       "['quick', 'brown', 'jumps', 'over', 'lazy']"
      ]
     },
     "execution_count": 11,
     "metadata": {},
     "output_type": "execute_result"
    }
   ],
   "source": [
    "def long_words(n, str): \n",
    "    word_len = [] \n",
    "    txt = str.split(\" \") \n",
    "    for x in txt: \n",
    "        if len(x) > n: \n",
    "            word_len.append(x) \n",
    "    return word_len \n",
    "\n",
    "long_words(3, \"The quick brown fox jumps over the lazy dog\")"
   ]
  },
  {
   "cell_type": "markdown",
   "metadata": {},
   "source": [
    "#### Q24. Write the Python program to print a specified list after removing the 0th, 4th, and 5th elements?\n",
    "Sample List - ['Red', 'Green', 'White', 'Black', 'Pink', 'Yellow'] Expected Output - ['Green', 'White', 'Black']"
   ]
  },
  {
   "cell_type": "code",
   "execution_count": 12,
   "metadata": {},
   "outputs": [
    {
     "name": "stdout",
     "output_type": "stream",
     "text": [
      "['Green', 'White', 'Black']\n"
     ]
    }
   ],
   "source": [
    "color = ['Red', 'Green', 'White', 'Black', 'Pink', 'Yellow'] \n",
    "color = [x for (i,x) in enumerate(color) if i not in (0,4,5)] \n",
    "print(color)"
   ]
  },
  {
   "cell_type": "markdown",
   "metadata": {},
   "source": [
    "#### Q25. Write the Python program to generate all permutations of a list in Python?"
   ]
  },
  {
   "cell_type": "code",
   "execution_count": 14,
   "metadata": {},
   "outputs": [
    {
     "name": "stdout",
     "output_type": "stream",
     "text": [
      "[(1, 2, 3), (1, 3, 2), (2, 1, 3), (2, 3, 1), (3, 1, 2), (3, 2, 1)]\n"
     ]
    }
   ],
   "source": [
    "import itertools \n",
    "print(list(itertools.permutations([1,2,3])))"
   ]
  },
  {
   "cell_type": "markdown",
   "metadata": {},
   "source": [
    "#### Q26. Write the Python program to convert a pair of values into a sorted unique array? \n",
    "Original List- [ (1, 2), (3, 4), (1, 2), (5, 6), (7, 8), (1, 2), (3, 4), (3, 4), (7, 8), (9, 10) ] Sorted Unique Data- [ 1, 2, 3, 4, 5, 6, 7, 8, 9, 10 ]"
   ]
  },
  {
   "cell_type": "code",
   "execution_count": 13,
   "metadata": {},
   "outputs": [
    {
     "name": "stdout",
     "output_type": "stream",
     "text": [
      "Original List:  [(1, 2), (3, 4), (1, 2), (5, 6), (7, 8), (1, 2), (3, 4), (3, 4), (7, 8), (9, 10)]\n",
      "Sorted Unique Data: [1, 2, 3, 4, 5, 6, 7, 8, 9, 10]\n"
     ]
    }
   ],
   "source": [
    "L = [(1, 2), (3, 4), (1, 2), (5, 6), (7, 8), (1, 2), (3, 4), (3, 4), (7, 8), (9, 10)] \n",
    "print(\"Original List: \", L) \n",
    "print(\"Sorted Unique Data:\",sorted(set().union(*L)))"
   ]
  },
  {
   "cell_type": "markdown",
   "metadata": {},
   "source": [
    "#### Q27. Write the Python class to convert an integer to a roman numeral?"
   ]
  },
  {
   "cell_type": "code",
   "execution_count": 24,
   "metadata": {},
   "outputs": [
    {
     "data": {
      "text/plain": [
       "'XCI'"
      ]
     },
     "execution_count": 24,
     "metadata": {},
     "output_type": "execute_result"
    }
   ],
   "source": [
    "class IntRoman(): \n",
    "    def int_to_roman(self, num): \n",
    "        val = [ 1000, 900, 500, 400, 100, 90, 50, 40, 10, 9, 5, 4, 1 ] \n",
    "        char = [ \"M\", \"CM\", \"D\", \"CD\", \"C\", \"XC\", \"L\", \"XL\", \"X\", \"IX\", \"V\", \"IV\", \"I\" ] \n",
    "        roman_num = '' \n",
    "        i=0\n",
    "        while num > 0: \n",
    "            for _ in range(num // val[i]): \n",
    "                roman_num += char[i] \n",
    "                num -= val[i] \n",
    "            i += 1 \n",
    "        return roman_num\n",
    "    \n",
    "IntRoman().int_to_roman(91)"
   ]
  },
  {
   "cell_type": "markdown",
   "metadata": {},
   "source": [
    "#### Q28 Write the Python class to convert a Roman numeral to an integer?"
   ]
  },
  {
   "cell_type": "code",
   "execution_count": 25,
   "metadata": {},
   "outputs": [
    {
     "data": {
      "text/plain": [
       "3986"
      ]
     },
     "execution_count": 25,
     "metadata": {},
     "output_type": "execute_result"
    }
   ],
   "source": [
    "class RomanInt(): \n",
    "    def roman_to_int(self, s): \n",
    "        rom = {'I': 1, 'V': 5, 'X': 10, 'L': 50, 'C': 100, 'D': 500, 'M': 1000}\n",
    "        int_val = 0 \n",
    "        for i in range(len(s)): \n",
    "            if i > 0 and rom[s[i]] > rom[s[i - 1]]: \n",
    "                int_val += rom[s[i]] - 2 * rom[s[i - 1]] \n",
    "            else: int_val += rom[s[i]] \n",
    "        return int_val\n",
    "\n",
    "RomanInt().roman_to_int('MMMCMLXXXVI')"
   ]
  },
  {
   "cell_type": "markdown",
   "metadata": {},
   "source": [
    "#### Q29. Write the Python class to find the validity of the string of the parentheses, '(', ')', '{', '}', '[' and '] and the brackets must be closed in the correct order, example - \"()\" and \"()[]{}\" are valid but \"[)\", \"({[)]\" and \"{{{\" are invalid."
   ]
  },
  {
   "cell_type": "code",
   "execution_count": 31,
   "metadata": {},
   "outputs": [
    {
     "name": "stdout",
     "output_type": "stream",
     "text": [
      "True\n",
      "False\n"
     ]
    }
   ],
   "source": [
    "class Bracket_test(): \n",
    "    def is_valid_parentheses(self, str1): \n",
    "        stack, pchar = [], {\"(\": \")\", \"{\": \"}\", \"[\": \"]\"} \n",
    "        for parentheses in str1: \n",
    "            if parentheses in pchar: \n",
    "                stack.append(parentheses) \n",
    "            elif len(stack) == 0 or pchar[stack.pop()] != parentheses: \n",
    "                return False \n",
    "        return len(stack) == 0\n",
    "    \n",
    "print(Bracket_test().is_valid_parentheses(\"(){}[]\"))\n",
    "print(Bracket_test().is_valid_parentheses(\"()[{)\"))"
   ]
  },
  {
   "cell_type": "markdown",
   "metadata": {},
   "source": [
    "#### Q30. Write the Python class to get all possible unique subsets from a set of distinct integers?\n",
    "Input - [4, 5, 6] Output - [[], [6], [5], [5, 6], [4], [4, 6], [4, 5], [4, 5, 6]]"
   ]
  },
  {
   "cell_type": "code",
   "execution_count": 50,
   "metadata": {},
   "outputs": [
    {
     "data": {
      "text/plain": [
       "[[], [6], [5], [5, 6], [4], [4, 6], [4, 5], [4, 5, 6]]"
      ]
     },
     "execution_count": 50,
     "metadata": {},
     "output_type": "execute_result"
    }
   ],
   "source": [
    "class distinct_subsets(): \n",
    "    def sub_sets(self, sset): \n",
    "        return self.subsetsRecur([], sorted(sset))\n",
    "    def subsetsRecur(self, current, sset): \n",
    "        if sset: \n",
    "            return self.subsetsRecur(current, sset[1:]) + self.subsetsRecur(current + [sset[0]], sset[1:]) \n",
    "        return [current]\n",
    "distinct_subsets().sub_sets([4,5,6])"
   ]
  },
  {
   "cell_type": "markdown",
   "metadata": {},
   "source": [
    "#### Q31. Write the Python class to find a pair of elements (indices of the two numbers) from a given array whose sum equals the specific target number?\n",
    "Input: numbers- [10,20,10,40,50,60,70], target=50 Output- 3, 4"
   ]
  },
  {
   "cell_type": "code",
   "execution_count": 54,
   "metadata": {},
   "outputs": [
    {
     "name": "stdout",
     "output_type": "stream",
     "text": [
      "(0, 1)\n"
     ]
    }
   ],
   "source": [
    "class pair_of_elements: \n",
    "    def twoSum(self, nums, target): \n",
    "        lookup = {} \n",
    "        for i, num in enumerate(nums): \n",
    "            if target - num in lookup: \n",
    "                return (lookup[target - num], i ) \n",
    "            lookup[num] = i \n",
    "\n",
    "print(pair_of_elements().twoSum((10,20,10,40,50,60,70),30))"
   ]
  },
  {
   "cell_type": "markdown",
   "metadata": {},
   "source": [
    "#### Q32. Write the Python class to find the three elements that sum to zero from the set of n real numbers?\n",
    "Input array- [-25, -10, -7, -3, 2, 4, 8, 10] Output - [[-10, 2, 8], [-7, -3, 10]]"
   ]
  },
  {
   "cell_type": "code",
   "execution_count": 56,
   "metadata": {},
   "outputs": [
    {
     "name": "stdout",
     "output_type": "stream",
     "text": [
      "[[-10, 2, 8], [-7, -3, 10]]\n"
     ]
    }
   ],
   "source": [
    "class sum_to_zero: \n",
    "    def threeSum(self, nums): \n",
    "        nums, result, i = sorted(nums), [], 0 \n",
    "        while i < len(nums) - 2: \n",
    "            j, k = i + 1, len(nums) - 1 \n",
    "            while j < k: \n",
    "                if nums[i] + nums[j] + nums[k] < 0: \n",
    "                    j += 1 \n",
    "                elif nums[i] + nums[j] + nums[k] > 0:\n",
    "                    k -= 1 \n",
    "                else: result.append([nums[i], nums[j], nums[k]]) \n",
    "                j, k = j + 1, k - 1 \n",
    "                while j < k and nums[j] == nums[j - 1]: \n",
    "                    j += 1 \n",
    "                while j < k and nums[k] == nums[k + 1]: \n",
    "                    k -= 1 \n",
    "            i += 1 \n",
    "            while i < len(nums) - 2 and nums[i] == nums[i - 1]: \n",
    "                i += 1 \n",
    "        return result \n",
    "print(sum_to_zero().threeSum([-25, -10, -7, -3, 2, 4, 8, 10]))"
   ]
  },
  {
   "cell_type": "markdown",
   "metadata": {},
   "source": [
    "#### Q33. Write the Python class to implement pow(x, n)?"
   ]
  },
  {
   "cell_type": "code",
   "execution_count": 60,
   "metadata": {},
   "outputs": [
    {
     "name": "stdout",
     "output_type": "stream",
     "text": [
      "0.125\n",
      "243\n",
      "1\n"
     ]
    }
   ],
   "source": [
    "class Solution(): \n",
    "    def pow(self, x, n): \n",
    "        if x==0 or x==1 or n==1: \n",
    "            return x\n",
    "        if x==-1: \n",
    "            if n%2 ==0: \n",
    "                return 1 \n",
    "            else: \n",
    "                return -1 \n",
    "        if n==0: \n",
    "            return 1 \n",
    "        if n<0: \n",
    "            return 1/self.pow(x,-n) \n",
    "        val = self.pow(x,n//2) \n",
    "        if n%2 ==0:\n",
    "            return val*val \n",
    "        return val*val*x\n",
    "print(Solution().pow(2, -3)) \n",
    "print(Solution().pow(3, 5)) \n",
    "print(Solution().pow(100, 0))"
   ]
  },
  {
   "cell_type": "markdown",
   "metadata": {},
   "source": [
    "#### Q34. Write the Python class which has two methods get_String and print_String. get_String accept the string from the user and print_String print the string in upper case."
   ]
  },
  {
   "cell_type": "code",
   "execution_count": null,
   "metadata": {
    "collapsed": true
   },
   "outputs": [],
   "source": [
    "class String():\n",
    "    def __init__(self):\n",
    "        self.s = \"\"\n",
    "    def get_String(self):\n",
    "        self.s = input(\"Enter the string: \")\n",
    "    def print_String(self):\n",
    "        print(self.s.upper())\n",
    "        \n",
    "    \n",
    "obj = String()\n",
    "obj.get_String()\n",
    "obj.print_String()"
   ]
  },
  {
   "cell_type": "markdown",
   "metadata": {},
   "source": [
    "#### Q35. Write the Python class named Rectangle constructed by a length and width and the method which will compute the area of the rectangle?"
   ]
  },
  {
   "cell_type": "code",
   "execution_count": 2,
   "metadata": {},
   "outputs": [
    {
     "name": "stdout",
     "output_type": "stream",
     "text": [
      "375\n"
     ]
    }
   ],
   "source": [
    "class Rectangle(): \n",
    "    def __init__(self, l, w): \n",
    "        self.length = l \n",
    "        self.width = w \n",
    "    def rectangle_area(self): \n",
    "        return self.length*self.width\n",
    "    \n",
    "rec = Rectangle(15, 25) \n",
    "print(rec.rectangle_area())"
   ]
  },
  {
   "cell_type": "markdown",
   "metadata": {},
   "source": [
    "#### Q36. Write the Python class named Circle constructed by the radius and two methods which will compute the area and perimeter of the circle?"
   ]
  },
  {
   "cell_type": "code",
   "execution_count": 7,
   "metadata": {},
   "outputs": [
    {
     "name": "stdout",
     "output_type": "stream",
     "text": [
      "803.84\n",
      "100.48\n"
     ]
    }
   ],
   "source": [
    "class Circle(): \n",
    "    def __init__(self, r): \n",
    "        self.radius = r\n",
    "    def area(self): \n",
    "        return self.radius**2*3.14\n",
    "    def perimeter(self): \n",
    "        return 2*self.radius*3.14\n",
    "cir = Circle(16) \n",
    "print(cir.area()) \n",
    "print(cir.perimeter())"
   ]
  },
  {
   "cell_type": "markdown",
   "metadata": {},
   "source": [
    "#### Q37. Write the Python program to get the class name of an instance in Python?"
   ]
  },
  {
   "cell_type": "code",
   "execution_count": 8,
   "metadata": {},
   "outputs": [
    {
     "name": "stdout",
     "output_type": "stream",
     "text": [
      "cycle\n"
     ]
    }
   ],
   "source": [
    "import itertools \n",
    "x = itertools.cycle('ABCD') \n",
    "print(type(x).__name__)"
   ]
  },
  {
   "cell_type": "markdown",
   "metadata": {},
   "source": [
    "####  Q38. Write the Python program to count the number of students of individual class?\n",
    "Sample data- classes = ( ('V', 1), ('VI', 1), ('V', 2), ('VI', 2), ('VI', 3), ('VII', 1), ) Expected Output- Counter({'VI': 3, 'V': 2, 'VII': 1})"
   ]
  },
  {
   "cell_type": "code",
   "execution_count": 9,
   "metadata": {},
   "outputs": [
    {
     "name": "stdout",
     "output_type": "stream",
     "text": [
      "Counter({'VI': 3, 'V': 2, 'VII': 1})\n"
     ]
    }
   ],
   "source": [
    "from collections import Counter \n",
    "classes = ( ('V', 1), ('VI', 1), ('V', 2), ('VI', 2), ('VI', 3), ('VII', 1),) \n",
    "students = Counter(class_name for class_name, no_students in classes) \n",
    "print(students)"
   ]
  },
  {
   "cell_type": "markdown",
   "metadata": {},
   "source": [
    "#### Q39. Write the Python program to create an instance of an OrderedDict using the given dictionary and sort dictionary during the creation and print members of the dictionary in reverse order?\n",
    "Expected Output- Angola 244. Andorra 376. Algeria 213. Afghanistan 93. Albania 355. In reverse order- Albania 355. Afghanistan 93. Algeria 213. Andorra 376. Angola 244."
   ]
  },
  {
   "cell_type": "code",
   "execution_count": 10,
   "metadata": {},
   "outputs": [
    {
     "name": "stdout",
     "output_type": "stream",
     "text": [
      "Albania 355\n",
      "Afghanistan 93\n",
      "Algeria 213\n",
      "Andorra 376\n",
      "Angola 244\n",
      "\n",
      "In reverse order:\n",
      "Angola 244\n",
      "Andorra 376\n",
      "Algeria 213\n",
      "Afghanistan 93\n",
      "Albania 355\n"
     ]
    }
   ],
   "source": [
    "from collections import OrderedDict \n",
    "dict = {'Albania': 355, 'Afghanistan': 93, 'Algeria': 213, 'Andorra': 376, 'Angola': 244}\n",
    "new_dict = OrderedDict(dict.items()) \n",
    "for key in new_dict: \n",
    "    print (key, new_dict[key])\n",
    "print(\"\\nIn reverse order:\") \n",
    "for key in reversed(new_dict): \n",
    "    print (key, new_dict[key])"
   ]
  },
  {
   "cell_type": "markdown",
   "metadata": {},
   "source": [
    "#### Q40. Write the Python program to compare two unordered lists (not sets)?\n",
    "Expected Output: False"
   ]
  },
  {
   "cell_type": "code",
   "execution_count": 11,
   "metadata": {},
   "outputs": [
    {
     "name": "stdout",
     "output_type": "stream",
     "text": [
      "False\n"
     ]
    }
   ],
   "source": [
    "from collections import Counter \n",
    "def compare_lists(x, y): \n",
    "    return Counter(x) == Counter(y) \n",
    "n1 = [20, 10, 30, 10, 20, 30] \n",
    "n2 = [30, 20, 10, 30, 20, 50] \n",
    "print(compare_lists(n1, n2))"
   ]
  },
  {
   "cell_type": "markdown",
   "metadata": {},
   "source": [
    "#### Q41. Write the Python program to get an array buffer information? \n",
    "Expected Output- Array buffer start address in memory and number of elements. (25855056, 2)"
   ]
  },
  {
   "cell_type": "code",
   "execution_count": 13,
   "metadata": {},
   "outputs": [
    {
     "name": "stdout",
     "output_type": "stream",
     "text": [
      "Array buffer start address in memory and number of elements.\n",
      "(1947236041144, 2)\n"
     ]
    }
   ],
   "source": [
    "from array import array \n",
    "a = array(\"I\", (12,25)) \n",
    "print(\"Array buffer start address in memory and number of elements.\") \n",
    "print(a.buffer_info())"
   ]
  },
  {
   "cell_type": "markdown",
   "metadata": {},
   "source": [
    "#### Q42. Write the Python program to convert an array to an array of machine values and return the bytes representation?\n",
    "Expected Output- Original array- A1: array('i', [1, 2, 3, 4, 5, 6]) Array of bytes: b'010000000200000003000000040000000500000006000000'"
   ]
  },
  {
   "cell_type": "code",
   "execution_count": 19,
   "metadata": {},
   "outputs": [
    {
     "name": "stdout",
     "output_type": "stream",
     "text": [
      "Original array-A1: array('i', [1, 2, 3, 4, 5, 6])\n",
      "Array of bytes: b'010000000200000003000000040000000500000006000000'\n"
     ]
    }
   ],
   "source": [
    "import array \n",
    "import binascii \n",
    "a = array.array('i', [1,2,3,4,5,6]) \n",
    "print(\"Original array-A1:\",a)  \n",
    "bytes_array = a.tobytes() \n",
    "print('Array of bytes:', binascii.hexlify(bytes_array))"
   ]
  },
  {
   "cell_type": "markdown",
   "metadata": {},
   "source": [
    "#### Q43. Write the Python program to read a string and interpreting the string as an array of machine values?\n",
    "Expected Output- array1- array('i', [7, 8, 9, 10]) Bytes- b'0700000008000000090000000a000000' array2- array('i', [7, 8, 9, 10])"
   ]
  },
  {
   "cell_type": "code",
   "execution_count": 20,
   "metadata": {},
   "outputs": [
    {
     "name": "stdout",
     "output_type": "stream",
     "text": [
      "array1: array('i', [7, 8, 9, 10])\n",
      "Bytes: b'0700000008000000090000000a000000'\n",
      "array2: array('i', [7, 8, 9, 10])\n"
     ]
    }
   ],
   "source": [
    "from array import array \n",
    "import binascii \n",
    "array1 = array('i', [7, 8, 9, 10]) \n",
    "print('array1:', array1) \n",
    "as_bytes = array1.tobytes() \n",
    "print('Bytes:', binascii.hexlify(as_bytes)) \n",
    "array2 = array('i') \n",
    "array2.frombytes(as_bytes) \n",
    "print('array2:', array2)"
   ]
  },
  {
   "cell_type": "markdown",
   "metadata": {},
   "source": [
    "#### Q44. Write the Python program to push three items into the heap and return the smallest item from the heap. Also, return and pop the smallest item from the heap?\n",
    "Expected Output- Items in the heap- ('VI', 1). ('VII', 3). ('VIII', 2). The smallest item in the heap: ('VI', 1). Pop the smallest item in the heap: ('VII', 2). ('VIII', 3)."
   ]
  },
  {
   "cell_type": "code",
   "execution_count": 27,
   "metadata": {},
   "outputs": [
    {
     "name": "stdout",
     "output_type": "stream",
     "text": [
      "Items in the heap:\n",
      "('VI', 1)\n",
      "('VIII', 2)\n",
      "('VII', 3)\n",
      "The smallest item in the heap: ('VI', 1)\n",
      "Pop the smallest item in the heap:\n",
      "('VII', 3)\n",
      "('VIII', 2)\n"
     ]
    }
   ],
   "source": [
    "import heapq \n",
    "heap = [] \n",
    "heapq.heappush(heap, ('VII', 3)) \n",
    "heapq.heappush(heap, ('VIII', 2)) \n",
    "heapq.heappush(heap, ('VI', 1))\n",
    "print(\"Items in the heap:\") \n",
    "for a in heap: print(a)\n",
    "print(\"The smallest item in the heap:\",heap[0]) \n",
    "print(\"Pop the smallest item in the heap:\") \n",
    "heapq.heappop(heap) \n",
    "for a in heap: print(a)"
   ]
  },
  {
   "cell_type": "markdown",
   "metadata": {},
   "source": [
    "#### Q45. Write the Python program to locate the left insertion point for a specified value in sorted order? \n",
    "Expected Output: 4 2"
   ]
  },
  {
   "cell_type": "code",
   "execution_count": 29,
   "metadata": {},
   "outputs": [
    {
     "name": "stdout",
     "output_type": "stream",
     "text": [
      "4\n",
      "2\n"
     ]
    }
   ],
   "source": [
    "import bisect \n",
    "def index(a, x): \n",
    "    i = bisect.bisect_left(a, x) \n",
    "    return i\n",
    "a=[1,2,3,4]\n",
    "print(index(a, 6)) \n",
    "print(index(a, 3))"
   ]
  },
  {
   "cell_type": "markdown",
   "metadata": {},
   "source": [
    "#### Q46. Write the Python program to create the FIFO queue? \n",
    "Expected Output: 0 1 2 3"
   ]
  },
  {
   "cell_type": "code",
   "execution_count": 31,
   "metadata": {},
   "outputs": [
    {
     "name": "stdout",
     "output_type": "stream",
     "text": [
      "0 1 2 3 "
     ]
    }
   ],
   "source": [
    "import queue \n",
    "q = queue.Queue() \n",
    "for x in range(4): \n",
    "    q.put(str(x)) \n",
    "while not q.empty(): \n",
    "    print(q.get(), end=\" \")"
   ]
  },
  {
   "cell_type": "markdown",
   "metadata": {},
   "source": [
    "#### Q47. Write the Python program to calculate the harmonic sum of n-1. \n",
    "Note: The harmonic sum is the sum of reciprocals of the positive Integers? EX: 1+1/2+1/3+1/4+....."
   ]
  },
  {
   "cell_type": "code",
   "execution_count": 33,
   "metadata": {},
   "outputs": [
    {
     "name": "stdout",
     "output_type": "stream",
     "text": [
      "2.8289682539682537\n",
      "2.083333333333333\n"
     ]
    }
   ],
   "source": [
    "def harmonic_sum(n): \n",
    "    if n < 2: \n",
    "        return 1 \n",
    "    else: \n",
    "        return 1 / n + (harmonic_sum(n - 1))\n",
    "print(harmonic_sum(9)) \n",
    "print(harmonic_sum(4))"
   ]
  },
  {
   "cell_type": "markdown",
   "metadata": {},
   "source": [
    "#### Q48. Write the NumPy program to create a 2d array with 6 on the border and 0 inside?\n",
    "Expected Output- Original array- [ [6 6 6 6 6] [ 6 6 6 6 6] [ 6 6 6 6 6 ] [ 6 6 6 6 6 ] [ 6 6 6 6 ] ].\n",
    "6 on the border and 0 inside in the array- [[ 6 6 6 6 6] [ 6 0 0 0 6] [ 6 0 0 0 6] [ 6 0 0 0 6] [ 6 6 6 6 6]]."
   ]
  },
  {
   "cell_type": "code",
   "execution_count": 37,
   "metadata": {},
   "outputs": [
    {
     "name": "stdout",
     "output_type": "stream",
     "text": [
      "Original array:\n",
      "[[ 6.  6.  6.  6.  6.]\n",
      " [ 6.  6.  6.  6.  6.]\n",
      " [ 6.  6.  6.  6.  6.]\n",
      " [ 6.  6.  6.  6.  6.]\n",
      " [ 6.  6.  6.  6.  6.]]\n",
      "6 on the border and 0 inside in the array\n",
      "[[ 6.  6.  6.  6.  6.]\n",
      " [ 6.  0.  0.  0.  6.]\n",
      " [ 6.  0.  0.  0.  6.]\n",
      " [ 6.  0.  0.  0.  6.]\n",
      " [ 6.  6.  6.  6.  6.]]\n"
     ]
    }
   ],
   "source": [
    "import numpy as np \n",
    "x = np.ones((5,5))\n",
    "print(\"Original array:\") \n",
    "print(x*6)\n",
    "print(\"6 on the border and 0 inside in the array\") \n",
    "x[1:-1,1:-1] = 0 \n",
    "print(x*6)"
   ]
  },
  {
   "cell_type": "markdown",
   "metadata": {},
   "source": [
    "#### Q49. Write the NumPy program to create a 8x8 matrix and fill it with the checkerboard pattern?\n",
    "Checkerboard pattern- [[3 9 3 9 3 9 3 9] [9 3 9 3 9 3 9 3] [3 9 3 9 3 9 3 9] [9 3 9 3 9 3 9 3] [3 9 3 9 3 9 3 9] [9 3 9 3 9 3 9 3] [3 9 3 9 3 9 3 9] [9 3 9 3 9 3 9 3]]."
   ]
  },
  {
   "cell_type": "code",
   "execution_count": 43,
   "metadata": {},
   "outputs": [
    {
     "name": "stdout",
     "output_type": "stream",
     "text": [
      "[[ 3.  9.  3.  9.  3.  9.  3.  9.]\n",
      " [ 9.  3.  9.  3.  9.  3.  9.  3.]\n",
      " [ 3.  9.  3.  9.  3.  9.  3.  9.]\n",
      " [ 9.  3.  9.  3.  9.  3.  9.  3.]\n",
      " [ 3.  9.  3.  9.  3.  9.  3.  9.]\n",
      " [ 9.  3.  9.  3.  9.  3.  9.  3.]\n",
      " [ 3.  9.  3.  9.  3.  9.  3.  9.]\n",
      " [ 9.  3.  9.  3.  9.  3.  9.  3.]]\n"
     ]
    }
   ],
   "source": [
    "x = np.ones((8,8))\n",
    "for i in range(0,8):\n",
    "    for j in range(0,8,2):\n",
    "        if(i%2==0):\n",
    "            x[i][j]=3\n",
    "            x[i][j+1]=9\n",
    "        else:\n",
    "            x[i][j]=9\n",
    "            x[i][j+1]=3\n",
    "print(x)"
   ]
  },
  {
   "cell_type": "markdown",
   "metadata": {},
   "source": [
    "#### Q50. Write the NumPy program to create an empty and a full array. \n",
    "Expected Output- [[4.45057637e-308 1.78021527e-306 8.45549797e-307 1.37962049e-306] [1.11260619e-306 1.78010255e-306 9.79054228e-307 4.45057637e-308] [8.45596650e-307 9.34602321e-307 4.94065646e-322 0.00000000e+000]] [[6 6 6] [6 6 6] [6 6 6]]"
   ]
  },
  {
   "cell_type": "code",
   "execution_count": 44,
   "metadata": {},
   "outputs": [
    {
     "name": "stdout",
     "output_type": "stream",
     "text": [
      "[[  9.62068977e-312   9.62068977e-312   9.62068977e-312   9.61264093e-312]\n",
      " [  9.62068977e-312   9.62068977e-312   9.62068977e-312   1.48219694e-323]\n",
      " [  4.66839074e-313   9.62068977e-312   8.39911598e-323   9.07000187e-315]]\n",
      "[[6 6 6]\n",
      " [6 6 6]\n",
      " [6 6 6]]\n"
     ]
    }
   ],
   "source": [
    "x = np.empty((3,4))\n",
    "print(x)\n",
    "y = np.full((3,3),6)\n",
    "print(y)"
   ]
  },
  {
   "cell_type": "markdown",
   "metadata": {},
   "source": [
    "#### Q51. Write the NumPy program to convert the values of Centigrade degrees into the Fahrenheit degrees and the centigrade values are stored in the NumPy array.\n",
    "Sample Array -[0, 12, 45.21 ,34, 99.91] Expected Output- Values in Fahrenheit degrees- [ 0. 12. 45.21 34. 99.91] Values in Centigrade degrees- [-17.77777778 -11.11111111 7.33888889 1.11111111 37.72777778]"
   ]
  },
  {
   "cell_type": "code",
   "execution_count": 45,
   "metadata": {},
   "outputs": [
    {
     "name": "stdout",
     "output_type": "stream",
     "text": [
      "[  0.    12.    45.21  34.    99.91]\n",
      "[-17.77777778 -11.11111111   7.33888889   1.11111111  37.72777778]\n"
     ]
    }
   ],
   "source": [
    "f = np.array([0, 12, 45.21 ,34, 99.91])\n",
    "l = len(f)\n",
    "print(f)\n",
    "lst =[]\n",
    "for i in range(0,l):\n",
    "    c = ((f[i]-32)*5)/9\n",
    "    lst.append(c)\n",
    "    \n",
    "c = np.array(lst)\n",
    "print(c)"
   ]
  },
  {
   "cell_type": "markdown",
   "metadata": {},
   "source": [
    "#### Q52. Write the NumPy program to find the real and imaginary parts of an array of complex numbers?\n",
    "Expected Output- Original array [ 1.00000000+0.j 0.70710678+0.70710678j] Real part of the array- [ 1. 0.70710678] Imaginary part of the array- [ 0. 0.70710678]"
   ]
  },
  {
   "cell_type": "code",
   "execution_count": 46,
   "metadata": {},
   "outputs": [
    {
     "name": "stdout",
     "output_type": "stream",
     "text": [
      "Original Array\n",
      "[ 1.00000000+0.j          0.70710678+0.70710678j]\n",
      "Real part of the array-\n",
      "[ 1.          0.70710678]\n",
      "Imaginary part of the array-\n",
      "[ 0.          0.70710678]\n"
     ]
    }
   ],
   "source": [
    "o = np.array([ 1.00000000+0.j, 0.70710678+0.70710678j])\n",
    "\n",
    "print(\"Original Array\")\n",
    "print(o)\n",
    "\n",
    "l = len(o)\n",
    "r=[]\n",
    "i=[]\n",
    "for j in range(0,l):\n",
    "    r.append(o[j].real)\n",
    "    i.append(o[j].imag)\n",
    "     \n",
    "print(\"Real part of the array-\")    \n",
    "print(np.array(r))\n",
    "print(\"Imaginary part of the array-\")\n",
    "print(np.array(i))"
   ]
  },
  {
   "cell_type": "markdown",
   "metadata": {},
   "source": [
    "#### Q53. Write the NumPy program to test whether each element of a 1-D array is also present in the second array?\n",
    "Expected Output- Array1: [ 0 10 20 40 60] Array2: [0, 40] Compare each element of array1 and array2 [ True False False True False]"
   ]
  },
  {
   "cell_type": "code",
   "execution_count": 47,
   "metadata": {},
   "outputs": [
    {
     "name": "stdout",
     "output_type": "stream",
     "text": [
      "['True', 'False', 'False', 'True', 'False']\n"
     ]
    }
   ],
   "source": [
    "array1 = np.array([ 0, 10, 20, 40, 60])\n",
    "array2 = np.array([0,40])\n",
    "l1 = len(array1)\n",
    "l2 = len(array2)\n",
    "op= []\n",
    "\n",
    "for i in range(0,l1):\n",
    "    flag=1\n",
    "    for j in range(0,l2):\n",
    "        if(array1[i]==array2[j]):\n",
    "            op.append('True')\n",
    "            flag=0\n",
    "    if(flag==1):\n",
    "        op.append('False')\n",
    "            \n",
    "print(op)"
   ]
  },
  {
   "cell_type": "markdown",
   "metadata": {},
   "source": [
    "#### Q54. Write the NumPy program to find common values between two arrays? \n",
    "Expected Output- Array1: [ 0 10 20 40 60] Array2: [10, 30, 40] Common values between two arrays- [10 40]"
   ]
  },
  {
   "cell_type": "code",
   "execution_count": 48,
   "metadata": {},
   "outputs": [
    {
     "name": "stdout",
     "output_type": "stream",
     "text": [
      "[10, 40]\n"
     ]
    }
   ],
   "source": [
    "array1 = np.array([ 0, 10, 20, 40, 60])\n",
    "array2 = np.array([10,30,40])\n",
    "l1 = len(array1)\n",
    "l2 = len(array2)\n",
    "op= []\n",
    "\n",
    "for i in range(0,l1):\n",
    "    flag=1\n",
    "    for j in range(0,l2):\n",
    "        if(array1[i]==array2[j]):\n",
    "            op.append(array1[i])\n",
    "            flag=0    \n",
    "print(op)"
   ]
  },
  {
   "cell_type": "markdown",
   "metadata": {},
   "source": [
    "#### Q55. Write the NumPy program to get the unique elements of an array?\n",
    "Expected Output- Original array- [10 10 20 20 30 30] Unique elements of the above array- [10 20 30]\n",
    "Original array- [[1 1] [2 3]] Unique elements of the above array- [1 2 3]"
   ]
  },
  {
   "cell_type": "code",
   "execution_count": 49,
   "metadata": {},
   "outputs": [
    {
     "name": "stdout",
     "output_type": "stream",
     "text": [
      "Original Array \n",
      " [10 10 20 20 30 30]\n",
      "Unique elements of the above array-\n",
      "[10 20 30]\n",
      "\n",
      "Original Array \n",
      " [[1 1]\n",
      " [2 3]]\n",
      "Unique elements of the above array-\n",
      "[1 2 3]\n"
     ]
    }
   ],
   "source": [
    "array1 = np.array([10, 10, 20, 20, 30, 30])\n",
    "print(\"Original Array \\n\",array1)\n",
    "print(\"Unique elements of the above array-\")\n",
    "print(np.unique(array1))\n",
    "\n",
    "array2 = np.array([[1, 1],[2 ,3]])\n",
    "print(\"\\nOriginal Array \\n\",array2)\n",
    "print(\"Unique elements of the above array-\")\n",
    "print(np.unique(array2))"
   ]
  },
  {
   "cell_type": "markdown",
   "metadata": {},
   "source": [
    "#### Q56. Write the NumPy program to find the set exclusive-or of two arrays. Set exclusive-or will return the sorted, unique values that are in only one (not both) of the input arrays?\n",
    "Array1- [ 0 10 20 40 60 80] Array2- [10, 30, 40, 50, 70] Unique values that are in only one (not both) of the input arrays- [ 0 20 30 50 60 70 80]"
   ]
  },
  {
   "cell_type": "code",
   "execution_count": 50,
   "metadata": {},
   "outputs": [
    {
     "name": "stdout",
     "output_type": "stream",
     "text": [
      "Array 1-  [ 0 10 20 40 60 80]\n",
      "Array 2-  [10 30 40 50 70]\n",
      "\n",
      "Unique values that are in only one (not both) of the input arrays:\n",
      "[ 0 20 30 50 60 70 80]\n"
     ]
    }
   ],
   "source": [
    "array1 = np.array( [ 0, 10, 20, 40, 60, 80])\n",
    "array2 = np.array([10, 30, 40, 50, 70])\n",
    "\n",
    "print(\"Array 1- \",array1)\n",
    "print(\"Array 2- \",array2)\n",
    "\n",
    "print(\"\\nUnique values that are in only one (not both) of the input arrays:\")\n",
    "print(np.setxor1d(array1, array2))"
   ]
  },
  {
   "cell_type": "markdown",
   "metadata": {},
   "source": [
    "#### Q57. Write the NumPy program to test if all elements in an array evaluate to True ? \n",
    "Note: 0 evaluates to False in NumPy."
   ]
  },
  {
   "cell_type": "code",
   "execution_count": 51,
   "metadata": {},
   "outputs": [
    {
     "name": "stdout",
     "output_type": "stream",
     "text": [
      "False\n",
      "True\n",
      "False\n",
      "True\n"
     ]
    }
   ],
   "source": [
    "import numpy as np\n",
    "print(np.all([[True,False],[True,True]]))\n",
    "print(np.all([[True,True],[True,True]]))\n",
    "print(np.all([10, 20, 0, -50]))\n",
    "print(np.all([10, 20, -50]))"
   ]
  },
  {
   "cell_type": "markdown",
   "metadata": {},
   "source": [
    "#### Q58 Write the NumPy program to test whether any array element along the given axis evaluates to True? \n",
    "Note: 0 evaluates to False in NumPy. "
   ]
  },
  {
   "cell_type": "code",
   "execution_count": 52,
   "metadata": {},
   "outputs": [
    {
     "name": "stdout",
     "output_type": "stream",
     "text": [
      "False\n",
      "True\n",
      "True\n",
      "True\n"
     ]
    }
   ],
   "source": [
    "import numpy as np\n",
    "print(np.any([[False,False],[False,False]]))\n",
    "print(np.any([[True,True],[True,True]]))\n",
    "print(np.any([10, 20, 0, -50]))\n",
    "print(np.any([10, 20, -50]))"
   ]
  },
  {
   "cell_type": "markdown",
   "metadata": {},
   "source": [
    "#### Q59. Write the NumPy program to construct an array by repeating? \n",
    "Sample array- [1, 2, 3, 4] Expected Output- Original array [1, 2, 3, 4] Repeating 2 times [1 2 3 4 1 2 3 4]\n",
    "Repeating 3 times [1 2 3 4 1 2 3 4 1 2 3 4]"
   ]
  },
  {
   "cell_type": "code",
   "execution_count": 53,
   "metadata": {},
   "outputs": [
    {
     "name": "stdout",
     "output_type": "stream",
     "text": [
      "Original array- \n",
      " [1 2 3 4]\n",
      "Repeating 2 times \n",
      " [1 2 3 4 1 2 3 4]\n",
      "Repeating 3 times \n",
      " [1 2 3 4 1 2 3 4 1 2 3 4]\n"
     ]
    }
   ],
   "source": [
    "a = np.array([1, 2, 3, 4])\n",
    "\n",
    "print(\"Original array- \\n\",a)\n",
    "print(\"Repeating 2 times \\n\",np.tile(a,2))\n",
    "print(\"Repeating 3 times \\n\",np.tile(a,3))"
   ]
  },
  {
   "cell_type": "markdown",
   "metadata": {},
   "source": [
    "#### Q60. Write the NumPy program to find the indices of the maximum and minimum values with the given axis of an array?\n",
    "Original array- [1 2 3 4 5 6] Maximum Values- 5 Minimum Values- 0"
   ]
  },
  {
   "cell_type": "code",
   "execution_count": 54,
   "metadata": {},
   "outputs": [
    {
     "name": "stdout",
     "output_type": "stream",
     "text": [
      "Original array-  [1 2 3 4 5 6]\n",
      "Maximum Values-  5\n",
      "Minimum Values-  0\n"
     ]
    }
   ],
   "source": [
    "import numpy as np\n",
    "x = np.array([1, 2, 3, 4, 5, 6])\n",
    "print(\"Original array- \",x)\n",
    "print(\"Maximum Values- \",np.argmax(x))\n",
    "print(\"Minimum Values- \",np.argmin(x))"
   ]
  },
  {
   "cell_type": "markdown",
   "metadata": {},
   "source": [
    "#### Q61. Write the NumPy program compare two arrays using numpy?\n",
    "Array a- [1 2] Array b- [4 5] a > b [False False] a >= b [False False] a < b [ True True] a <= b [ True True]"
   ]
  },
  {
   "cell_type": "code",
   "execution_count": 55,
   "metadata": {},
   "outputs": [
    {
     "name": "stdout",
     "output_type": "stream",
     "text": [
      "Array a-  [1 2]\n",
      "Array b-  [4 5]\n",
      "a > b\n",
      "[False False]\n",
      "a >= b\n",
      "[False False]\n",
      "a < b\n",
      "[ True  True]\n",
      "a <= b\n",
      "[ True  True]\n"
     ]
    }
   ],
   "source": [
    "a = np.array([1, 2])\n",
    "b = np.array([4, 5])\n",
    "print(\"Array a- \",a)\n",
    "print(\"Array b- \",b)\n",
    "print(\"a > b\")\n",
    "print(np.greater(a, b))\n",
    "print(\"a >= b\")\n",
    "print(np.greater_equal(a, b))\n",
    "print(\"a < b\")\n",
    "print(np.less(a, b))\n",
    "print(\"a <= b\")\n",
    "print(np.less_equal(a, b))"
   ]
  },
  {
   "cell_type": "markdown",
   "metadata": {},
   "source": [
    "#### Q62. Write the NumPy program to sort an along the first, last axis of an array? \n",
    "Sample array- [[2,5],[4,4]] Expected Output- Original array: [[4 6] [2 1]] Sort along the first axis: [[2 1] [4 6]] Sort along the last axis- [[1 2] [4 6]]"
   ]
  },
  {
   "cell_type": "code",
   "execution_count": 56,
   "metadata": {},
   "outputs": [
    {
     "name": "stdout",
     "output_type": "stream",
     "text": [
      "Original array: \n",
      "[[4 6]\n",
      " [2 1]]\n",
      "Sort along the first axis- \n",
      "[[2 1]\n",
      " [4 6]]\n",
      "Sort along the last axis- \n",
      "[[1 2]\n",
      " [4 6]]\n"
     ]
    }
   ],
   "source": [
    "import numpy as np\n",
    "a = np.array([[4, 6],[2, 1]])\n",
    "print(\"Original array: \")\n",
    "print(a)\n",
    "print(\"Sort along the first axis- \")\n",
    "x = np.sort(a, axis=0)\n",
    "print(x)\n",
    "print(\"Sort along the last axis- \")\n",
    "y = np.sort(x, axis=1)\n",
    "print(y)"
   ]
  },
  {
   "cell_type": "markdown",
   "metadata": {},
   "source": [
    "#### Q63. Write the NumPy program to sort pairs of first name and last name return their indices (first by last name, then by first name).\n",
    "first_names - ( Betsey, Shelley, Lanell, Genesis, Margery ) last_names - ( Battle, Brien, Plotner, Stahl, Woolum ) Expected Output- [1 3 2 4 0]"
   ]
  },
  {
   "cell_type": "code",
   "execution_count": 58,
   "metadata": {},
   "outputs": [
    {
     "name": "stdout",
     "output_type": "stream",
     "text": [
      "[1 3 2 4 0]\n"
     ]
    }
   ],
   "source": [
    "import numpy as np\n",
    "first_names =  ('Margery', 'Betsey', 'Shelley', 'Lanell', 'Genesis')\n",
    "last_names = ('Woolum', 'Battle', 'Plotner', 'Brien', 'Stahl')\n",
    "x = np.lexsort((first_names, last_names))\n",
    "print(x)"
   ]
  },
  {
   "cell_type": "markdown",
   "metadata": {},
   "source": [
    "#### Q64. Write the NumPy program to get the values and indices of the elements that are bigger than 10 in the given array? \n",
    "Original array- [[ 0 10 20] [20 30 40]] Values bigger than 10 = [20 20 30 40] Their indices are (array([0, 1, 1, 1]), array([2, 0, 1, 2]))"
   ]
  },
  {
   "cell_type": "code",
   "execution_count": 59,
   "metadata": {},
   "outputs": [
    {
     "name": "stdout",
     "output_type": "stream",
     "text": [
      "Original array: \n",
      "[[ 0 10 20]\n",
      " [20 30 40]]\n",
      "Values bigger than 10 = [20 20 30 40]\n",
      "Their indices are  (array([0, 1, 1, 1], dtype=int64), array([2, 0, 1, 2], dtype=int64))\n"
     ]
    }
   ],
   "source": [
    "x = np.array([[0, 10, 20], [20, 30, 40]])\n",
    "print(\"Original array: \")\n",
    "print(x)\n",
    "print(\"Values bigger than 10 =\", x[x>10])\n",
    "y = np.nonzero(x>10)\n",
    "print(\"Their indices are \", y)"
   ]
  },
  {
   "cell_type": "markdown",
   "metadata": {},
   "source": [
    "#### Q65. Write the NumPy program to find the memory size of a NumPy array? \n",
    "Expected Output- 128 bytes"
   ]
  },
  {
   "cell_type": "code",
   "execution_count": 60,
   "metadata": {},
   "outputs": [
    {
     "name": "stdout",
     "output_type": "stream",
     "text": [
      "128 bytes\n"
     ]
    }
   ],
   "source": [
    "import numpy as np\n",
    "n = np.zeros((4,4))\n",
    "print(\"%d bytes\" % (n.size * n.itemsize))"
   ]
  },
  {
   "cell_type": "markdown",
   "metadata": {},
   "source": [
    "#### Q66. Write the NumPy program to create an array of ones and an array of zeros?\n",
    "Expected Output- Create an array of zeros Default type is float [[ 0. 0.]] Type changes to int [[0 0]] Create an array of ones Default type is float [[ 1. 1.]] Type changes to int [[1 1]]"
   ]
  },
  {
   "cell_type": "code",
   "execution_count": 61,
   "metadata": {},
   "outputs": [
    {
     "name": "stdout",
     "output_type": "stream",
     "text": [
      "Create an array of zeros\n",
      "Default type is float \n",
      " [[ 0.  0.]]\n",
      "Type changes to int\n",
      " [[0 0]]\n",
      "Default type is float \n",
      " [[0 0]]\n",
      "Type changes to int\n",
      " [[1 1]]\n"
     ]
    }
   ],
   "source": [
    "print(\"Create an array of zeros\")\n",
    "x = np.zeros((1,2))\n",
    "print(\"Default type is float \\n\",x)\n",
    "x = np.zeros((1,2), dtype = np.int)\n",
    "print(\"Type changes to int\\n\",x)\n",
    "y = np.ones((1,2))\n",
    "print(\"Default type is float \\n\",x)\n",
    "x = np.ones((1,2), dtype = np.int)\n",
    "print(\"Type changes to int\\n\",x)"
   ]
  },
  {
   "cell_type": "markdown",
   "metadata": {},
   "source": [
    "#### Q67. Write the NumPy program to change the dimension of an array? \n",
    "Expected Output- 6 rows and 0 columns (6,) (3, 3) -> 3 rows and 3 columns [[1 2 3] [4 5 6] [7 8 9]] Change array shape to (3, 3) -> 3 rows and 3 columns [[1 2 3] [4 5 6] [7 8 9]]"
   ]
  },
  {
   "cell_type": "code",
   "execution_count": 62,
   "metadata": {},
   "outputs": [
    {
     "name": "stdout",
     "output_type": "stream",
     "text": [
      "6 rows and 0 columns\n",
      "(6,)\n",
      "(3, 3) -> 3 rows and 3 columns \n",
      "[[1 2 3]\n",
      " [4 5 6]\n",
      " [7 8 9]]\n",
      "Change array shape to (3, 3) -> 3 rows and 3 columns \n",
      "[[1 2 3]\n",
      " [4 5 6]\n",
      " [7 8 9]]\n"
     ]
    }
   ],
   "source": [
    "import numpy as np\n",
    "x = np.array([1, 2, 3, 4, 5, 6])\n",
    "print(\"6 rows and 0 columns\")\n",
    "print(x.shape)\n",
    "\n",
    "y = np.array([[1, 2, 3],[4, 5, 6],[7,8,9]])\n",
    "print(\"(3, 3) -> 3 rows and 3 columns \")\n",
    "print(y)\n",
    "\n",
    "x = np.array([1,2,3,4,5,6,7,8,9])\n",
    "print(\"Change array shape to (3, 3) -> 3 rows and 3 columns \")\n",
    "x.shape = (3, 3)\n",
    "print(x)"
   ]
  },
  {
   "cell_type": "markdown",
   "metadata": {},
   "source": [
    "#### Q68. Write the NumPy program to create a new shape to an array without changing its data ? \n",
    "Reshape 3x2- [[1 2] [3 4] [5 6]] Reshape 2x3- [[1 2 3] [4 5 6]]"
   ]
  },
  {
   "cell_type": "code",
   "execution_count": 63,
   "metadata": {},
   "outputs": [
    {
     "name": "stdout",
     "output_type": "stream",
     "text": [
      "Reshape 3x2- \n",
      " [[1 2]\n",
      " [3 4]\n",
      " [5 6]]\n",
      "Reshape 2x3- \n",
      " [[1 2 3]\n",
      " [4 5 6]]\n"
     ]
    }
   ],
   "source": [
    "x = np.array([1,2,3,4,5,6])\n",
    "\n",
    "print(\"Reshape 3x2- \\n\",x.reshape((3,2)))\n",
    "print(\"Reshape 2x3- \\n\",x.reshape((2,3)))"
   ]
  },
  {
   "cell_type": "markdown",
   "metadata": {},
   "source": [
    "#### Q69. Write the NumPy program to create a new array of 3*5, filled with 2?\n",
    "Expected Output- [[2 2 2 2 2] [2 2 2 2 2] [2 2 2 2 2]] [[2 2 2 2 2] [2 2 2 2 2] [2 2 2 2 2]] "
   ]
  },
  {
   "cell_type": "code",
   "execution_count": 64,
   "metadata": {},
   "outputs": [
    {
     "name": "stdout",
     "output_type": "stream",
     "text": [
      "[[2 2 2 2 2]\n",
      " [2 2 2 2 2]\n",
      " [2 2 2 2 2]]\n",
      "[[2 2 2 2 2]\n",
      " [2 2 2 2 2]\n",
      " [2 2 2 2 2]]\n"
     ]
    }
   ],
   "source": [
    "x = np.full((3, 5), 2, dtype=np.uint)\n",
    "print(x)\n",
    "#Alternatively\n",
    "y = np.ones([3, 5], dtype=np.uint) *2\n",
    "print(y)"
   ]
  },
  {
   "cell_type": "markdown",
   "metadata": {},
   "source": [
    "#### Q70. Write the NumPy program to create a 3-D array with ones on a diagonal and zeros elsewhere? \n",
    "Expected Output- [[ 1. 0. 0.] [ 0. 1. 0.] [ 0. 0. 1.]]"
   ]
  },
  {
   "cell_type": "code",
   "execution_count": 65,
   "metadata": {},
   "outputs": [
    {
     "name": "stdout",
     "output_type": "stream",
     "text": [
      "[[ 1.  0.  0.]\n",
      " [ 0.  1.  0.]\n",
      " [ 0.  0.  1.]]\n"
     ]
    }
   ],
   "source": [
    "x = np.identity(3)\n",
    "print(x)"
   ]
  },
  {
   "cell_type": "markdown",
   "metadata": {},
   "source": [
    "#### Q71. Write the NumPy program to split an array of 14 elements into the 3 arrays and each of which has 2, 4, and 8 elements in original order?\n",
    "Expected Output- Original array- [ 1 2 3 4 5 6 7 8 9 10 11 12 13 14] After splitting- [array([1, 2]), array([3, 4, 5, 6]), array([ 7, 8, 9, 10, 11, 12, 13, 14])]"
   ]
  },
  {
   "cell_type": "code",
   "execution_count": 66,
   "metadata": {},
   "outputs": [
    {
     "name": "stdout",
     "output_type": "stream",
     "text": [
      "Original array- [ 1  2  3  4  5  6  7  8  9 10 11 12 13 14]\n",
      "After splitting- \n",
      "[array([1, 2]), array([3, 4, 5, 6]), array([ 7,  8,  9, 10, 11, 12, 13, 14])]\n"
     ]
    }
   ],
   "source": [
    "x = np.arange(1, 15)\n",
    "print(\"Original array-\",x)\n",
    "print(\"After splitting- \")\n",
    "print(np.split(x, [2, 6]))"
   ]
  },
  {
   "cell_type": "markdown",
   "metadata": {},
   "source": [
    "#### Q72. Write the NumPy program to split of an array of shape 4x4 it into two arrays along the second axis ?\n",
    "Sample array - [[ 0 1 2 3] [ 4 5 6 7] [ 8 9 10 11] [12 13 14 15]] Expected Output- [array([[ 0, 1], [ 4, 5], [ 8, 9], [12, 13]]), array([[ 2, 3], [ 6, 7], [10, 11], [14, 15]]), array([], shape=(4, 0), dtype=int64)]"
   ]
  },
  {
   "cell_type": "code",
   "execution_count": 68,
   "metadata": {},
   "outputs": [
    {
     "name": "stdout",
     "output_type": "stream",
     "text": [
      "Original array: \n",
      " [[ 0  1  2  3]\n",
      " [ 4  5  6  7]\n",
      " [ 8  9 10 11]\n",
      " [12 13 14 15]]\n",
      "After splitting horizontally:\n",
      "[array([[ 0,  1],\n",
      "       [ 4,  5],\n",
      "       [ 8,  9],\n",
      "       [12, 13]]), array([[ 2,  3],\n",
      "       [ 6,  7],\n",
      "       [10, 11],\n",
      "       [14, 15]]), array([], shape=(4, 0), dtype=int32)]\n"
     ]
    }
   ],
   "source": [
    "import numpy as np\n",
    "x = np.arange(16).reshape((4, 4))\n",
    "print(\"Original array: \\n\",x)\n",
    "print(\"After splitting horizontally:\")\n",
    "print(np.hsplit(x, [2, 6]))"
   ]
  },
  {
   "cell_type": "markdown",
   "metadata": {},
   "source": [
    "#### Q73. Write the NumPy program to create a 5x5 matrix with row values ranging from 0 to 4?\n",
    "Original array- [[ 0. 0. 0. 0. 0.] [ 0. 0. 0. 0. 0.] [ 0. 0. 0. 0. 0.] [ 0. 0. 0. 0. 0.] [ 0. 0. 0. 0. 0.]] Row values ranging from 0 to 4. [[ 0. 1. 2. 3. 4.] [ 0. 1. 2. 3. 4.] [ 0. 1. 2. 3. 4.] [ 0. 1. 2. 3. 4.] [ 0. 1. 2. 3. 4.]]"
   ]
  },
  {
   "cell_type": "code",
   "execution_count": 69,
   "metadata": {},
   "outputs": [
    {
     "name": "stdout",
     "output_type": "stream",
     "text": [
      "Original Array \n",
      " [[ 0.  0.  0.  0.  0.]\n",
      " [ 0.  0.  0.  0.  0.]\n",
      " [ 0.  0.  0.  0.  0.]\n",
      " [ 0.  0.  0.  0.  0.]\n",
      " [ 0.  0.  0.  0.  0.]]\n",
      "Row values ranging from 0 to 4.\n",
      "[[ 0.  1.  2.  3.  4.]\n",
      " [ 0.  1.  2.  3.  4.]\n",
      " [ 0.  1.  2.  3.  4.]\n",
      " [ 0.  1.  2.  3.  4.]\n",
      " [ 0.  1.  2.  3.  4.]]\n"
     ]
    }
   ],
   "source": [
    "x = np.zeros((5,5))\n",
    "print(\"Original Array \\n\",x)\n",
    "print(\"Row values ranging from 0 to 4.\")\n",
    "x += np.arange(5)\n",
    "print(x)"
   ]
  },
  {
   "cell_type": "markdown",
   "metadata": {},
   "source": [
    "#### Q74. Write the NumPy program to create an array of zeros and three column types (integer, float, character)?\n",
    "Expected Output- [(1, 2., b'Albert Einstein') (2, 2., b'Edmond Halley') (3, 3., b'Gertrude B. Elion')]"
   ]
  },
  {
   "cell_type": "code",
   "execution_count": 70,
   "metadata": {},
   "outputs": [
    {
     "name": "stdout",
     "output_type": "stream",
     "text": [
      "[(1,  2., b'Albert Einstein') (2,  2., b'Edmond Halley')\n",
      " (3,  3., b'Gertrude B. Elion')]\n"
     ]
    }
   ],
   "source": [
    "import numpy as np\n",
    "x = np.zeros((3,), dtype=('i4,f4,a40'))\n",
    "new_data = [(1, 2., \"Albert Einstein\"), (2, 2., \"Edmond Halley\"), (3, 3., \"Gertrude B. Elion\")]\n",
    "x[:] = new_data\n",
    "print(x)"
   ]
  },
  {
   "cell_type": "markdown",
   "metadata": {},
   "source": [
    "#### Q75. Write the NumPy program to remove the negative values in the numpy array with 0?\n",
    "Expected Output- Original array: [-1 -4 0 2 3 4 5 -6] Replace the negative values of the said array with 0- [0 0 0 2 3 4 5 0]"
   ]
  },
  {
   "cell_type": "code",
   "execution_count": 71,
   "metadata": {},
   "outputs": [
    {
     "name": "stdout",
     "output_type": "stream",
     "text": [
      "Original array: /n [-1 -4  0  2  3  4  5 -6]\n",
      "Replace the negative values of the said array with 0-\n",
      "[0 0 0 2 3 4 5 0]\n"
     ]
    }
   ],
   "source": [
    "import numpy as np\n",
    "x = np.array([-1, -4, 0, 2, 3, 4, 5, -6])\n",
    "print(\"Original array: /n\",x)\n",
    "print(\"Replace the negative values of the said array with 0-\")\n",
    "x[x < 0] = 0\n",
    "print(x)"
   ]
  },
  {
   "cell_type": "markdown",
   "metadata": {},
   "source": [
    "#### Q76. Write the NumPy program to compute the histogram of a set of data? "
   ]
  },
  {
   "cell_type": "code",
   "execution_count": 72,
   "metadata": {},
   "outputs": [
    {
     "data": {
      "image/png": "[encoded data removed]",
      "text/plain": [
       "<matplotlib.figure.Figure at 0x1c562e955f8>"
      ]
     },
     "metadata": {},
     "output_type": "display_data"
    }
   ],
   "source": [
    "import numpy as np    \n",
    "import matplotlib.pyplot as plt\n",
    "plt.hist(np.array([2, 4, 2, 1, 5, 2]), bins=[0, 1, 2, 3, 5])\n",
    "plt.show()"
   ]
  },
  {
   "cell_type": "markdown",
   "metadata": {},
   "source": [
    "#### Q77. Write the NumPy program to compute the line graph of a set of data?"
   ]
  },
  {
   "cell_type": "code",
   "execution_count": 73,
   "metadata": {},
   "outputs": [
    {
     "data": {
      "image/png": "[encoded data removed]",
      "text/plain": [
       "<matplotlib.figure.Figure at 0x1c562e95e10>"
      ]
     },
     "metadata": {},
     "output_type": "display_data"
    }
   ],
   "source": [
    "import numpy as np    \n",
    "import matplotlib.pyplot as plt\n",
    "x=np.array([2, 4, 2, 1, 5, 2])\n",
    "y = np.array([4, 8, 4, 2, 10, 4])\n",
    "plt.plot(x,y)\n",
    "plt.show()"
   ]
  },
  {
   "cell_type": "markdown",
   "metadata": {},
   "source": [
    "#### Q78. Write the NumPy program to extracts all the elements from second row from given (4x4) array?\n",
    "Sample Output- Original array- [[ 0 1 2 3] [ 4 5 6 7] [ 8 9 10 11] [12 13 14 15]] Extracted data- Second row [4 5 6 7] "
   ]
  },
  {
   "cell_type": "code",
   "execution_count": 74,
   "metadata": {},
   "outputs": [
    {
     "data": {
      "text/plain": [
       "array([4, 5, 6, 7])"
      ]
     },
     "execution_count": 74,
     "metadata": {},
     "output_type": "execute_result"
    }
   ],
   "source": [
    "x = np.array([[ 0, 1, 2, 3],\n",
    "[ 4, 5, 6, 7,],\n",
    "[ 8, 9, 10, 11],\n",
    "[12, 13, 14, 15]])\n",
    "\n",
    "x[1][:]"
   ]
  },
  {
   "cell_type": "markdown",
   "metadata": {},
   "source": [
    "#### Q79. Write the NumPy program to extract first element of the second row and fourth element of fourth row from a given (4x4) array? \n",
    "Sample Output- Original array- [[ 0 1 2 3] [ 4 5 6 7] [ 8 9 10 11] [12 13 14 15]] Extracted data- First element of the second row and fourth element of fourth row [ 4 15] "
   ]
  },
  {
   "cell_type": "code",
   "execution_count": 81,
   "metadata": {},
   "outputs": [
    {
     "name": "stdout",
     "output_type": "stream",
     "text": [
      "4 15\n"
     ]
    }
   ],
   "source": [
    "x = np.array([[ 0, 1, 2, 3],[ 4, 5, 6, 7,],[ 8, 9, 10, 11],[12, 13, 14, 15]])\n",
    "print(x[1][0],x[3][3])"
   ]
  },
  {
   "cell_type": "markdown",
   "metadata": {},
   "source": [
    "#### Q80. Write the NumPy program to add two arrays A and B of sizes (3,3) and (,3)?\n",
    "Sample Output- Original array- Array-1 [[1 1 1] [1 1 1] [1 1 1]] Array-2 [0 1 2] A + B: [[1 2 3] [1 2 3] [1 2 3]] "
   ]
  },
  {
   "cell_type": "code",
   "execution_count": 80,
   "metadata": {},
   "outputs": [
    {
     "name": "stdout",
     "output_type": "stream",
     "text": [
      "Array1 \n",
      " [[1 1 1]\n",
      " [1 1 1]\n",
      " [1 1 1]]\n",
      "Array2 \n",
      " [0 1 2]\n",
      "A + B \n",
      " [[1 2 3]\n",
      " [1 2 3]\n",
      " [1 2 3]]\n"
     ]
    }
   ],
   "source": [
    "a1 = np.array([[1, 1, 1],[1, 1, 1],[1, 1, 1]])\n",
    "a2 = np.array([0,1,2])\n",
    "print(\"Array1 \\n\",a1)\n",
    "print(\"Array2 \\n\",a2)\n",
    "print(\"A + B \\n\",np.add(a1,a2))"
   ]
  },
  {
   "cell_type": "markdown",
   "metadata": {},
   "source": [
    "#### Q81. Write the NumPy program to copy data from a given array to another array?\n",
    "Sample Output- Original array- [24 27 30 29 18 14] Copy of the said array- [24 27 30 29 18 14] "
   ]
  },
  {
   "cell_type": "code",
   "execution_count": 85,
   "metadata": {},
   "outputs": [
    {
     "name": "stdout",
     "output_type": "stream",
     "text": [
      "Original array:\n",
      "[24 27 30 29 18 14]\n",
      "\n",
      "Copy of the said array:\n",
      "[24 27 30 29 18 14]\n"
     ]
    }
   ],
   "source": [
    "import numpy as np \n",
    "x = np.array([24, 27, 30, 29, 18, 14])\n",
    "print(\"Original array:\") \n",
    "print(x) \n",
    "y = np.empty_like (x) \n",
    "y[:] = x\n",
    "print(\"\\nCopy of the said array:\") \n",
    "print(y)"
   ]
  },
  {
   "cell_type": "markdown",
   "metadata": {},
   "source": [
    "#### Q82. Write the NumPy program to calculate the sum of all columns of the 2D numpy array? \n",
    "Sample Output- Original array- [[ 0 1 2 3 4 5 6 7 8] [ 9 10 11 12 13 14 15 16 17] [18 19 20 21 22 23 24 25 26] [27 28 29 30 31 32 33 34 35]] Sum of all columns- [54 58 62 66 70 74 78 82 86]"
   ]
  },
  {
   "cell_type": "code",
   "execution_count": 84,
   "metadata": {},
   "outputs": [
    {
     "name": "stdout",
     "output_type": "stream",
     "text": [
      "Original array:\n",
      "[[ 0  1  2  3  4  5  6  7  8]\n",
      " [ 9 10 11 12 13 14 15 16 17]\n",
      " [18 19 20 21 22 23 24 25 26]\n",
      " [27 28 29 30 31 32 33 34 35]]\n",
      "\n",
      "Sum of all columns:\n",
      "[54 58 62 66 70 74 78 82 86]\n"
     ]
    }
   ],
   "source": [
    "import numpy as np \n",
    "num = np.arange(36) \n",
    "array1 = np.reshape(num, [4, 9]) \n",
    "print(\"Original array:\") \n",
    "print(array1) \n",
    "result = array1.sum(axis=0) \n",
    "print(\"\\nSum of all columns:\") \n",
    "print(result)"
   ]
  },
  {
   "cell_type": "markdown",
   "metadata": {},
   "source": [
    "#### Q83. Write the NumPy program to calculate averages without NaNs along the given array?\n",
    "Sample Output- Original array- [[10. 20. 30.] [40. 50. nan] [nan 6. nan] [nan nan nan]]\n",
    "Averages without NaNs along the said array- [20. 45. 6. nan] "
   ]
  },
  {
   "cell_type": "code",
   "execution_count": 4,
   "metadata": {},
   "outputs": [
    {
     "name": "stdout",
     "output_type": "stream",
     "text": [
      "Original array:\n",
      "[[ 10.  20.  30.]\n",
      " [ 40.  50.  nan]\n",
      " [ nan   6.  nan]\n",
      " [ nan  nan  nan]]\n",
      "Averages without NaNs along the said array:\n",
      "[ 20.  45.   6.  nan]\n"
     ]
    }
   ],
   "source": [
    "import numpy as np \n",
    "arr1 = np.array([[10, 20 ,30], [40, 50, np.nan], [np.nan, 6, np.nan], [np.nan, np.nan, np.nan]])\n",
    "print(\"Original array:\")\n",
    "print(arr1) \n",
    "temp = np.ma.masked_array(arr1,np.isnan(arr1)) \n",
    "result = np.mean(temp, axis=1)\n",
    "print(\"Averages without NaNs along the said array:\") \n",
    "print(result.filled(np.nan))"
   ]
  },
  {
   "cell_type": "markdown",
   "metadata": {},
   "source": [
    "#### Q84. Create two arrays of six elements. Write the NumPy program to count the number of instances of a value occurring in one array on the condition of another array.\n",
    "Sample Output- Original arrays- [ 10 -10 10 -10 -10 10] [0.85 0.45 0.9 0.8 0.12 0.6 ] Number of instances of a value occurring in one array on the condition of another array: 3"
   ]
  },
  {
   "cell_type": "code",
   "execution_count": 6,
   "metadata": {},
   "outputs": [
    {
     "name": "stdout",
     "output_type": "stream",
     "text": [
      "Original arrays:\n",
      "[ 10 -10  10 -10 -10  10]\n",
      "[ 0.85  0.45  0.9   0.8   0.12  0.6 ]\n",
      "\n",
      "Number of instances of a value occurring in one aray on the condition of another array:\n",
      "3\n"
     ]
    }
   ],
   "source": [
    "import numpy as np \n",
    "x = np.array([10,-10,10,-10,-10,10]) \n",
    "y = np.array([.85,.45,.9,.8,.12,.6]) \n",
    "print(\"Original arrays:\") \n",
    "print(x) \n",
    "print(y) \n",
    "result = np.sum((x == 10) & (y > .5)) \n",
    "print(\"\\nNumber of instances of a value occurring in one aray on the condition of another array:\")\n",
    "print(result)"
   ]
  },
  {
   "cell_type": "markdown",
   "metadata": {},
   "source": [
    "#### Q85. Write the NumPy program to convert a Python dictionary to a Numpy ndarray ?\n",
    "Original dictionary- {'column0': {'a': 1, 'b': 0.0, 'c': 0.0, 'd': 2.0}, 'column1': {'a': 3.0, 'b': 1, 'c': 0.0, 'd': -1.0}, 'column2': {'a': 4, 'b': 1, 'c': 5.0, 'd': -1.0}, 'column3': {'a': 3.0, 'b': -1.0, 'c': -1.0, 'd': -1.0}} Type: class 'dict'> ndarray- [[ 1. 0. 0. 2.] [ 3. 1. 0. -1.] [ 4. 1. 5. -1.] [ 3. -1. -1. -1.]] Type: class 'numpy.ndarray'>"
   ]
  },
  {
   "cell_type": "code",
   "execution_count": 9,
   "metadata": {},
   "outputs": [
    {
     "name": "stdout",
     "output_type": "stream",
     "text": [
      "Original dictionary:\n",
      "{'column0': {'a': 1, 'b': 0.0, 'c': 0.0, 'd': 2.0}, 'column1': {'a': 3.0, 'b': 1, 'c': 0.0, 'd': -1.0}, 'column2': {'a': 4, 'b': 1, 'c': 5.0, 'd': -1.0}, 'column3': {'a': 3.0, 'b': -1.0, 'c': -1.0, 'd': -1.0}}\n",
      "Type:  <class 'dict'>\n",
      "ndarray:\n",
      "[[ 1.  0.  0.  2.]\n",
      " [ 3.  1.  0. -1.]\n",
      " [ 4.  1.  5. -1.]\n",
      " [ 3. -1. -1. -1.]]\n",
      "Type:  <class 'numpy.ndarray'>\n"
     ]
    }
   ],
   "source": [
    "import numpy as np \n",
    "from ast import literal_eval \n",
    "udict = \"\"\"{\"column0\":{\"a\":1,\"b\":0.0,\"c\":0.0,\"d\":2.0},\n",
    "\"column1\":{\"a\":3.0,\"b\":1,\"c\":0.0,\"d\":-1.0},\n",
    "\"column2\":{\"a\":4,\"b\":1,\"c\":5.0,\"d\":-1.0},\n",
    "\"column3\":{\"a\":3.0,\"b\":-1.0,\"c\":-1.0,\"d\":-1.0}\n",
    "}\"\"\" \n",
    "t = literal_eval(udict)\n",
    "print(\"Original dictionary:\") \n",
    "print(t) \n",
    "print(\"Type: \",type(t)) \n",
    "result_nparra = np.array([[v[j] for j in ['a', 'b', 'c', 'd']] for k, v in t.items()])\n",
    "print(\"ndarray:\") \n",
    "print(result_nparra) \n",
    "print(\"Type: \",type(result_nparra))"
   ]
  },
  {
   "cell_type": "markdown",
   "metadata": {},
   "source": [
    "#### Q86. Write the Numpy program to find and store the non-zero unique rows in an array after comparing each row with other row in the given matrix?\n",
    "Original array- [[ 1 1 0] [ 0 0 0] [ 0 2 3] [ 0 0 0] [ 0 -1 1] [ 0 0 0]] Non-zero unique rows- [[ 1 1 0] [ 0 2 3] [ 0 -1 1]]"
   ]
  },
  {
   "cell_type": "code",
   "execution_count": 11,
   "metadata": {},
   "outputs": [
    {
     "name": "stdout",
     "output_type": "stream",
     "text": [
      "Original array:\n",
      "[[ 1  1  0]\n",
      " [ 0  0  0]\n",
      " [ 0  2  3]\n",
      " [ 0  0  0]\n",
      " [ 0 -1  1]\n",
      " [ 0  0  0]]\n",
      "\n",
      "Non-zero unique rows:\n",
      "[[ 1  1  0]\n",
      " [ 0  2  3]\n",
      " [ 0 -1  1]]\n"
     ]
    }
   ],
   "source": [
    "import numpy as np \n",
    "array1 = np.array([[ 1, 1, 0], [ 0, 0, 0], [ 0, 2, 3], [ 0, 0, 0], [ 0, -1, 1], [ 0, 0, 0]])\n",
    "print(\"Original array:\") \n",
    "print(array1) \n",
    "temp = {(0, 0, 0)} \n",
    "result = [] \n",
    "for idx, row in enumerate(map(tuple, array1)): \n",
    "    if row not in temp: \n",
    "        result.append(idx)\n",
    "print(\"\\nNon-zero unique rows:\") \n",
    "print(array1[result])"
   ]
  },
  {
   "cell_type": "markdown",
   "metadata": {},
   "source": [
    "#### Q87. Write the NumPy program to multiply the matrix by another matrix of complex numbers and create a new matrix of complex numbers? \n",
    "Sample output- First array- [ 1.+2.j 3.+4.j] Second array- [ 5.+6.j 7.+8.j] Product of above two arrays- (70-8j)"
   ]
  },
  {
   "cell_type": "code",
   "execution_count": 15,
   "metadata": {},
   "outputs": [
    {
     "name": "stdout",
     "output_type": "stream",
     "text": [
      "First array:  [ 1.+2.j  3.+4.j]\n",
      "Second array:  [ 5.+6.j  7.+8.j]\n",
      "Product of above two arrays:  (70-8j)\n"
     ]
    }
   ],
   "source": [
    "import numpy as np \n",
    "x = np.array([1+2j,3+4j]) \n",
    "print(\"First array: \", x) \n",
    "y = np.array([5+6j,7+8j]) \n",
    "print(\"Second array: \",y)  \n",
    "z = np.vdot(x, y) \n",
    "print(\"Product of above two arrays: \", z)"
   ]
  },
  {
   "cell_type": "markdown",
   "metadata": {},
   "source": [
    "#### Q88. Write a NumPy program to generate the matrix product of two Arrays?\n",
    "Sample Output- Matrices and vectors. x- [[1, 0], [1, 1]] y- [[3, 1], [2, 2]] Matrix product of above two arrays- [[3 1] [5 3]]"
   ]
  },
  {
   "cell_type": "code",
   "execution_count": 20,
   "metadata": {},
   "outputs": [
    {
     "name": "stdout",
     "output_type": "stream",
     "text": [
      "Matrices and vectors.\n",
      "x:  [[1, 0], [1, 1]]\n",
      "y:  [[3, 1], [2, 2]]\n",
      "Matrix product of above two arrays:\n",
      "[[3 1]\n",
      " [5 3]]\n"
     ]
    }
   ],
   "source": [
    "import numpy as np \n",
    "x = [[1, 0], [1, 1]] \n",
    "y = [[3, 1], [2, 2]]\n",
    "print(\"Matrices and vectors.\")\n",
    "print(\"x: \",x)\n",
    "print(\"y: \",y)\n",
    "print(\"Matrix product of above two arrays:\") \n",
    "print(np.matmul(x, y))"
   ]
  },
  {
   "cell_type": "markdown",
   "metadata": {},
   "source": [
    "#### Q89. Write the NumPy program to find roots of the following Polynomials? \n",
    "a) (x2 - 4x + 7) b) x4 - 11x3 + 9x2 + 11x ? 10 Sample output- Roots of the first polynomial- [ 1. 1.] Roots of the second polynomial- [ 11.04461946+0.j -0.87114210+0.j 0.91326132+0.4531004j 0.91326132-0.4531004j ] "
   ]
  },
  {
   "cell_type": "code",
   "execution_count": 21,
   "metadata": {},
   "outputs": [
    {
     "name": "stdout",
     "output_type": "stream",
     "text": [
      "Roots of the first polynomial:\n",
      "[ 1.  1.]\n",
      "Roots of the second polynomial:\n",
      "[ 11.04461946+0.j         -0.87114210+0.j          0.91326132+0.4531004j\n",
      "   0.91326132-0.4531004j]\n"
     ]
    }
   ],
   "source": [
    "import numpy as np \n",
    "print(\"Roots of the first polynomial:\") \n",
    "print(np.roots([1, -2, 1])) \n",
    "print(\"Roots of the second polynomial:\") \n",
    "print(np.roots([1, -12, 10, 7, -10]))"
   ]
  },
  {
   "cell_type": "markdown",
   "metadata": {},
   "source": [
    "#### Q90. Write the NumPy program to calculate inverse of sine, cosine, and inverse tangent for all elements in a given array?\n",
    "Sample output- Inverse sine- [-1.57079633 0. 1.57079633] Inverse cosine- [3.14159265 1.57079633 0. ] Inverse tangent- [-0.78539816 0. 0.78539816]"
   ]
  },
  {
   "cell_type": "code",
   "execution_count": 17,
   "metadata": {},
   "outputs": [
    {
     "name": "stdout",
     "output_type": "stream",
     "text": [
      "Inverse sine: [-1.57079633  0.          1.57079633]\n",
      "Inverse cosine: [ 3.14159265  1.57079633  0.        ]\n",
      "Inverse tangent: [-0.78539816  0.          0.78539816]\n"
     ]
    }
   ],
   "source": [
    "import numpy as np \n",
    "x = np.array([-1., 0, 1.]) \n",
    "print(\"Inverse sine:\", np.arcsin(x)) \n",
    "print(\"Inverse cosine:\", np.arccos(x)) \n",
    "print(\"Inverse tangent:\", np.arctan(x))"
   ]
  },
  {
   "cell_type": "markdown",
   "metadata": {},
   "source": [
    "#### Q91. Write the NumPy program to calculate the difference between in neighbouring elements, element-wise of a given array? \n",
    "Sample output- Original array- [1 3 5 7 0] Difference between neighbouring elements, element-wise of the said array- [ 2 2 2 -7]\n"
   ]
  },
  {
   "cell_type": "code",
   "execution_count": 24,
   "metadata": {},
   "outputs": [
    {
     "name": "stdout",
     "output_type": "stream",
     "text": [
      "Original array:  [1 3 5 7 0]\n",
      "Difference between neighboring elements, element-wise of the said array:  [ 2  2  2 -7]\n"
     ]
    }
   ],
   "source": [
    "import numpy as np \n",
    "x = np.array([1, 3, 5, 7, 0])\n",
    "print(\"Original array: \", x) \n",
    "print(\"Difference between neighboring elements, element-wise of the said array: \", np.diff(x)) "
   ]
  },
  {
   "cell_type": "markdown",
   "metadata": {},
   "source": [
    "#### Q92. Write the Python program to find the maximum and the minimum value of a given flattened array?\n",
    "Expected Output- Original flattened array- [[0 1] [2 3]] Maximum value of the above flattened array- 3 Minimum value of the above flattened array- 0"
   ]
  },
  {
   "cell_type": "code",
   "execution_count": 27,
   "metadata": {},
   "outputs": [
    {
     "name": "stdout",
     "output_type": "stream",
     "text": [
      "Original flattened array: \n",
      "[[0 1]\n",
      " [2 3]]\n",
      "Maximum value of the above flattened array:  3\n",
      "Minimum value of the above flattened array:  0\n"
     ]
    }
   ],
   "source": [
    "import numpy as np \n",
    "a = np.arange(4).reshape((2,2)) \n",
    "print(\"Original flattened array: \") \n",
    "print(a)\n",
    "print(\"Maximum value of the above flattened array: \",np.amax(a)) \n",
    "print(\"Minimum value of the above flattened array: \",np.amin(a))"
   ]
  },
  {
   "cell_type": "markdown",
   "metadata": {},
   "source": [
    "#### Q93. Write NumPy program to calculate the difference between in the maximum and the minimum values of a given array along the second axis ?\n",
    "Expected Output- Original array- [[ 0 1 2 3 4 5] [ 6 7 8 9 10 11]] Difference between the maximum and the minimum values of the said array- [5 5] "
   ]
  },
  {
   "cell_type": "code",
   "execution_count": 29,
   "metadata": {},
   "outputs": [
    {
     "name": "stdout",
     "output_type": "stream",
     "text": [
      "Original array:\n",
      "[[ 0  1  2  3  4  5]\n",
      " [ 6  7  8  9 10 11]]\n",
      "\n",
      "Difference between the maximum and the minimum values of the said array:\n",
      "[5 5]\n"
     ]
    }
   ],
   "source": [
    "import numpy as np \n",
    "x = np.arange(12).reshape((2, 6))\n",
    "print(\"Original array:\") \n",
    "print(x) \n",
    "r1 = np.ptp(x, 1) \n",
    "r2 = np.amax(x, 1) - np.amin(x, 1) \n",
    "assert np.allclose(r1, r2)\n",
    "print(\"\\nDifference between the maximum and the minimum values of the said array:\") \n",
    "print(r1)"
   ]
  },
  {
   "cell_type": "markdown",
   "metadata": {},
   "source": [
    "#### Q94. Write the NumPy program to compute the weighted of the given array ?\n",
    "Sample Output- Original array- [0 1 2 3 4] Weighted average of the said array- 2.6666666666666665"
   ]
  },
  {
   "cell_type": "code",
   "execution_count": 32,
   "metadata": {},
   "outputs": [
    {
     "name": "stdout",
     "output_type": "stream",
     "text": [
      "Original array:\n",
      "[0 1 2 3 4]\n",
      "\n",
      "Weighted average of the said array:\n",
      "2.66666666667\n"
     ]
    }
   ],
   "source": [
    "import numpy as np \n",
    "x = np.arange(5)\n",
    "print(\"Original array:\") \n",
    "print(x) \n",
    "weights = np.arange(1, 6) \n",
    "r1 = np.average(x, weights=weights) \n",
    "r2 = (x*(weights/weights.sum())).sum() \n",
    "assert np.allclose(r1, r2)\n",
    "print(\"\\nWeighted average of the said array:\")\n",
    "print(r1)"
   ]
  },
  {
   "cell_type": "markdown",
   "metadata": {},
   "source": [
    "#### Q95. Write the NumPy program to compute the mean, standard deviation, and the variance of a given array along the second axis?\n",
    "Sample output- Original array- [0 1 2 3 4 5] Mean- 2.5 std- 1 variance- 2.9166666666666665"
   ]
  },
  {
   "cell_type": "code",
   "execution_count": 36,
   "metadata": {},
   "outputs": [
    {
     "name": "stdout",
     "output_type": "stream",
     "text": [
      "Original array:  [0 1 2 3 4 5]\n",
      "Mean:  2.5\n",
      "std:  1\n",
      "variance:  2.91666666667\n"
     ]
    }
   ],
   "source": [
    "import numpy as np \n",
    "x = np.arange(6)\n",
    "print(\"Original array: \",x) \n",
    "r1 = np.mean(x) \n",
    "r2 = np.average(x) \n",
    "assert np.allclose(r1, r2) \n",
    "print(\"Mean: \", r1) \n",
    "r1 = np.std(x) \n",
    "r2 = np.sqrt(np.mean((x - np.mean(x)) ** 2 )) \n",
    "assert np.allclose(r1, r2) \n",
    "print(\"std: \", 1) \n",
    "r1= np.var(x) \n",
    "r2 = np.mean((x - np.mean(x)) ** 2 ) \n",
    "assert np.allclose(r1, r2) \n",
    "print(\"variance: \", r1)"
   ]
  },
  {
   "cell_type": "markdown",
   "metadata": {},
   "source": [
    "#### Q96. Write the Numpy program to compute the covariance matrix of the two given arrays?\n",
    "Sample Output- Original array1- [0 1 2] Original array1- [2 1 0] Covariance matrix of the said arrays- [[ 1. -1.] [-1. 1.]]"
   ]
  },
  {
   "cell_type": "code",
   "execution_count": 39,
   "metadata": {},
   "outputs": [
    {
     "name": "stdout",
     "output_type": "stream",
     "text": [
      "Original array1:  [0 1 2]\n",
      "Original array2:  [2 1 0]\n",
      "Covariance matrix of the said arrays:\n",
      " [[ 1. -1.]\n",
      " [-1.  1.]]\n"
     ]
    }
   ],
   "source": [
    "import numpy as np \n",
    "x = np.array([0, 1, 2]) \n",
    "y = np.array([2, 1, 0]) \n",
    "print(\"Original array1: \",x)\n",
    "print(\"Original array2: \",y)\n",
    "print(\"Covariance matrix of the said arrays:\\n\",np.cov(x, y))"
   ]
  },
  {
   "cell_type": "markdown",
   "metadata": {},
   "source": [
    "#### Q97. Write a NumPy program to compute the cross-correlation of two given arrays ?\n",
    "Sample Output- Original array1- [0 1 3] Original array1- [2 4 5] Cross-correlation of the said arrays- [ [ 2.33333333 2.16666667 ] [ 2.16666667 2.33333333 ] ]"
   ]
  },
  {
   "cell_type": "code",
   "execution_count": 40,
   "metadata": {},
   "outputs": [
    {
     "name": "stdout",
     "output_type": "stream",
     "text": [
      "Original array1:  [0 1 3]\n",
      "Original array1:  [2 4 5]\n",
      "Cross-correlation of the said arrays:\n",
      " [[ 2.33333333  2.16666667]\n",
      " [ 2.16666667  2.33333333]]\n"
     ]
    }
   ],
   "source": [
    "import numpy as np \n",
    "x = np.array([0, 1, 3]) \n",
    "y = np.array([2, 4, 5])\n",
    "print(\"Original array1: \",x)\n",
    "print(\"Original array1: \",y)\n",
    "print(\"Cross-correlation of the said arrays:\\n\",np.cov(x, y))"
   ]
  },
  {
   "cell_type": "markdown",
   "metadata": {},
   "source": [
    "#### Q98. Write the NumPy program to compute Pearson product-moment correlation coefficients of two given arrays?\n",
    "Sample Output- Original array1- [0 1 3] Original array1- [2 4 5] Pearson product-moment correlation coefficients of the said arrays- [[1. 0.92857143] [0.92857143 1. ]]"
   ]
  },
  {
   "cell_type": "code",
   "execution_count": 41,
   "metadata": {},
   "outputs": [
    {
     "name": "stdout",
     "output_type": "stream",
     "text": [
      "Original array1:  [0 1 3]\n",
      "Original array1:  [2 4 5]\n",
      "Pearson product-moment correlation coefficients of the said arrays:\n",
      " [[ 1.          0.92857143]\n",
      " [ 0.92857143  1.        ]]\n"
     ]
    }
   ],
   "source": [
    "import numpy as np \n",
    "x = np.array([0, 1, 3]) \n",
    "y = np.array([2, 4, 5])\n",
    "print(\"Original array1: \",x)\n",
    "print(\"Original array1: \",y)\n",
    "print(\"Pearson product-moment correlation coefficients of the said arrays:\\n\",np.corrcoef(x, y))"
   ]
  },
  {
   "cell_type": "markdown",
   "metadata": {},
   "source": [
    "#### Q99. Write the python program to count the number of occurrences of each value in a given array of non-negative integers? \n",
    "Note: bincount() Function- It count the occurrence of each value in an array of the non- negative integers in the range of the array between the minimum and maximum values including the values that did not occur. Sample Output- Original array- [0, 1, 6, 1, 4, 1, 2, 2, 7] Number of occurrences of each value in array- [1 3 2 0 1 0 1 1] "
   ]
  },
  {
   "cell_type": "code",
   "execution_count": 43,
   "metadata": {},
   "outputs": [
    {
     "name": "stdout",
     "output_type": "stream",
     "text": [
      "Original array:  [0, 1, 6, 1, 4, 1, 2, 2, 7]\n",
      "Number of occurrences of each value in array:  [1 3 2 0 1 0 1 1]\n"
     ]
    }
   ],
   "source": [
    "import numpy as np \n",
    "array1 = [0, 1, 6, 1, 4, 1, 2, 2, 7] \n",
    "print(\"Original array: \",array1) \n",
    "print(\"Number of occurrences of each value in array: \",np.bincount(array1))"
   ]
  },
  {
   "cell_type": "markdown",
   "metadata": {},
   "source": [
    "#### Q100. Write a Numpy program to compute the histogram of nums against the bins?\n",
    "Sample Output- nums- [0.5 0.7 1. 1.2 1.3 2.1] bins- [0 1 2 3] Result- (array([2, 3, 1], dtype=int64), array([0, 1, 2, 3]))"
   ]
  },
  {
   "cell_type": "code",
   "execution_count": 44,
   "metadata": {},
   "outputs": [
    {
     "name": "stdout",
     "output_type": "stream",
     "text": [
      "nums:  [ 0.5  0.7  1.   1.2  1.3  2.1]\n",
      "bins:  [0 1 2 3]\n",
      "Result: (array([2, 3, 1], dtype=int64), array([0, 1, 2, 3]))\n"
     ]
    },
    {
     "data": {
      "image/png": "[encoded data removed]",
      "text/plain": [
       "<matplotlib.figure.Figure at 0x26b0c5c8a58>"
      ]
     },
     "metadata": {},
     "output_type": "display_data"
    }
   ],
   "source": [
    "import numpy as np \n",
    "import matplotlib.pyplot as plt \n",
    "nums = np.array([0.5, 0.7, 1.0, 1.2, 1.3, 2.1]) \n",
    "bins = np.array([0, 1, 2, 3]) \n",
    "print(\"nums: \",nums) \n",
    "print(\"bins: \",bins) \n",
    "print(\"Result:\", np.histogram(nums, bins)) \n",
    "plt.hist(nums, bins=bins) \n",
    "plt.show()"
   ]
  },
  {
   "cell_type": "markdown",
   "metadata": {},
   "source": [
    "#### Q101. Write the Python program to add, subtract, multiply and divide two pandas series ? \n",
    "Sample Series- [2, 4, 6, 8, 10], [1, 3, 5, 7, 9] "
   ]
  },
  {
   "cell_type": "code",
   "execution_count": 46,
   "metadata": {},
   "outputs": [
    {
     "name": "stdout",
     "output_type": "stream",
     "text": [
      "Add two Series:\n",
      "0     3\n",
      "1     7\n",
      "2    11\n",
      "3    15\n",
      "4    19\n",
      "dtype: int64\n",
      "Subtract two Series:\n",
      "0    1\n",
      "1    1\n",
      "2    1\n",
      "3    1\n",
      "4    1\n",
      "dtype: int64\n",
      "Multiply two Series:\n",
      "0     2\n",
      "1    12\n",
      "2    30\n",
      "3    56\n",
      "4    90\n",
      "dtype: int64\n",
      "Divide Series1 by Series2:\n",
      "0    2.000000\n",
      "1    1.333333\n",
      "2    1.200000\n",
      "3    1.142857\n",
      "4    1.111111\n",
      "dtype: float64\n"
     ]
    }
   ],
   "source": [
    "import pandas as pd \n",
    "ds1 = pd.Series([2, 4, 6, 8, 10]) \n",
    "ds2 = pd.Series([1, 3, 5, 7, 9]) \n",
    "ds = ds1 + ds2\n",
    "print(\"Add two Series:\")\n",
    "print(ds)\n",
    "print(\"Subtract two Series:\") \n",
    "ds = ds1 - ds2 \n",
    "print(ds)\n",
    "print(\"Multiply two Series:\") \n",
    "ds = ds1 * ds2 \n",
    "print(ds)\n",
    "print(\"Divide Series1 by Series2:\") \n",
    "ds = ds1 / ds2 \n",
    "print(ds)"
   ]
  },
  {
   "cell_type": "markdown",
   "metadata": {},
   "source": [
    "#### Q102. Write a Python program to convert a dictionary to the Pandas Series?\n",
    "Sample Series- Original dictionary- {'a': 100, 'b': 200, 'c': 300, 'd': 400, 'e': 800} Converted series - a 100 b 200 c 300 d 400 e 800 dtype- int64"
   ]
  },
  {
   "cell_type": "code",
   "execution_count": 47,
   "metadata": {},
   "outputs": [
    {
     "name": "stdout",
     "output_type": "stream",
     "text": [
      "Original dictionary:\n",
      "{'a': 100, 'b': 200, 'c': 300, 'd': 400, 'e': 800}\n",
      "Converted series:\n",
      "a    100\n",
      "b    200\n",
      "c    300\n",
      "d    400\n",
      "e    800\n",
      "dtype: int64\n"
     ]
    }
   ],
   "source": [
    "import pandas as pd \n",
    "d1 = {'a': 100, 'b': 200, 'c':300, 'd':400, 'e':800}\n",
    "print(\"Original dictionary:\") \n",
    "print(d1) \n",
    "new_series = pd.Series(d1)\n",
    "print(\"Converted series:\") \n",
    "print(new_series)"
   ]
  },
  {
   "cell_type": "markdown",
   "metadata": {},
   "source": [
    "#### Q103. Write a python program to change the data type of given a column or a Series?\n",
    "Sample Series- Original Data Series- 0 100 1 200 2 python 3 300.12 4 400 dtype- object Change the said data type to numeric- 0 100.00 1 200.00 2 NaN 3 300.12 4 400.00 dtype- float64"
   ]
  },
  {
   "cell_type": "code",
   "execution_count": 48,
   "metadata": {},
   "outputs": [
    {
     "name": "stdout",
     "output_type": "stream",
     "text": [
      "Original Data Series:\n",
      "0       100\n",
      "1       200\n",
      "2    python\n",
      "3    300.12\n",
      "4       400\n",
      "dtype: object\n",
      "Change the said data type to numeric:\n",
      "0    100.00\n",
      "1    200.00\n",
      "2       NaN\n",
      "3    300.12\n",
      "4    400.00\n",
      "dtype: float64\n"
     ]
    }
   ],
   "source": [
    "import pandas as pd \n",
    "s1 = pd.Series(['100', '200', 'python', '300.12', '400'])\n",
    "print(\"Original Data Series:\") \n",
    "print(s1)\n",
    "print(\"Change the said data type to numeric:\") \n",
    "s2 = pd.to_numeric(s1, errors='coerce') \n",
    "print(s2)"
   ]
  },
  {
   "cell_type": "markdown",
   "metadata": {},
   "source": [
    "#### Q104. Write the python pandas program to convert the first column of a DataFrame as a Series? \n",
    "Sample Output- Original DataFrame- col1 col2 col3 0 1 4 7 1 2 5 5 2 3 6 8 3 4 9 12 4 7 5 1 5 11 0 11 1st column as a Series- 0 1 1 2 2 3 3 4 4 7 5 11 Name- col1, dtype- int64 class 'pandas.core.series.Series'>"
   ]
  },
  {
   "cell_type": "code",
   "execution_count": 49,
   "metadata": {},
   "outputs": [
    {
     "name": "stdout",
     "output_type": "stream",
     "text": [
      "Original DataFrame\n",
      "   col1  col2  col3\n",
      "0     1     4     7\n",
      "1     2     5     5\n",
      "2     3     6     8\n",
      "3     4     9    12\n",
      "4     7     5     1\n",
      "5    11     0    11\n",
      "\n",
      "1st column as a Series:\n",
      "0     1\n",
      "1     2\n",
      "2     3\n",
      "3     4\n",
      "4     7\n",
      "5    11\n",
      "Name: col1, dtype: int64\n",
      "<class 'pandas.core.series.Series'>\n"
     ]
    },
    {
     "name": "stderr",
     "output_type": "stream",
     "text": [
      "C:\\Users\\Dell\\Anaconda3\\lib\\site-packages\\ipykernel_launcher.py:6: DeprecationWarning: \n",
      ".ix is deprecated. Please use\n",
      ".loc for label based indexing or\n",
      ".iloc for positional indexing\n",
      "\n",
      "See the documentation here:\n",
      "http://pandas.pydata.org/pandas-docs/stable/indexing.html#deprecate_ix\n",
      "  \n"
     ]
    }
   ],
   "source": [
    "import pandas as pd \n",
    "d = {'col1': [1, 2, 3, 4, 7, 11], 'col2': [4, 5, 6, 9, 5, 0], 'col3': [7, 5, 8, 12, 1,11]} \n",
    "df = pd.DataFrame(data=d)\n",
    "print(\"Original DataFrame\") \n",
    "print(df) \n",
    "s1 = df.ix[:,0]\n",
    "print(\"\\n1st column as a Series:\") \n",
    "print(s1)\n",
    "print(type(s1))"
   ]
  },
  {
   "cell_type": "markdown",
   "metadata": {},
   "source": [
    "#### Q105. Write a pandas program to create the mean and standard deviation of the data of a given Series?\n",
    "Sample Output- Original Data Series- 0 1 1 2 2 3 3 4 4 5 5 6 6 7 7 8 8 9 9 5 10 3 dtype- int64 Mean of the said Data Series- 4.81818181818 Standard deviation of the said Data Series- 2.52262489555 "
   ]
  },
  {
   "cell_type": "code",
   "execution_count": 52,
   "metadata": {},
   "outputs": [
    {
     "name": "stdout",
     "output_type": "stream",
     "text": [
      "Original Data Series:\n",
      "0     1\n",
      "1     2\n",
      "2     3\n",
      "3     4\n",
      "4     5\n",
      "5     6\n",
      "6     7\n",
      "7     8\n",
      "8     9\n",
      "9     5\n",
      "10    3\n",
      "dtype: int64\n",
      "Mean of the said Data Series:  4.818181818181818\n",
      "Standard deviation of the said Data Series:  2.522624895547565\n"
     ]
    }
   ],
   "source": [
    "import pandas as pd\n",
    "s = pd.Series(data = [1,2,3,4,5,6,7,8,9,5,3])\n",
    "print(\"Original Data Series:\")\n",
    "print(s)\n",
    "print(\"Mean of the said Data Series: \",s.mean())\n",
    "print(\"Standard deviation of the said Data Series: \",s.std()) "
   ]
  },
  {
   "cell_type": "markdown",
   "metadata": {},
   "source": [
    "#### Q106. Write a pandas program to get powers of an array values element-wise? \n",
    "Note First array elements raised the powers from the second array. Sample data: {'X ':[78,85,96,80,86], ' Y ':[84,94,89,83,86],'Z':[86,97,96,72,83]} Expected Output: X Y Z 0 78 84 86 1 85 94 97 2 96 89 96 3 80 83 72 4 86 86 83"
   ]
  },
  {
   "cell_type": "code",
   "execution_count": 53,
   "metadata": {},
   "outputs": [
    {
     "name": "stdout",
     "output_type": "stream",
     "text": [
      "    X   Y   Z\n",
      "0  78  84  86\n",
      "1  85  94  97\n",
      "2  96  89  96\n",
      "3  80  83  72\n",
      "4  86  86  83\n"
     ]
    }
   ],
   "source": [
    "import pandas as pd\n",
    "df = pd.DataFrame({'X':[78,85,96,80,86], 'Y':[84,94,89,83,86],'Z':[86,97,96,72,83]})\n",
    "print(df)"
   ]
  },
  {
   "cell_type": "markdown",
   "metadata": {},
   "source": [
    "#### Q107. Write the pandas program to get the first 3 rows of a given DataFrame?\n",
    "Sample Python dictionary data and list labels- exam_data = {'name': ['Anastasia', 'Dima', 'Katherine', 'James', 'Emily', 'Michael', 'Matthew', 'Laura', 'Kevin', 'Jonas'], 'score': [12.5, 9, 16.5, np.nan, 9, 20, 14.5, np.nan, 8, 19], 'attempts'- [1, 3, 2, 3, 2, 3, 1, 1, 2, 1], 'qualify'- [ 'yes', 'no', 'yes' , 'no', ' no ', ' yes ', 'yes', 'no', 'no', 'yes' ] } labels = ['a', 'b', 'c', 'd', 'e', 'f', 'g', 'h', 'i', 'j' ] Expected Output- First three rows of the data frame- attempts name qualify score a 1 Anastasia yes 12.5 b 3 Dima no 9.0 c 2 Katherine yes 16.5"
   ]
  },
  {
   "cell_type": "code",
   "execution_count": 55,
   "metadata": {},
   "outputs": [
    {
     "name": "stdout",
     "output_type": "stream",
     "text": [
      "First three rows of the data frame:\n",
      "   attempts       name qualify  score\n",
      "a         1  Anastasia     yes   12.5\n",
      "b         3       Dima      no    9.0\n",
      "c         2  Katherine     yes   16.5\n"
     ]
    }
   ],
   "source": [
    "import pandas as pd \n",
    "import numpy as np\n",
    "exam_data = {'name': ['Anastasia', 'Dima', 'Katherine', 'James', 'Emily', 'Michael', 'Matthew', 'Laura', 'Kevin', 'Jonas'], \n",
    "             'score': [12.5, 9, 16.5, np.nan, 9, 20, 14.5, np.nan, 8, 19], \n",
    "             'attempts': [1, 3, 2, 3, 2, 3, 1, 1, 2, 1], \n",
    "             'qualify': ['yes', 'no', 'yes', 'no', 'no', 'yes', 'yes', 'no', 'no', 'yes']} \n",
    "labels = ['a', 'b', 'c', 'd', 'e', 'f', 'g', 'h', 'i', 'j']\n",
    "df = pd.DataFrame(exam_data , index=labels)\n",
    "print(\"First three rows of the data frame:\") \n",
    "print(df.iloc[:3])"
   ]
  },
  {
   "cell_type": "markdown",
   "metadata": {},
   "source": [
    "#### Q108: Write the pandas program to select the specified columns and the rows from a given data frame?\n",
    "Sample Python dictionary data and list labels- Select 'name' and 'score' columns in rows 1, 3, 5, 6 from the following data frame. exam_data = {'name ': [ 'Anastasia', 'Dima', 'Katherine', 'James', 'Emily', 'Michael', 'Matthew', 'Laura', 'Kevin', 'Jonas'], 'score'- [12.5, 9, 16.5, np.nan, 9, 20, 14.5, np.nan, 8, 19], 'attempts'- [1, 3, 2, 3, 2, 3, 1, 1, 2, 1], 'qualify'- ['yes', 'no', 'yes', 'no', 'no', 'yes', 'yes', 'no', 'no', 'yes'] } labels = ['a ', ' b ', ' c ', ' d ', ' e ', ' f ', ' g ', 'h', 'i', 'j'] Expected Output- Select specific columns and rows- name score b Dima 9.0 d James NaN f Michael 20.0 g Matthew 14.5"
   ]
  },
  {
   "cell_type": "code",
   "execution_count": 56,
   "metadata": {},
   "outputs": [
    {
     "name": "stdout",
     "output_type": "stream",
     "text": [
      "Select specific columns and rows:\n",
      "      name  score\n",
      "b     Dima    9.0\n",
      "d    James    NaN\n",
      "f  Michael   20.0\n",
      "g  Matthew   14.5\n"
     ]
    }
   ],
   "source": [
    "import pandas as pd \n",
    "import numpy as np\n",
    "exam_data = {'name': ['Anastasia', 'Dima', 'Katherine', 'James', 'Emily', 'Michael', 'Matthew', 'Laura', 'Kevin', 'Jonas'], \n",
    "             'score': [12.5, 9, 16.5, np.nan, 9, 20, 14.5, np.nan, 8, 19], \n",
    "             'attempts': [1, 3, 2, 3, 2, 3, 1, 1, 2, 1], \n",
    "             'qualify': ['yes', 'no', 'yes', 'no', 'no', 'yes', 'yes', 'no', 'no', 'yes']} \n",
    "labels = ['a', 'b', 'c', 'd', 'e', 'f', 'g', 'h', 'i', 'j']\n",
    "df = pd.DataFrame(exam_data , index=labels)\n",
    "print(\"Select specific columns and rows:\") \n",
    "print(df.iloc[[1, 3, 5, 6], [1, 3]])"
   ]
  },
  {
   "cell_type": "markdown",
   "metadata": {},
   "source": [
    "#### Q109. Write the pandas program to calculate mean score for each different student in DataFrame?\n",
    "Sample Python dictionary data and list labels- exam_data = {'name': ['Anastasia', 'Dima', 'Katherine', 'James', 'Emily', 'Michael', 'Matthew', 'Laura', 'Kevin', 'Jonas'], 'score': [12.5, 9, 16.5, np.nan, 9, 20, 14.5, np.nan, 8, 19], 'attempts'- [1, 3, 2, 3, 2, 3, 1, 1, 2, 1], 'qualify'- ['yes', 'no', ' yes ', ' no ', ' no ', ' yes ', ' yes ', ' no ', ' no ', ' yes '] } labels = ['a', 'b', 'c', 'd', 'e', 'f', 'g', 'h', 'i', 'j'] Expected Output- Mean score for each different student in data frame: 13.5625"
   ]
  },
  {
   "cell_type": "code",
   "execution_count": 58,
   "metadata": {},
   "outputs": [
    {
     "name": "stdout",
     "output_type": "stream",
     "text": [
      "Mean score for each different student in data frame:\n",
      "13.5625\n"
     ]
    }
   ],
   "source": [
    "import pandas as pd \n",
    "import numpy as np\n",
    "exam_data = {'name': ['Anastasia', 'Dima', 'Katherine', 'James', 'Emily', 'Michael', 'Matthew', 'Laura', 'Kevin', 'Jonas'], \n",
    "             'score': [12.5, 9, 16.5, np.nan, 9, 20, 14.5, np.nan, 8, 19], \n",
    "             'attempts': [1, 3, 2, 3, 2, 3, 1, 1, 2, 1], \n",
    "             'qualify': ['yes', 'no', 'yes', 'no', 'no', 'yes', 'yes', 'no', 'no', 'yes']} \n",
    "labels = ['a', 'b', 'c', 'd', 'e', 'f', 'g', 'h', 'i', 'j']\n",
    "df = pd.DataFrame(exam_data , index=labels)\n",
    "print(\"Mean score for each different student in data frame:\")\n",
    "print(df['score'].mean())"
   ]
  },
  {
   "cell_type": "markdown",
   "metadata": {},
   "source": [
    "#### Q110. Write the Pandas program to rename columns of a given DataFrame ?\n",
    "Sample data- Original data frame col1 col2 col3 0 1 4 7 1 2 5 8 2 3 6 9 New data frame after renaming columns: Column1 Column2 Column3 0 1 4 7 1 2 5 8 2 3 6 9 "
   ]
  },
  {
   "cell_type": "code",
   "execution_count": 60,
   "metadata": {},
   "outputs": [
    {
     "name": "stdout",
     "output_type": "stream",
     "text": [
      "Original DataFrame\n",
      "   col1  col2  col3\n",
      "0     1     4     7\n",
      "1     2     5     8\n",
      "2     3     6     9\n",
      "\n",
      "New DataFrame after renaming columns:\n",
      "   Column1  Column2  Column3\n",
      "0        1        4        7\n",
      "1        2        5        8\n",
      "2        3        6        9\n"
     ]
    }
   ],
   "source": [
    "import pandas as pd \n",
    "d = {'col1': [1, 2, 3], 'col2': [4, 5, 6], 'col3': [7, 8, 9]} \n",
    "df = pd.DataFrame(data=d)\n",
    "print(\"Original DataFrame\") \n",
    "print(df) \n",
    "df.columns = ['Column1', 'Column2', 'Column3'] \n",
    "df = df.rename(columns={'col1': 'Column1', 'col2': 'Column2', 'col3': 'Column3'})\n",
    "print(\"\\nNew DataFrame after renaming columns:\") \n",
    "print(df)"
   ]
  },
  {
   "cell_type": "markdown",
   "metadata": {},
   "source": [
    "#### Q111. Write a pandas program to count city-wise number of people from a given of data set (city, name of the person)?\n",
    "Sample data-city Number of people 0 California 4 1 Georgia 2 2 Los Angeles 4"
   ]
  },
  {
   "cell_type": "code",
   "execution_count": 62,
   "metadata": {},
   "outputs": [
    {
     "name": "stdout",
     "output_type": "stream",
     "text": [
      "          City  Number of people\n",
      "0   California                 4\n",
      "1      Georgia                 2\n",
      "2  Los Angeles                 4\n"
     ]
    }
   ],
   "source": [
    "import pandas as pd \n",
    "df1 = pd.DataFrame({'name': ['Anastasia', 'Dima', 'Katherine', 'James', 'Emily', 'Michael', 'Matthew', 'Laura', 'Kevin', 'Jonas'], \n",
    "                    'City': ['California', 'Los Angeles', 'California', 'California', 'California', 'Los Angeles', 'Los Angeles', 'Georgia', 'Georgia', 'Los Angeles']}) \n",
    "g1 = df1.groupby([\"City\"]).size().reset_index(name='Number of people') \n",
    "print(g1)"
   ]
  },
  {
   "cell_type": "markdown",
   "metadata": {},
   "source": [
    "#### Q112. Write a pandas program to widen output display to see more columns?\n",
    "Sample data- Original data frame col1 col2 col3 0 1 4 7 1 4 5 8 2 3 6 9 3 4 7 0 4 5 8 1"
   ]
  },
  {
   "cell_type": "code",
   "execution_count": 63,
   "metadata": {},
   "outputs": [
    {
     "name": "stdout",
     "output_type": "stream",
     "text": [
      "Original DataFrame\n",
      "   col1  col2  col3\n",
      "0     1     4     7\n",
      "1     4     5     8\n",
      "2     3     6     9\n",
      "3     4     7     0\n",
      "4     5     8     1\n"
     ]
    }
   ],
   "source": [
    "import pandas as pd \n",
    "import numpy as np \n",
    "d = {'col1': [1, 4, 3, 4, 5], 'col2': [4, 5, 6, 7, 8], 'col3': [7, 8, 9, 0, 1]} \n",
    "df = pd.DataFrame(data=d) \n",
    "pd.set_option('display.max_rows', 500) \n",
    "pd.set_option('display.max_columns', 500) \n",
    "pd.set_option('display.width', 1000)\n",
    "print(\"Original DataFrame\") \n",
    "print(df)"
   ]
  },
  {
   "cell_type": "markdown",
   "metadata": {},
   "source": [
    "#### Q113. Write a pandas program to convert the data frame column type from string to DateTime?\n",
    "Sample data- String Date- 0 3/11/2000 1 3/12/2000 2 3/13/2000 dtype- object Original DataFrame (string to datetime)- 0 0 2000-03-11 1 2000-03-12 2 2000-03-13"
   ]
  },
  {
   "cell_type": "code",
   "execution_count": 66,
   "metadata": {},
   "outputs": [
    {
     "name": "stdout",
     "output_type": "stream",
     "text": [
      "String Date:\n",
      "0    3/11/2000\n",
      "1    3/12/2000\n",
      "2    3/13/2000\n",
      "dtype: object\n",
      "\n",
      "Original DataFrame (string to datetime):\n",
      "           0\n",
      "0 2000-03-11\n",
      "1 2000-03-12\n",
      "2 2000-03-13\n"
     ]
    }
   ],
   "source": [
    "import pandas as pd \n",
    "import numpy as np \n",
    "s = pd.Series(['3/11/2000', '3/12/2000', '3/13/2000'])\n",
    "print(\"String Date:\") \n",
    "print(s) \n",
    "r = pd.to_datetime(pd.Series(s)) \n",
    "df = pd.DataFrame(r)\n",
    "print(\"\\nOriginal DataFrame (string to datetime):\") \n",
    "print(df)"
   ]
  },
  {
   "cell_type": "markdown",
   "metadata": {},
   "source": [
    "### Q114. Write a pandas program to append the data to an empty DataFrame?\n",
    "Sample data- Original DataFrame- After appending some data: col1 col2 0 0 0 1 1 1 2 2 2 "
   ]
  },
  {
   "cell_type": "code",
   "execution_count": 67,
   "metadata": {},
   "outputs": [
    {
     "name": "stdout",
     "output_type": "stream",
     "text": [
      "After appending some data:\n",
      "   col1  col2\n",
      "0     0     0\n",
      "1     1     1\n",
      "2     2     2\n"
     ]
    }
   ],
   "source": [
    "import pandas as pd \n",
    "import numpy as np \n",
    "df = pd.DataFrame() \n",
    "data = pd.DataFrame({\"col1\": range(3),\"col2\": range(3)})\n",
    "print(\"After appending some data:\") \n",
    "df = df.append(data) \n",
    "print(df)"
   ]
  },
  {
   "cell_type": "markdown",
   "metadata": {},
   "source": [
    "#### Q115. Write a pandas program to count the number of columns of a DataFrame?\n",
    "Sample Output- Original DataFrame col1 col2 col3 0 1 4 7 1 2 5 8 2 3 6 12 3 4 9 1 4 7 5 11 Number of columns- 3 "
   ]
  },
  {
   "cell_type": "code",
   "execution_count": 69,
   "metadata": {},
   "outputs": [
    {
     "name": "stdout",
     "output_type": "stream",
     "text": [
      "Original DataFrame\n",
      "   col1  col2  col3\n",
      "0     1     4     7\n",
      "1     2     5     8\n",
      "2     3     6    12\n",
      "3     4     9     1\n",
      "4     7     5    11\n",
      "\n",
      "Number of columns:\n",
      "3\n"
     ]
    }
   ],
   "source": [
    "import pandas as pd \n",
    "d = {'col1': [1, 2, 3, 4, 7], 'col2': [4, 5, 6, 9, 5], 'col3': [7, 8, 12, 1, 11]} \n",
    "df = pd.DataFrame(data=d) \n",
    "print(\"Original DataFrame\") \n",
    "print(df)\n",
    "print(\"\\nNumber of columns:\") \n",
    "print(len(df.columns))"
   ]
  },
  {
   "cell_type": "markdown",
   "metadata": {},
   "source": [
    "#### Q116. Write a Pandas program to remove the last n rows of a given DataFrame ?\n",
    "Sample Output: Original DataFrame col1 col2 col3 0 1 4 7 1 2 5 5 2 3 6 8 3 4 9 12 4 7 5 1 5 11 0 11 After removing last 3 rows of the said DataFrame- col1 col2 col3 0 1 4 7 1 2 5 5 2 3 6 8\n",
    "Link for Datasets (https://drive.google.com/drive/folders/105ftuIwN9kqyPNEEm3E6IM7LqywjyvJa?usp=sharing) "
   ]
  },
  {
   "cell_type": "code",
   "execution_count": 70,
   "metadata": {},
   "outputs": [
    {
     "name": "stdout",
     "output_type": "stream",
     "text": [
      "Original DataFrame\n",
      "   col1  col2  col3\n",
      "0     1     4     7\n",
      "1     2     5     5\n",
      "2     3     6     8\n",
      "3     4     9    12\n",
      "4     7     5     1\n",
      "5    11     0    11\n",
      "\n",
      "After removing last 3 rows of the said DataFrame:\n",
      "   col1  col2  col3\n",
      "0     1     4     7\n",
      "1     2     5     5\n",
      "2     3     6     8\n"
     ]
    }
   ],
   "source": [
    "import pandas as pd \n",
    "d = {'col1': [1, 2, 3, 4, 7, 11], 'col2': [4, 5, 6, 9, 5, 0], 'col3': [7, 5, 8, 12, 1,11]} \n",
    "df = pd.DataFrame(data=d)\n",
    "print(\"Original DataFrame\") \n",
    "print(df)\n",
    "print(\"\\nAfter removing last 3 rows of the said DataFrame:\") \n",
    "df1 = df.iloc[:3] \n",
    "print(df1)"
   ]
  },
  {
   "cell_type": "markdown",
   "metadata": {},
   "source": [
    "#### Q117. Write a Pandas program to import excel data (coalpublic2013.xlsx ) into a Pandas data frame."
   ]
  },
  {
   "cell_type": "code",
   "execution_count": 72,
   "metadata": {},
   "outputs": [
    {
     "data": {
      "text/html": [
       "<div>\n",
       "<style>\n",
       "    .dataframe thead tr:only-child th {\n",
       "        text-align: right;\n",
       "    }\n",
       "\n",
       "    .dataframe thead th {\n",
       "        text-align: left;\n",
       "    }\n",
       "\n",
       "    .dataframe tbody tr th {\n",
       "        vertical-align: top;\n",
       "    }\n",
       "</style>\n",
       "<table border=\"1\" class=\"dataframe\">\n",
       "  <thead>\n",
       "    <tr style=\"text-align: right;\">\n",
       "      <th></th>\n",
       "      <th>Year</th>\n",
       "      <th>MSHA ID</th>\n",
       "      <th>Mine_Name</th>\n",
       "      <th>Production</th>\n",
       "      <th>Labor_Hours</th>\n",
       "    </tr>\n",
       "  </thead>\n",
       "  <tbody>\n",
       "    <tr>\n",
       "      <th>0</th>\n",
       "      <td>2013</td>\n",
       "      <td>103381</td>\n",
       "      <td>Tacoa Highwall Miner</td>\n",
       "      <td>56004</td>\n",
       "      <td>22392</td>\n",
       "    </tr>\n",
       "    <tr>\n",
       "      <th>1</th>\n",
       "      <td>2013</td>\n",
       "      <td>103404</td>\n",
       "      <td>Reid School Mine</td>\n",
       "      <td>28807</td>\n",
       "      <td>8447</td>\n",
       "    </tr>\n",
       "    <tr>\n",
       "      <th>2</th>\n",
       "      <td>2013</td>\n",
       "      <td>100759</td>\n",
       "      <td>North River #1 Underground Min</td>\n",
       "      <td>14,40,115</td>\n",
       "      <td>4,74,784</td>\n",
       "    </tr>\n",
       "    <tr>\n",
       "      <th>3</th>\n",
       "      <td>2013</td>\n",
       "      <td>103246</td>\n",
       "      <td>Bear Creek</td>\n",
       "      <td>87587</td>\n",
       "      <td>29193</td>\n",
       "    </tr>\n",
       "    <tr>\n",
       "      <th>4</th>\n",
       "      <td>2013</td>\n",
       "      <td>103451</td>\n",
       "      <td>Knight Mine</td>\n",
       "      <td>1,47,499</td>\n",
       "      <td>46393</td>\n",
       "    </tr>\n",
       "  </tbody>\n",
       "</table>\n",
       "</div>"
      ],
      "text/plain": [
       "   Year  MSHA ID                       Mine_Name Production Labor_Hours\n",
       "0  2013   103381            Tacoa Highwall Miner      56004       22392\n",
       "1  2013   103404                Reid School Mine      28807        8447\n",
       "2  2013   100759  North River #1 Underground Min  14,40,115    4,74,784\n",
       "3  2013   103246                      Bear Creek      87587       29193\n",
       "4  2013   103451                     Knight Mine   1,47,499       46393"
      ]
     },
     "execution_count": 72,
     "metadata": {},
     "output_type": "execute_result"
    }
   ],
   "source": [
    "import pandas as pd \n",
    "import numpy as np \n",
    "df = pd.read_excel('E:\\coalpublic2013.xlsx') \n",
    "df.head()"
   ]
  },
  {
   "cell_type": "markdown",
   "metadata": {},
   "source": [
    "#### Q118. Write a Pandas program to import excel data (coalpublic2013.xlsx ) into a data frame and find details where \"Mine Name\" starts with \"P."
   ]
  },
  {
   "cell_type": "code",
   "execution_count": 73,
   "metadata": {},
   "outputs": [
    {
     "data": {
      "text/html": [
       "<div>\n",
       "<style>\n",
       "    .dataframe thead tr:only-child th {\n",
       "        text-align: right;\n",
       "    }\n",
       "\n",
       "    .dataframe thead th {\n",
       "        text-align: left;\n",
       "    }\n",
       "\n",
       "    .dataframe tbody tr th {\n",
       "        vertical-align: top;\n",
       "    }\n",
       "</style>\n",
       "<table border=\"1\" class=\"dataframe\">\n",
       "  <thead>\n",
       "    <tr style=\"text-align: right;\">\n",
       "      <th></th>\n",
       "      <th>Year</th>\n",
       "      <th>MSHA ID</th>\n",
       "      <th>Mine_Name</th>\n",
       "      <th>Production</th>\n",
       "      <th>Labor_Hours</th>\n",
       "    </tr>\n",
       "  </thead>\n",
       "  <tbody>\n",
       "    <tr>\n",
       "      <th>13</th>\n",
       "      <td>2013</td>\n",
       "      <td>103332</td>\n",
       "      <td>Powhatan Mine</td>\n",
       "      <td>1,40,521</td>\n",
       "      <td>61394</td>\n",
       "    </tr>\n",
       "    <tr>\n",
       "      <th>18</th>\n",
       "      <td>2013</td>\n",
       "      <td>102976</td>\n",
       "      <td>Piney Woods Preparation Plant</td>\n",
       "      <td>0</td>\n",
       "      <td>14828</td>\n",
       "    </tr>\n",
       "    <tr>\n",
       "      <th>19</th>\n",
       "      <td>2013</td>\n",
       "      <td>102976</td>\n",
       "      <td>Piney Woods Preparation Plant</td>\n",
       "      <td>0</td>\n",
       "      <td>23193</td>\n",
       "    </tr>\n",
       "    <tr>\n",
       "      <th>46</th>\n",
       "      <td>2013</td>\n",
       "      <td>103321</td>\n",
       "      <td>Poplar Springs</td>\n",
       "      <td>1,89,370</td>\n",
       "      <td>76366</td>\n",
       "    </tr>\n",
       "  </tbody>\n",
       "</table>\n",
       "</div>"
      ],
      "text/plain": [
       "    Year  MSHA ID                      Mine_Name Production Labor_Hours\n",
       "13  2013   103332                  Powhatan Mine   1,40,521       61394\n",
       "18  2013   102976  Piney Woods Preparation Plant          0       14828\n",
       "19  2013   102976  Piney Woods Preparation Plant          0       23193\n",
       "46  2013   103321                 Poplar Springs   1,89,370       76366"
      ]
     },
     "execution_count": 73,
     "metadata": {},
     "output_type": "execute_result"
    }
   ],
   "source": [
    "import pandas as pd \n",
    "import numpy as np \n",
    "df = pd.read_excel('E:\\coalpublic2013.xlsx') \n",
    "df[df[\"Mine_Name\"].map(lambda x: x.startswith('P'))].head()"
   ]
  },
  {
   "cell_type": "markdown",
   "metadata": {},
   "source": [
    "#### Q119. Write a Pandas program to import excel data (employee.xlsx ) into a Pandas dataframe and find the list of employees where hire_date> 01-01-07."
   ]
  },
  {
   "cell_type": "code",
   "execution_count": 74,
   "metadata": {},
   "outputs": [
    {
     "data": {
      "text/html": [
       "<div>\n",
       "<style>\n",
       "    .dataframe thead tr:only-child th {\n",
       "        text-align: right;\n",
       "    }\n",
       "\n",
       "    .dataframe thead th {\n",
       "        text-align: left;\n",
       "    }\n",
       "\n",
       "    .dataframe tbody tr th {\n",
       "        vertical-align: top;\n",
       "    }\n",
       "</style>\n",
       "<table border=\"1\" class=\"dataframe\">\n",
       "  <thead>\n",
       "    <tr style=\"text-align: right;\">\n",
       "      <th></th>\n",
       "      <th>emp_id</th>\n",
       "      <th>first_name</th>\n",
       "      <th>last_name</th>\n",
       "      <th>hire_date</th>\n",
       "    </tr>\n",
       "  </thead>\n",
       "  <tbody>\n",
       "    <tr>\n",
       "      <th>4</th>\n",
       "      <td>104</td>\n",
       "      <td>Bruce</td>\n",
       "      <td>Ernst</td>\n",
       "      <td>2007-05-21</td>\n",
       "    </tr>\n",
       "    <tr>\n",
       "      <th>7</th>\n",
       "      <td>107</td>\n",
       "      <td>Diana</td>\n",
       "      <td>Lorentz</td>\n",
       "      <td>2007-02-07</td>\n",
       "    </tr>\n",
       "    <tr>\n",
       "      <th>13</th>\n",
       "      <td>113</td>\n",
       "      <td>Luis</td>\n",
       "      <td>Popp</td>\n",
       "      <td>2007-12-07</td>\n",
       "    </tr>\n",
       "    <tr>\n",
       "      <th>19</th>\n",
       "      <td>119</td>\n",
       "      <td>Karen</td>\n",
       "      <td>Colmenares</td>\n",
       "      <td>2007-08-10</td>\n",
       "    </tr>\n",
       "  </tbody>\n",
       "</table>\n",
       "</div>"
      ],
      "text/plain": [
       "    emp_id first_name   last_name  hire_date\n",
       "4      104      Bruce       Ernst 2007-05-21\n",
       "7      107      Diana     Lorentz 2007-02-07\n",
       "13     113       Luis        Popp 2007-12-07\n",
       "19     119      Karen  Colmenares 2007-08-10"
      ]
     },
     "execution_count": 74,
     "metadata": {},
     "output_type": "execute_result"
    }
   ],
   "source": [
    "import pandas as pd \n",
    "import numpy as np \n",
    "df = pd.read_excel('E:\\employee.xlsx') \n",
    "df[df['hire_date'] >='20070101']"
   ]
  },
  {
   "cell_type": "markdown",
   "metadata": {},
   "source": [
    "#### Q120. Write Pandas program to import excel data (employee.xlsx ) into Pandas dataframe and find a list of the employees of a specified year."
   ]
  },
  {
   "cell_type": "code",
   "execution_count": 75,
   "metadata": {},
   "outputs": [
    {
     "data": {
      "text/html": [
       "<div>\n",
       "<style>\n",
       "    .dataframe thead tr:only-child th {\n",
       "        text-align: right;\n",
       "    }\n",
       "\n",
       "    .dataframe thead th {\n",
       "        text-align: left;\n",
       "    }\n",
       "\n",
       "    .dataframe tbody tr th {\n",
       "        vertical-align: top;\n",
       "    }\n",
       "</style>\n",
       "<table border=\"1\" class=\"dataframe\">\n",
       "  <thead>\n",
       "    <tr style=\"text-align: right;\">\n",
       "      <th></th>\n",
       "      <th>emp_id</th>\n",
       "      <th>first_name</th>\n",
       "      <th>last_name</th>\n",
       "    </tr>\n",
       "    <tr>\n",
       "      <th>hire_date</th>\n",
       "      <th></th>\n",
       "      <th></th>\n",
       "      <th></th>\n",
       "    </tr>\n",
       "  </thead>\n",
       "  <tbody>\n",
       "    <tr>\n",
       "      <th>2005-09-21</th>\n",
       "      <td>101</td>\n",
       "      <td>Neena</td>\n",
       "      <td>Kochhar</td>\n",
       "    </tr>\n",
       "    <tr>\n",
       "      <th>2005-06-25</th>\n",
       "      <td>105</td>\n",
       "      <td>David</td>\n",
       "      <td>Austin</td>\n",
       "    </tr>\n",
       "    <tr>\n",
       "      <th>2005-09-28</th>\n",
       "      <td>110</td>\n",
       "      <td>John</td>\n",
       "      <td>Chen</td>\n",
       "    </tr>\n",
       "    <tr>\n",
       "      <th>2005-09-30</th>\n",
       "      <td>111</td>\n",
       "      <td>Ismael</td>\n",
       "      <td>Sciarra</td>\n",
       "    </tr>\n",
       "    <tr>\n",
       "      <th>2005-12-24</th>\n",
       "      <td>116</td>\n",
       "      <td>Shelli</td>\n",
       "      <td>Baida</td>\n",
       "    </tr>\n",
       "    <tr>\n",
       "      <th>2005-07-24</th>\n",
       "      <td>117</td>\n",
       "      <td>Sigal</td>\n",
       "      <td>Tobias</td>\n",
       "    </tr>\n",
       "  </tbody>\n",
       "</table>\n",
       "</div>"
      ],
      "text/plain": [
       "            emp_id first_name last_name\n",
       "hire_date                              \n",
       "2005-09-21     101      Neena   Kochhar\n",
       "2005-06-25     105      David    Austin\n",
       "2005-09-28     110       John      Chen\n",
       "2005-09-30     111     Ismael   Sciarra\n",
       "2005-12-24     116     Shelli     Baida\n",
       "2005-07-24     117      Sigal    Tobias"
      ]
     },
     "execution_count": 75,
     "metadata": {},
     "output_type": "execute_result"
    }
   ],
   "source": [
    "import pandas as pd\n",
    "import numpy as np\n",
    "df = pd.read_excel('E:\\employee.xlsx')\n",
    "df2 = df.set_index(['hire_date'])\n",
    "result = df2[\"2005\"]\n",
    "result"
   ]
  },
  {
   "cell_type": "markdown",
   "metadata": {},
   "source": [
    "#### Q121. Write a pandas program to import three datasheets from a given excel data (employee.xlsx ) into a single dataframe. \n",
    "Note: Structure of three datasheets are same."
   ]
  },
  {
   "cell_type": "code",
   "execution_count": 3,
   "metadata": {},
   "outputs": [
    {
     "data": {
      "text/html": [
       "<div>\n",
       "<style>\n",
       "    .dataframe thead tr:only-child th {\n",
       "        text-align: right;\n",
       "    }\n",
       "\n",
       "    .dataframe thead th {\n",
       "        text-align: left;\n",
       "    }\n",
       "\n",
       "    .dataframe tbody tr th {\n",
       "        vertical-align: top;\n",
       "    }\n",
       "</style>\n",
       "<table border=\"1\" class=\"dataframe\">\n",
       "  <thead>\n",
       "    <tr style=\"text-align: right;\">\n",
       "      <th></th>\n",
       "      <th>emp_id</th>\n",
       "      <th>first_name</th>\n",
       "      <th>last_name</th>\n",
       "      <th>hire_date</th>\n",
       "    </tr>\n",
       "  </thead>\n",
       "  <tbody>\n",
       "    <tr>\n",
       "      <th>0</th>\n",
       "      <td>100</td>\n",
       "      <td>Steven</td>\n",
       "      <td>King</td>\n",
       "      <td>2003-06-17</td>\n",
       "    </tr>\n",
       "    <tr>\n",
       "      <th>1</th>\n",
       "      <td>101</td>\n",
       "      <td>Neena</td>\n",
       "      <td>Kochhar</td>\n",
       "      <td>2005-09-21</td>\n",
       "    </tr>\n",
       "    <tr>\n",
       "      <th>2</th>\n",
       "      <td>102</td>\n",
       "      <td>Lex De</td>\n",
       "      <td>Haan</td>\n",
       "      <td>2001-01-13</td>\n",
       "    </tr>\n",
       "    <tr>\n",
       "      <th>3</th>\n",
       "      <td>103</td>\n",
       "      <td>Alexander</td>\n",
       "      <td>Hunold</td>\n",
       "      <td>2006-01-03</td>\n",
       "    </tr>\n",
       "    <tr>\n",
       "      <th>4</th>\n",
       "      <td>104</td>\n",
       "      <td>Bruce</td>\n",
       "      <td>Ernst</td>\n",
       "      <td>2007-05-21</td>\n",
       "    </tr>\n",
       "    <tr>\n",
       "      <th>5</th>\n",
       "      <td>105</td>\n",
       "      <td>David</td>\n",
       "      <td>Austin</td>\n",
       "      <td>2005-06-25</td>\n",
       "    </tr>\n",
       "    <tr>\n",
       "      <th>6</th>\n",
       "      <td>106</td>\n",
       "      <td>Valli</td>\n",
       "      <td>Pataballa</td>\n",
       "      <td>2006-02-05</td>\n",
       "    </tr>\n",
       "    <tr>\n",
       "      <th>7</th>\n",
       "      <td>107</td>\n",
       "      <td>Diana</td>\n",
       "      <td>Lorentz</td>\n",
       "      <td>2007-02-07</td>\n",
       "    </tr>\n",
       "    <tr>\n",
       "      <th>8</th>\n",
       "      <td>108</td>\n",
       "      <td>Nancy</td>\n",
       "      <td>Greenberg</td>\n",
       "      <td>2002-08-17</td>\n",
       "    </tr>\n",
       "    <tr>\n",
       "      <th>9</th>\n",
       "      <td>109</td>\n",
       "      <td>Daniel</td>\n",
       "      <td>Faviet</td>\n",
       "      <td>2002-08-16</td>\n",
       "    </tr>\n",
       "    <tr>\n",
       "      <th>10</th>\n",
       "      <td>110</td>\n",
       "      <td>John</td>\n",
       "      <td>Chen</td>\n",
       "      <td>2005-09-28</td>\n",
       "    </tr>\n",
       "    <tr>\n",
       "      <th>11</th>\n",
       "      <td>111</td>\n",
       "      <td>Ismael</td>\n",
       "      <td>Sciarra</td>\n",
       "      <td>2005-09-30</td>\n",
       "    </tr>\n",
       "    <tr>\n",
       "      <th>12</th>\n",
       "      <td>112</td>\n",
       "      <td>Jose Manuel</td>\n",
       "      <td>Urman</td>\n",
       "      <td>2006-03-07</td>\n",
       "    </tr>\n",
       "    <tr>\n",
       "      <th>13</th>\n",
       "      <td>113</td>\n",
       "      <td>Luis</td>\n",
       "      <td>Popp</td>\n",
       "      <td>2007-12-07</td>\n",
       "    </tr>\n",
       "    <tr>\n",
       "      <th>14</th>\n",
       "      <td>114</td>\n",
       "      <td>Den</td>\n",
       "      <td>Raphaely</td>\n",
       "      <td>2002-12-07</td>\n",
       "    </tr>\n",
       "    <tr>\n",
       "      <th>15</th>\n",
       "      <td>115</td>\n",
       "      <td>Alexander</td>\n",
       "      <td>Khoo</td>\n",
       "      <td>2003-05-18</td>\n",
       "    </tr>\n",
       "    <tr>\n",
       "      <th>16</th>\n",
       "      <td>116</td>\n",
       "      <td>Shelli</td>\n",
       "      <td>Baida</td>\n",
       "      <td>2005-12-24</td>\n",
       "    </tr>\n",
       "    <tr>\n",
       "      <th>17</th>\n",
       "      <td>117</td>\n",
       "      <td>Sigal</td>\n",
       "      <td>Tobias</td>\n",
       "      <td>2005-07-24</td>\n",
       "    </tr>\n",
       "    <tr>\n",
       "      <th>18</th>\n",
       "      <td>118</td>\n",
       "      <td>Guy</td>\n",
       "      <td>Himuro</td>\n",
       "      <td>2006-11-15</td>\n",
       "    </tr>\n",
       "    <tr>\n",
       "      <th>19</th>\n",
       "      <td>119</td>\n",
       "      <td>Karen</td>\n",
       "      <td>Colmenares</td>\n",
       "      <td>2007-08-10</td>\n",
       "    </tr>\n",
       "    <tr>\n",
       "      <th>0</th>\n",
       "      <td>120</td>\n",
       "      <td>Matthew</td>\n",
       "      <td>Weiss</td>\n",
       "      <td>2004-07-18</td>\n",
       "    </tr>\n",
       "    <tr>\n",
       "      <th>1</th>\n",
       "      <td>121</td>\n",
       "      <td>Adam</td>\n",
       "      <td>Fripp</td>\n",
       "      <td>2005-04-10</td>\n",
       "    </tr>\n",
       "    <tr>\n",
       "      <th>2</th>\n",
       "      <td>122</td>\n",
       "      <td>Payam</td>\n",
       "      <td>Kaufling</td>\n",
       "      <td>2003-05-01</td>\n",
       "    </tr>\n",
       "    <tr>\n",
       "      <th>3</th>\n",
       "      <td>123</td>\n",
       "      <td>Shanta</td>\n",
       "      <td>Vollman</td>\n",
       "      <td>2005-10-10</td>\n",
       "    </tr>\n",
       "    <tr>\n",
       "      <th>4</th>\n",
       "      <td>124</td>\n",
       "      <td>Kevin</td>\n",
       "      <td>Mourgos</td>\n",
       "      <td>2007-11-16</td>\n",
       "    </tr>\n",
       "    <tr>\n",
       "      <th>5</th>\n",
       "      <td>125</td>\n",
       "      <td>Julia</td>\n",
       "      <td>Nayer</td>\n",
       "      <td>2005-07-16</td>\n",
       "    </tr>\n",
       "    <tr>\n",
       "      <th>6</th>\n",
       "      <td>126</td>\n",
       "      <td>Irene</td>\n",
       "      <td>Mikkilineni</td>\n",
       "      <td>2006-09-28</td>\n",
       "    </tr>\n",
       "    <tr>\n",
       "      <th>7</th>\n",
       "      <td>127</td>\n",
       "      <td>James</td>\n",
       "      <td>Landry</td>\n",
       "      <td>2007-01-14</td>\n",
       "    </tr>\n",
       "    <tr>\n",
       "      <th>8</th>\n",
       "      <td>128</td>\n",
       "      <td>Steven</td>\n",
       "      <td>Markle</td>\n",
       "      <td>2008-03-08</td>\n",
       "    </tr>\n",
       "    <tr>\n",
       "      <th>9</th>\n",
       "      <td>129</td>\n",
       "      <td>Laura</td>\n",
       "      <td>Bissot</td>\n",
       "      <td>2005-08-20</td>\n",
       "    </tr>\n",
       "    <tr>\n",
       "      <th>10</th>\n",
       "      <td>130</td>\n",
       "      <td>Mozhe</td>\n",
       "      <td>Atkinson</td>\n",
       "      <td>2005-10-30</td>\n",
       "    </tr>\n",
       "    <tr>\n",
       "      <th>11</th>\n",
       "      <td>131</td>\n",
       "      <td>James</td>\n",
       "      <td>Marlow</td>\n",
       "      <td>2005-02-16</td>\n",
       "    </tr>\n",
       "    <tr>\n",
       "      <th>12</th>\n",
       "      <td>132</td>\n",
       "      <td>TJ</td>\n",
       "      <td>Olson</td>\n",
       "      <td>2007-04-10</td>\n",
       "    </tr>\n",
       "    <tr>\n",
       "      <th>13</th>\n",
       "      <td>133</td>\n",
       "      <td>Jason</td>\n",
       "      <td>Mallin</td>\n",
       "      <td>2004-06-14</td>\n",
       "    </tr>\n",
       "    <tr>\n",
       "      <th>14</th>\n",
       "      <td>134</td>\n",
       "      <td>Michael</td>\n",
       "      <td>Rogers</td>\n",
       "      <td>2006-08-26</td>\n",
       "    </tr>\n",
       "    <tr>\n",
       "      <th>15</th>\n",
       "      <td>135</td>\n",
       "      <td>Ki</td>\n",
       "      <td>Gee</td>\n",
       "      <td>2007-12-12</td>\n",
       "    </tr>\n",
       "    <tr>\n",
       "      <th>16</th>\n",
       "      <td>136</td>\n",
       "      <td>Hazel</td>\n",
       "      <td>Philtanker</td>\n",
       "      <td>2008-02-06</td>\n",
       "    </tr>\n",
       "    <tr>\n",
       "      <th>17</th>\n",
       "      <td>137</td>\n",
       "      <td>Renske</td>\n",
       "      <td>Ladwig</td>\n",
       "      <td>2003-07-14</td>\n",
       "    </tr>\n",
       "    <tr>\n",
       "      <th>18</th>\n",
       "      <td>138</td>\n",
       "      <td>Stephen</td>\n",
       "      <td>Stiles</td>\n",
       "      <td>2005-10-26</td>\n",
       "    </tr>\n",
       "    <tr>\n",
       "      <th>0</th>\n",
       "      <td>141</td>\n",
       "      <td>Trenna</td>\n",
       "      <td>Rajs</td>\n",
       "      <td>2003-10-17</td>\n",
       "    </tr>\n",
       "    <tr>\n",
       "      <th>1</th>\n",
       "      <td>142</td>\n",
       "      <td>Curtis</td>\n",
       "      <td>Davies</td>\n",
       "      <td>2005-01-29</td>\n",
       "    </tr>\n",
       "    <tr>\n",
       "      <th>2</th>\n",
       "      <td>143</td>\n",
       "      <td>Randall</td>\n",
       "      <td>Matos</td>\n",
       "      <td>2006-03-15</td>\n",
       "    </tr>\n",
       "    <tr>\n",
       "      <th>3</th>\n",
       "      <td>144</td>\n",
       "      <td>Peter</td>\n",
       "      <td>Vargas</td>\n",
       "      <td>2006-07-09</td>\n",
       "    </tr>\n",
       "    <tr>\n",
       "      <th>4</th>\n",
       "      <td>145</td>\n",
       "      <td>John</td>\n",
       "      <td>Russell</td>\n",
       "      <td>2004-10-01</td>\n",
       "    </tr>\n",
       "    <tr>\n",
       "      <th>5</th>\n",
       "      <td>146</td>\n",
       "      <td>Karen</td>\n",
       "      <td>Partners</td>\n",
       "      <td>2005-01-05</td>\n",
       "    </tr>\n",
       "    <tr>\n",
       "      <th>6</th>\n",
       "      <td>147</td>\n",
       "      <td>Alberto</td>\n",
       "      <td>Errazuriz</td>\n",
       "      <td>2005-03-10</td>\n",
       "    </tr>\n",
       "    <tr>\n",
       "      <th>7</th>\n",
       "      <td>148</td>\n",
       "      <td>Gerald</td>\n",
       "      <td>Cambrault</td>\n",
       "      <td>2007-10-15</td>\n",
       "    </tr>\n",
       "    <tr>\n",
       "      <th>8</th>\n",
       "      <td>149</td>\n",
       "      <td>Eleni</td>\n",
       "      <td>Zlotkey</td>\n",
       "      <td>2008-01-29</td>\n",
       "    </tr>\n",
       "  </tbody>\n",
       "</table>\n",
       "</div>"
      ],
      "text/plain": [
       "    emp_id   first_name    last_name  hire_date\n",
       "0      100       Steven         King 2003-06-17\n",
       "1      101        Neena      Kochhar 2005-09-21\n",
       "2      102       Lex De         Haan 2001-01-13\n",
       "3      103    Alexander       Hunold 2006-01-03\n",
       "4      104        Bruce        Ernst 2007-05-21\n",
       "5      105        David       Austin 2005-06-25\n",
       "6      106        Valli    Pataballa 2006-02-05\n",
       "7      107        Diana      Lorentz 2007-02-07\n",
       "8      108        Nancy    Greenberg 2002-08-17\n",
       "9      109       Daniel       Faviet 2002-08-16\n",
       "10     110         John         Chen 2005-09-28\n",
       "11     111       Ismael      Sciarra 2005-09-30\n",
       "12     112  Jose Manuel        Urman 2006-03-07\n",
       "13     113         Luis         Popp 2007-12-07\n",
       "14     114          Den     Raphaely 2002-12-07\n",
       "15     115    Alexander         Khoo 2003-05-18\n",
       "16     116       Shelli        Baida 2005-12-24\n",
       "17     117        Sigal       Tobias 2005-07-24\n",
       "18     118          Guy       Himuro 2006-11-15\n",
       "19     119        Karen   Colmenares 2007-08-10\n",
       "0      120      Matthew        Weiss 2004-07-18\n",
       "1      121         Adam        Fripp 2005-04-10\n",
       "2      122        Payam     Kaufling 2003-05-01\n",
       "3      123       Shanta      Vollman 2005-10-10\n",
       "4      124        Kevin      Mourgos 2007-11-16\n",
       "5      125        Julia        Nayer 2005-07-16\n",
       "6      126        Irene  Mikkilineni 2006-09-28\n",
       "7      127        James       Landry 2007-01-14\n",
       "8      128       Steven       Markle 2008-03-08\n",
       "9      129        Laura       Bissot 2005-08-20\n",
       "10     130        Mozhe     Atkinson 2005-10-30\n",
       "11     131        James       Marlow 2005-02-16\n",
       "12     132           TJ        Olson 2007-04-10\n",
       "13     133        Jason       Mallin 2004-06-14\n",
       "14     134      Michael       Rogers 2006-08-26\n",
       "15     135           Ki          Gee 2007-12-12\n",
       "16     136        Hazel   Philtanker 2008-02-06\n",
       "17     137       Renske       Ladwig 2003-07-14\n",
       "18     138      Stephen       Stiles 2005-10-26\n",
       "0      141       Trenna         Rajs 2003-10-17\n",
       "1      142       Curtis       Davies 2005-01-29\n",
       "2      143      Randall        Matos 2006-03-15\n",
       "3      144        Peter       Vargas 2006-07-09\n",
       "4      145         John      Russell 2004-10-01\n",
       "5      146        Karen     Partners 2005-01-05\n",
       "6      147      Alberto    Errazuriz 2005-03-10\n",
       "7      148       Gerald    Cambrault 2007-10-15\n",
       "8      149        Eleni      Zlotkey 2008-01-29"
      ]
     },
     "execution_count": 3,
     "metadata": {},
     "output_type": "execute_result"
    }
   ],
   "source": [
    "import pandas as pd\n",
    "import numpy as np\n",
    "df1 = pd.read_excel('E:\\employee.xlsx',sheetname=0)\n",
    "df2 = pd.read_excel('E:\\employee.xlsx',sheetname=1)\n",
    "df3 = pd.read_excel('E:\\employee.xlsx',sheetname=2)\n",
    "df = pd.concat([df1, df2, df3])\n",
    "df"
   ]
  },
  {
   "cell_type": "markdown",
   "metadata": {},
   "source": [
    "#### Q122. Write a pandas program to import three datasheets from a given excel data (employee.xlsx ) into a single data frame and export the result into new Excel file. \n",
    "Note: Structure of three datasheets are same."
   ]
  },
  {
   "cell_type": "code",
   "execution_count": 82,
   "metadata": {
    "collapsed": true
   },
   "outputs": [],
   "source": [
    "import pandas as pd\n",
    "import numpy as np\n",
    "df1 = pd.read_excel('E:\\employee.xlsx',sheetname=0)\n",
    "df2 = pd.read_excel('E:\\employee.xlsx',sheetname=1)\n",
    "df3 = pd.read_excel('E:\\employee.xlsx',sheetname=2)\n",
    "df = pd.concat([df1, df2, df3])\n",
    "df.to_excel('e:\\output.xlsx', index=False)"
   ]
  },
  {
   "cell_type": "markdown",
   "metadata": {},
   "source": [
    "#### Q123. Write a pandas program to create the Pivot table with multiple indexes from the data set of the titanic.csv.\n"
   ]
  },
  {
   "cell_type": "code",
   "execution_count": 11,
   "metadata": {},
   "outputs": [
    {
     "data": {
      "text/html": [
       "<div>\n",
       "<style>\n",
       "    .dataframe thead tr:only-child th {\n",
       "        text-align: right;\n",
       "    }\n",
       "\n",
       "    .dataframe thead th {\n",
       "        text-align: left;\n",
       "    }\n",
       "\n",
       "    .dataframe tbody tr th {\n",
       "        vertical-align: top;\n",
       "    }\n",
       "</style>\n",
       "<table border=\"1\" class=\"dataframe\">\n",
       "  <thead>\n",
       "    <tr style=\"text-align: right;\">\n",
       "      <th></th>\n",
       "      <th></th>\n",
       "      <th>Fare</th>\n",
       "      <th>Parch</th>\n",
       "      <th>PassengerId</th>\n",
       "      <th>Pclass</th>\n",
       "      <th>SibSp</th>\n",
       "      <th>Survived</th>\n",
       "    </tr>\n",
       "    <tr>\n",
       "      <th>Sex</th>\n",
       "      <th>Age</th>\n",
       "      <th></th>\n",
       "      <th></th>\n",
       "      <th></th>\n",
       "      <th></th>\n",
       "      <th></th>\n",
       "      <th></th>\n",
       "    </tr>\n",
       "  </thead>\n",
       "  <tbody>\n",
       "    <tr>\n",
       "      <th rowspan=\"30\" valign=\"top\">female</th>\n",
       "      <th>0.75</th>\n",
       "      <td>38.5166</td>\n",
       "      <td>2</td>\n",
       "      <td>1115</td>\n",
       "      <td>6</td>\n",
       "      <td>4</td>\n",
       "      <td>2</td>\n",
       "    </tr>\n",
       "    <tr>\n",
       "      <th>1.00</th>\n",
       "      <td>26.8750</td>\n",
       "      <td>3</td>\n",
       "      <td>555</td>\n",
       "      <td>6</td>\n",
       "      <td>1</td>\n",
       "      <td>2</td>\n",
       "    </tr>\n",
       "    <tr>\n",
       "      <th>2.00</th>\n",
       "      <td>259.4750</td>\n",
       "      <td>9</td>\n",
       "      <td>2278</td>\n",
       "      <td>15</td>\n",
       "      <td>9</td>\n",
       "      <td>2</td>\n",
       "    </tr>\n",
       "    <tr>\n",
       "      <th>3.00</th>\n",
       "      <td>62.6542</td>\n",
       "      <td>3</td>\n",
       "      <td>419</td>\n",
       "      <td>5</td>\n",
       "      <td>4</td>\n",
       "      <td>1</td>\n",
       "    </tr>\n",
       "    <tr>\n",
       "      <th>4.00</th>\n",
       "      <td>114.1417</td>\n",
       "      <td>6</td>\n",
       "      <td>2258</td>\n",
       "      <td>13</td>\n",
       "      <td>4</td>\n",
       "      <td>5</td>\n",
       "    </tr>\n",
       "    <tr>\n",
       "      <th>5.00</th>\n",
       "      <td>90.8708</td>\n",
       "      <td>5</td>\n",
       "      <td>1520</td>\n",
       "      <td>11</td>\n",
       "      <td>7</td>\n",
       "      <td>4</td>\n",
       "    </tr>\n",
       "    <tr>\n",
       "      <th>6.00</th>\n",
       "      <td>64.2750</td>\n",
       "      <td>3</td>\n",
       "      <td>1535</td>\n",
       "      <td>5</td>\n",
       "      <td>4</td>\n",
       "      <td>1</td>\n",
       "    </tr>\n",
       "    <tr>\n",
       "      <th>7.00</th>\n",
       "      <td>26.2500</td>\n",
       "      <td>2</td>\n",
       "      <td>536</td>\n",
       "      <td>2</td>\n",
       "      <td>0</td>\n",
       "      <td>1</td>\n",
       "    </tr>\n",
       "    <tr>\n",
       "      <th>8.00</th>\n",
       "      <td>47.3250</td>\n",
       "      <td>3</td>\n",
       "      <td>263</td>\n",
       "      <td>5</td>\n",
       "      <td>3</td>\n",
       "      <td>1</td>\n",
       "    </tr>\n",
       "    <tr>\n",
       "      <th>9.00</th>\n",
       "      <td>108.7958</td>\n",
       "      <td>7</td>\n",
       "      <td>2178</td>\n",
       "      <td>12</td>\n",
       "      <td>10</td>\n",
       "      <td>0</td>\n",
       "    </tr>\n",
       "    <tr>\n",
       "      <th>10.00</th>\n",
       "      <td>24.1500</td>\n",
       "      <td>2</td>\n",
       "      <td>420</td>\n",
       "      <td>3</td>\n",
       "      <td>0</td>\n",
       "      <td>0</td>\n",
       "    </tr>\n",
       "    <tr>\n",
       "      <th>11.00</th>\n",
       "      <td>31.2750</td>\n",
       "      <td>2</td>\n",
       "      <td>543</td>\n",
       "      <td>3</td>\n",
       "      <td>4</td>\n",
       "      <td>0</td>\n",
       "    </tr>\n",
       "    <tr>\n",
       "      <th>13.00</th>\n",
       "      <td>26.7292</td>\n",
       "      <td>1</td>\n",
       "      <td>1228</td>\n",
       "      <td>5</td>\n",
       "      <td>0</td>\n",
       "      <td>2</td>\n",
       "    </tr>\n",
       "    <tr>\n",
       "      <th>14.00</th>\n",
       "      <td>169.1667</td>\n",
       "      <td>2</td>\n",
       "      <td>501</td>\n",
       "      <td>9</td>\n",
       "      <td>3</td>\n",
       "      <td>3</td>\n",
       "    </tr>\n",
       "    <tr>\n",
       "      <th>14.50</th>\n",
       "      <td>14.4542</td>\n",
       "      <td>0</td>\n",
       "      <td>112</td>\n",
       "      <td>3</td>\n",
       "      <td>1</td>\n",
       "      <td>0</td>\n",
       "    </tr>\n",
       "    <tr>\n",
       "      <th>15.00</th>\n",
       "      <td>241.0459</td>\n",
       "      <td>1</td>\n",
       "      <td>2420</td>\n",
       "      <td>10</td>\n",
       "      <td>1</td>\n",
       "      <td>4</td>\n",
       "    </tr>\n",
       "    <tr>\n",
       "      <th>16.00</th>\n",
       "      <td>246.2625</td>\n",
       "      <td>4</td>\n",
       "      <td>2127</td>\n",
       "      <td>12</td>\n",
       "      <td>5</td>\n",
       "      <td>5</td>\n",
       "    </tr>\n",
       "    <tr>\n",
       "      <th>17.00</th>\n",
       "      <td>210.7833</td>\n",
       "      <td>2</td>\n",
       "      <td>1749</td>\n",
       "      <td>12</td>\n",
       "      <td>6</td>\n",
       "      <td>5</td>\n",
       "    </tr>\n",
       "    <tr>\n",
       "      <th>18.00</th>\n",
       "      <td>697.0167</td>\n",
       "      <td>9</td>\n",
       "      <td>7245</td>\n",
       "      <td>31</td>\n",
       "      <td>6</td>\n",
       "      <td>8</td>\n",
       "    </tr>\n",
       "    <tr>\n",
       "      <th>19.00</th>\n",
       "      <td>215.0959</td>\n",
       "      <td>2</td>\n",
       "      <td>2530</td>\n",
       "      <td>13</td>\n",
       "      <td>3</td>\n",
       "      <td>7</td>\n",
       "    </tr>\n",
       "    <tr>\n",
       "      <th>20.00</th>\n",
       "      <td>18.4875</td>\n",
       "      <td>0</td>\n",
       "      <td>519</td>\n",
       "      <td>6</td>\n",
       "      <td>1</td>\n",
       "      <td>0</td>\n",
       "    </tr>\n",
       "    <tr>\n",
       "      <th>21.00</th>\n",
       "      <td>410.4333</td>\n",
       "      <td>4</td>\n",
       "      <td>2877</td>\n",
       "      <td>16</td>\n",
       "      <td>5</td>\n",
       "      <td>4</td>\n",
       "    </tr>\n",
       "    <tr>\n",
       "      <th>22.00</th>\n",
       "      <td>444.1084</td>\n",
       "      <td>6</td>\n",
       "      <td>5413</td>\n",
       "      <td>26</td>\n",
       "      <td>3</td>\n",
       "      <td>10</td>\n",
       "    </tr>\n",
       "    <tr>\n",
       "      <th>23.00</th>\n",
       "      <td>405.5417</td>\n",
       "      <td>2</td>\n",
       "      <td>2424</td>\n",
       "      <td>10</td>\n",
       "      <td>4</td>\n",
       "      <td>4</td>\n",
       "    </tr>\n",
       "    <tr>\n",
       "      <th>24.00</th>\n",
       "      <td>772.1708</td>\n",
       "      <td>15</td>\n",
       "      <td>6833</td>\n",
       "      <td>31</td>\n",
       "      <td>10</td>\n",
       "      <td>14</td>\n",
       "    </tr>\n",
       "    <tr>\n",
       "      <th>25.00</th>\n",
       "      <td>223.2500</td>\n",
       "      <td>4</td>\n",
       "      <td>2938</td>\n",
       "      <td>11</td>\n",
       "      <td>3</td>\n",
       "      <td>2</td>\n",
       "    </tr>\n",
       "    <tr>\n",
       "      <th>26.00</th>\n",
       "      <td>136.7292</td>\n",
       "      <td>1</td>\n",
       "      <td>1541</td>\n",
       "      <td>12</td>\n",
       "      <td>2</td>\n",
       "      <td>3</td>\n",
       "    </tr>\n",
       "    <tr>\n",
       "      <th>27.00</th>\n",
       "      <td>76.8916</td>\n",
       "      <td>3</td>\n",
       "      <td>2677</td>\n",
       "      <td>15</td>\n",
       "      <td>2</td>\n",
       "      <td>5</td>\n",
       "    </tr>\n",
       "    <tr>\n",
       "      <th>28.00</th>\n",
       "      <td>110.9458</td>\n",
       "      <td>1</td>\n",
       "      <td>3307</td>\n",
       "      <td>16</td>\n",
       "      <td>3</td>\n",
       "      <td>5</td>\n",
       "    </tr>\n",
       "    <tr>\n",
       "      <th>29.00</th>\n",
       "      <td>320.6208</td>\n",
       "      <td>7</td>\n",
       "      <td>2062</td>\n",
       "      <td>16</td>\n",
       "      <td>3</td>\n",
       "      <td>5</td>\n",
       "    </tr>\n",
       "    <tr>\n",
       "      <th>...</th>\n",
       "      <th>...</th>\n",
       "      <td>...</td>\n",
       "      <td>...</td>\n",
       "      <td>...</td>\n",
       "      <td>...</td>\n",
       "      <td>...</td>\n",
       "      <td>...</td>\n",
       "    </tr>\n",
       "    <tr>\n",
       "      <th rowspan=\"30\" valign=\"top\">male</th>\n",
       "      <th>42.00</th>\n",
       "      <td>216.1084</td>\n",
       "      <td>1</td>\n",
       "      <td>4117</td>\n",
       "      <td>21</td>\n",
       "      <td>3</td>\n",
       "      <td>3</td>\n",
       "    </tr>\n",
       "    <tr>\n",
       "      <th>43.00</th>\n",
       "      <td>40.7500</td>\n",
       "      <td>1</td>\n",
       "      <td>1803</td>\n",
       "      <td>8</td>\n",
       "      <td>1</td>\n",
       "      <td>0</td>\n",
       "    </tr>\n",
       "    <tr>\n",
       "      <th>44.00</th>\n",
       "      <td>156.1250</td>\n",
       "      <td>1</td>\n",
       "      <td>2360</td>\n",
       "      <td>15</td>\n",
       "      <td>3</td>\n",
       "      <td>1</td>\n",
       "    </tr>\n",
       "    <tr>\n",
       "      <th>45.00</th>\n",
       "      <td>187.1000</td>\n",
       "      <td>0</td>\n",
       "      <td>1597</td>\n",
       "      <td>10</td>\n",
       "      <td>1</td>\n",
       "      <td>2</td>\n",
       "    </tr>\n",
       "    <tr>\n",
       "      <th>45.50</th>\n",
       "      <td>35.7250</td>\n",
       "      <td>0</td>\n",
       "      <td>536</td>\n",
       "      <td>4</td>\n",
       "      <td>0</td>\n",
       "      <td>0</td>\n",
       "    </tr>\n",
       "    <tr>\n",
       "      <th>46.00</th>\n",
       "      <td>166.3750</td>\n",
       "      <td>0</td>\n",
       "      <td>1281</td>\n",
       "      <td>4</td>\n",
       "      <td>1</td>\n",
       "      <td>0</td>\n",
       "    </tr>\n",
       "    <tr>\n",
       "      <th>47.00</th>\n",
       "      <td>181.3583</td>\n",
       "      <td>0</td>\n",
       "      <td>3807</td>\n",
       "      <td>12</td>\n",
       "      <td>0</td>\n",
       "      <td>0</td>\n",
       "    </tr>\n",
       "    <tr>\n",
       "      <th>48.00</th>\n",
       "      <td>176.1334</td>\n",
       "      <td>0</td>\n",
       "      <td>3056</td>\n",
       "      <td>8</td>\n",
       "      <td>2</td>\n",
       "      <td>3</td>\n",
       "    </tr>\n",
       "    <tr>\n",
       "      <th>49.00</th>\n",
       "      <td>256.9167</td>\n",
       "      <td>1</td>\n",
       "      <td>2351</td>\n",
       "      <td>6</td>\n",
       "      <td>3</td>\n",
       "      <td>2</td>\n",
       "    </tr>\n",
       "    <tr>\n",
       "      <th>50.00</th>\n",
       "      <td>317.0250</td>\n",
       "      <td>0</td>\n",
       "      <td>2848</td>\n",
       "      <td>8</td>\n",
       "      <td>4</td>\n",
       "      <td>1</td>\n",
       "    </tr>\n",
       "    <tr>\n",
       "      <th>51.00</th>\n",
       "      <td>123.3084</td>\n",
       "      <td>1</td>\n",
       "      <td>2427</td>\n",
       "      <td>13</td>\n",
       "      <td>0</td>\n",
       "      <td>1</td>\n",
       "    </tr>\n",
       "    <tr>\n",
       "      <th>52.00</th>\n",
       "      <td>136.6500</td>\n",
       "      <td>1</td>\n",
       "      <td>2124</td>\n",
       "      <td>6</td>\n",
       "      <td>1</td>\n",
       "      <td>1</td>\n",
       "    </tr>\n",
       "    <tr>\n",
       "      <th>54.00</th>\n",
       "      <td>195.1500</td>\n",
       "      <td>1</td>\n",
       "      <td>1283</td>\n",
       "      <td>8</td>\n",
       "      <td>1</td>\n",
       "      <td>0</td>\n",
       "    </tr>\n",
       "    <tr>\n",
       "      <th>55.00</th>\n",
       "      <td>30.5000</td>\n",
       "      <td>0</td>\n",
       "      <td>493</td>\n",
       "      <td>1</td>\n",
       "      <td>0</td>\n",
       "      <td>0</td>\n",
       "    </tr>\n",
       "    <tr>\n",
       "      <th>55.50</th>\n",
       "      <td>8.0500</td>\n",
       "      <td>0</td>\n",
       "      <td>153</td>\n",
       "      <td>3</td>\n",
       "      <td>0</td>\n",
       "      <td>0</td>\n",
       "    </tr>\n",
       "    <tr>\n",
       "      <th>56.00</th>\n",
       "      <td>92.7458</td>\n",
       "      <td>0</td>\n",
       "      <td>1291</td>\n",
       "      <td>3</td>\n",
       "      <td>0</td>\n",
       "      <td>1</td>\n",
       "    </tr>\n",
       "    <tr>\n",
       "      <th>57.00</th>\n",
       "      <td>12.3500</td>\n",
       "      <td>0</td>\n",
       "      <td>627</td>\n",
       "      <td>2</td>\n",
       "      <td>0</td>\n",
       "      <td>0</td>\n",
       "    </tr>\n",
       "    <tr>\n",
       "      <th>58.00</th>\n",
       "      <td>142.9750</td>\n",
       "      <td>2</td>\n",
       "      <td>1148</td>\n",
       "      <td>2</td>\n",
       "      <td>0</td>\n",
       "      <td>0</td>\n",
       "    </tr>\n",
       "    <tr>\n",
       "      <th>59.00</th>\n",
       "      <td>20.7500</td>\n",
       "      <td>0</td>\n",
       "      <td>328</td>\n",
       "      <td>5</td>\n",
       "      <td>0</td>\n",
       "      <td>0</td>\n",
       "    </tr>\n",
       "    <tr>\n",
       "      <th>60.00</th>\n",
       "      <td>144.7500</td>\n",
       "      <td>2</td>\n",
       "      <td>1968</td>\n",
       "      <td>4</td>\n",
       "      <td>2</td>\n",
       "      <td>1</td>\n",
       "    </tr>\n",
       "    <tr>\n",
       "      <th>61.00</th>\n",
       "      <td>72.0583</td>\n",
       "      <td>0</td>\n",
       "      <td>1124</td>\n",
       "      <td>5</td>\n",
       "      <td>0</td>\n",
       "      <td>0</td>\n",
       "    </tr>\n",
       "    <tr>\n",
       "      <th>62.00</th>\n",
       "      <td>63.6000</td>\n",
       "      <td>0</td>\n",
       "      <td>1380</td>\n",
       "      <td>4</td>\n",
       "      <td>0</td>\n",
       "      <td>1</td>\n",
       "    </tr>\n",
       "    <tr>\n",
       "      <th>64.00</th>\n",
       "      <td>289.0000</td>\n",
       "      <td>4</td>\n",
       "      <td>985</td>\n",
       "      <td>2</td>\n",
       "      <td>1</td>\n",
       "      <td>0</td>\n",
       "    </tr>\n",
       "    <tr>\n",
       "      <th>65.00</th>\n",
       "      <td>96.2792</td>\n",
       "      <td>1</td>\n",
       "      <td>793</td>\n",
       "      <td>5</td>\n",
       "      <td>0</td>\n",
       "      <td>0</td>\n",
       "    </tr>\n",
       "    <tr>\n",
       "      <th>66.00</th>\n",
       "      <td>10.5000</td>\n",
       "      <td>0</td>\n",
       "      <td>34</td>\n",
       "      <td>2</td>\n",
       "      <td>0</td>\n",
       "      <td>0</td>\n",
       "    </tr>\n",
       "    <tr>\n",
       "      <th>70.00</th>\n",
       "      <td>81.5000</td>\n",
       "      <td>1</td>\n",
       "      <td>1419</td>\n",
       "      <td>3</td>\n",
       "      <td>1</td>\n",
       "      <td>0</td>\n",
       "    </tr>\n",
       "    <tr>\n",
       "      <th>70.50</th>\n",
       "      <td>7.7500</td>\n",
       "      <td>0</td>\n",
       "      <td>117</td>\n",
       "      <td>3</td>\n",
       "      <td>0</td>\n",
       "      <td>0</td>\n",
       "    </tr>\n",
       "    <tr>\n",
       "      <th>71.00</th>\n",
       "      <td>84.1584</td>\n",
       "      <td>0</td>\n",
       "      <td>591</td>\n",
       "      <td>2</td>\n",
       "      <td>0</td>\n",
       "      <td>0</td>\n",
       "    </tr>\n",
       "    <tr>\n",
       "      <th>74.00</th>\n",
       "      <td>7.7750</td>\n",
       "      <td>0</td>\n",
       "      <td>852</td>\n",
       "      <td>3</td>\n",
       "      <td>0</td>\n",
       "      <td>0</td>\n",
       "    </tr>\n",
       "    <tr>\n",
       "      <th>80.00</th>\n",
       "      <td>30.0000</td>\n",
       "      <td>0</td>\n",
       "      <td>631</td>\n",
       "      <td>1</td>\n",
       "      <td>0</td>\n",
       "      <td>1</td>\n",
       "    </tr>\n",
       "  </tbody>\n",
       "</table>\n",
       "<p>145 rows × 6 columns</p>\n",
       "</div>"
      ],
      "text/plain": [
       "                  Fare  Parch  PassengerId  Pclass  SibSp  Survived\n",
       "Sex    Age                                                         \n",
       "female 0.75    38.5166      2         1115       6      4         2\n",
       "       1.00    26.8750      3          555       6      1         2\n",
       "       2.00   259.4750      9         2278      15      9         2\n",
       "       3.00    62.6542      3          419       5      4         1\n",
       "       4.00   114.1417      6         2258      13      4         5\n",
       "       5.00    90.8708      5         1520      11      7         4\n",
       "       6.00    64.2750      3         1535       5      4         1\n",
       "       7.00    26.2500      2          536       2      0         1\n",
       "       8.00    47.3250      3          263       5      3         1\n",
       "       9.00   108.7958      7         2178      12     10         0\n",
       "       10.00   24.1500      2          420       3      0         0\n",
       "       11.00   31.2750      2          543       3      4         0\n",
       "       13.00   26.7292      1         1228       5      0         2\n",
       "       14.00  169.1667      2          501       9      3         3\n",
       "       14.50   14.4542      0          112       3      1         0\n",
       "       15.00  241.0459      1         2420      10      1         4\n",
       "       16.00  246.2625      4         2127      12      5         5\n",
       "       17.00  210.7833      2         1749      12      6         5\n",
       "       18.00  697.0167      9         7245      31      6         8\n",
       "       19.00  215.0959      2         2530      13      3         7\n",
       "       20.00   18.4875      0          519       6      1         0\n",
       "       21.00  410.4333      4         2877      16      5         4\n",
       "       22.00  444.1084      6         5413      26      3        10\n",
       "       23.00  405.5417      2         2424      10      4         4\n",
       "       24.00  772.1708     15         6833      31     10        14\n",
       "       25.00  223.2500      4         2938      11      3         2\n",
       "       26.00  136.7292      1         1541      12      2         3\n",
       "       27.00   76.8916      3         2677      15      2         5\n",
       "       28.00  110.9458      1         3307      16      3         5\n",
       "       29.00  320.6208      7         2062      16      3         5\n",
       "...                ...    ...          ...     ...    ...       ...\n",
       "male   42.00  216.1084      1         4117      21      3         3\n",
       "       43.00   40.7500      1         1803       8      1         0\n",
       "       44.00  156.1250      1         2360      15      3         1\n",
       "       45.00  187.1000      0         1597      10      1         2\n",
       "       45.50   35.7250      0          536       4      0         0\n",
       "       46.00  166.3750      0         1281       4      1         0\n",
       "       47.00  181.3583      0         3807      12      0         0\n",
       "       48.00  176.1334      0         3056       8      2         3\n",
       "       49.00  256.9167      1         2351       6      3         2\n",
       "       50.00  317.0250      0         2848       8      4         1\n",
       "       51.00  123.3084      1         2427      13      0         1\n",
       "       52.00  136.6500      1         2124       6      1         1\n",
       "       54.00  195.1500      1         1283       8      1         0\n",
       "       55.00   30.5000      0          493       1      0         0\n",
       "       55.50    8.0500      0          153       3      0         0\n",
       "       56.00   92.7458      0         1291       3      0         1\n",
       "       57.00   12.3500      0          627       2      0         0\n",
       "       58.00  142.9750      2         1148       2      0         0\n",
       "       59.00   20.7500      0          328       5      0         0\n",
       "       60.00  144.7500      2         1968       4      2         1\n",
       "       61.00   72.0583      0         1124       5      0         0\n",
       "       62.00   63.6000      0         1380       4      0         1\n",
       "       64.00  289.0000      4          985       2      1         0\n",
       "       65.00   96.2792      1          793       5      0         0\n",
       "       66.00   10.5000      0           34       2      0         0\n",
       "       70.00   81.5000      1         1419       3      1         0\n",
       "       70.50    7.7500      0          117       3      0         0\n",
       "       71.00   84.1584      0          591       2      0         0\n",
       "       74.00    7.7750      0          852       3      0         0\n",
       "       80.00   30.0000      0          631       1      0         1\n",
       "\n",
       "[145 rows x 6 columns]"
      ]
     },
     "execution_count": 11,
     "metadata": {},
     "output_type": "execute_result"
    }
   ],
   "source": [
    "import pandas as pd\n",
    "import numpy as np\n",
    "url= 'https://raw.githubusercontent.com/datasciencedojo/datasets/master/titanic.csv'\n",
    "df = pd.read_csv(url,sep=',')\n",
    "result = pd.pivot_table(df, index = [\"Sex\",\"Age\"], aggfunc=np.sum) \n",
    "result"
   ]
  },
  {
   "cell_type": "markdown",
   "metadata": {},
   "source": [
    "#### Q124. Write a Pandas program to create the Pivot table and find survival rate by gender? "
   ]
  },
  {
   "cell_type": "code",
   "execution_count": 14,
   "metadata": {},
   "outputs": [
    {
     "data": {
      "text/html": [
       "<div>\n",
       "<style>\n",
       "    .dataframe thead tr:only-child th {\n",
       "        text-align: right;\n",
       "    }\n",
       "\n",
       "    .dataframe thead th {\n",
       "        text-align: left;\n",
       "    }\n",
       "\n",
       "    .dataframe tbody tr th {\n",
       "        vertical-align: top;\n",
       "    }\n",
       "</style>\n",
       "<table border=\"1\" class=\"dataframe\">\n",
       "  <thead>\n",
       "    <tr style=\"text-align: right;\">\n",
       "      <th></th>\n",
       "      <th>Survived</th>\n",
       "    </tr>\n",
       "    <tr>\n",
       "      <th>Sex</th>\n",
       "      <th></th>\n",
       "    </tr>\n",
       "  </thead>\n",
       "  <tbody>\n",
       "    <tr>\n",
       "      <th>female</th>\n",
       "      <td>0.742038</td>\n",
       "    </tr>\n",
       "    <tr>\n",
       "      <th>male</th>\n",
       "      <td>0.188908</td>\n",
       "    </tr>\n",
       "  </tbody>\n",
       "</table>\n",
       "</div>"
      ],
      "text/plain": [
       "        Survived\n",
       "Sex             \n",
       "female  0.742038\n",
       "male    0.188908"
      ]
     },
     "execution_count": 14,
     "metadata": {},
     "output_type": "execute_result"
    }
   ],
   "source": [
    "import pandas as pd \n",
    "import numpy as np \n",
    "df = pd.read_csv(url, sep=',') \n",
    "result=df.groupby('Sex')[['Survived']].mean() \n",
    "result"
   ]
  },
  {
   "cell_type": "markdown",
   "metadata": {},
   "source": [
    "#### Q125. Write a pandas program to make partition each of the passengers into 4 categories based on their age. \n",
    "Note: Age categories- (0, 10), (10, 30), (30, 60), (60, 80)"
   ]
  },
  {
   "cell_type": "code",
   "execution_count": 100,
   "metadata": {},
   "outputs": [
    {
     "name": "stdout",
     "output_type": "stream",
     "text": [
      "0      (10, 30]\n",
      "1      (30, 60]\n",
      "2      (10, 30]\n",
      "3      (30, 60]\n",
      "4      (30, 60]\n",
      "5           NaN\n",
      "6      (30, 60]\n",
      "7       (0, 10]\n",
      "8      (10, 30]\n",
      "9      (10, 30]\n",
      "10      (0, 10]\n",
      "11     (30, 60]\n",
      "12     (10, 30]\n",
      "13     (30, 60]\n",
      "14     (10, 30]\n",
      "15     (30, 60]\n",
      "16      (0, 10]\n",
      "17          NaN\n",
      "18     (30, 60]\n",
      "19          NaN\n",
      "20     (30, 60]\n",
      "21     (30, 60]\n",
      "22     (10, 30]\n",
      "23     (10, 30]\n",
      "24      (0, 10]\n",
      "25     (30, 60]\n",
      "26          NaN\n",
      "27     (10, 30]\n",
      "28          NaN\n",
      "29          NaN\n",
      "30     (30, 60]\n",
      "31          NaN\n",
      "32          NaN\n",
      "33     (60, 80]\n",
      "34     (10, 30]\n",
      "35     (30, 60]\n",
      "36          NaN\n",
      "37     (10, 30]\n",
      "38     (10, 30]\n",
      "39     (10, 30]\n",
      "40     (30, 60]\n",
      "41     (10, 30]\n",
      "42          NaN\n",
      "43      (0, 10]\n",
      "44     (10, 30]\n",
      "45          NaN\n",
      "46          NaN\n",
      "47          NaN\n",
      "48          NaN\n",
      "49     (10, 30]\n",
      "50      (0, 10]\n",
      "51     (10, 30]\n",
      "52     (30, 60]\n",
      "53     (10, 30]\n",
      "54     (60, 80]\n",
      "55          NaN\n",
      "56     (10, 30]\n",
      "57     (10, 30]\n",
      "58      (0, 10]\n",
      "59     (10, 30]\n",
      "60     (10, 30]\n",
      "61     (30, 60]\n",
      "62     (30, 60]\n",
      "63      (0, 10]\n",
      "64          NaN\n",
      "65          NaN\n",
      "66     (10, 30]\n",
      "67     (10, 30]\n",
      "68     (10, 30]\n",
      "69     (10, 30]\n",
      "70     (30, 60]\n",
      "71     (10, 30]\n",
      "72     (10, 30]\n",
      "73     (10, 30]\n",
      "74     (30, 60]\n",
      "75     (10, 30]\n",
      "76          NaN\n",
      "77          NaN\n",
      "78      (0, 10]\n",
      "79     (10, 30]\n",
      "80     (10, 30]\n",
      "81     (10, 30]\n",
      "82          NaN\n",
      "83     (10, 30]\n",
      "84     (10, 30]\n",
      "85     (30, 60]\n",
      "86     (10, 30]\n",
      "87          NaN\n",
      "88     (10, 30]\n",
      "89     (10, 30]\n",
      "90     (10, 30]\n",
      "91     (10, 30]\n",
      "92     (30, 60]\n",
      "93     (10, 30]\n",
      "94     (30, 60]\n",
      "95          NaN\n",
      "96     (60, 80]\n",
      "97     (10, 30]\n",
      "98     (30, 60]\n",
      "99     (30, 60]\n",
      "100    (10, 30]\n",
      "101         NaN\n",
      "102    (10, 30]\n",
      "103    (30, 60]\n",
      "104    (30, 60]\n",
      "105    (10, 30]\n",
      "106    (10, 30]\n",
      "107         NaN\n",
      "108    (30, 60]\n",
      "109         NaN\n",
      "110    (30, 60]\n",
      "111    (10, 30]\n",
      "112    (10, 30]\n",
      "113    (10, 30]\n",
      "114    (10, 30]\n",
      "115    (10, 30]\n",
      "116    (60, 80]\n",
      "117    (10, 30]\n",
      "118    (10, 30]\n",
      "119     (0, 10]\n",
      "120    (10, 30]\n",
      "121         NaN\n",
      "122    (30, 60]\n",
      "123    (30, 60]\n",
      "124    (30, 60]\n",
      "125    (10, 30]\n",
      "126         NaN\n",
      "127    (10, 30]\n",
      "128         NaN\n",
      "129    (30, 60]\n",
      "130    (30, 60]\n",
      "131    (10, 30]\n",
      "132    (30, 60]\n",
      "133    (10, 30]\n",
      "134    (10, 30]\n",
      "135    (10, 30]\n",
      "136    (10, 30]\n",
      "137    (30, 60]\n",
      "138    (10, 30]\n",
      "139    (10, 30]\n",
      "140         NaN\n",
      "141    (10, 30]\n",
      "142    (10, 30]\n",
      "143    (10, 30]\n",
      "144    (10, 30]\n",
      "145    (10, 30]\n",
      "146    (10, 30]\n",
      "147     (0, 10]\n",
      "148    (30, 60]\n",
      "149    (30, 60]\n",
      "150    (30, 60]\n",
      "151    (10, 30]\n",
      "152    (30, 60]\n",
      "153    (30, 60]\n",
      "154         NaN\n",
      "155    (30, 60]\n",
      "156    (10, 30]\n",
      "157    (10, 30]\n",
      "158         NaN\n",
      "159         NaN\n",
      "160    (30, 60]\n",
      "161    (30, 60]\n",
      "162    (10, 30]\n",
      "163    (10, 30]\n",
      "164     (0, 10]\n",
      "165     (0, 10]\n",
      "166         NaN\n",
      "167    (30, 60]\n",
      "168         NaN\n",
      "169    (10, 30]\n",
      "170    (60, 80]\n",
      "171     (0, 10]\n",
      "172     (0, 10]\n",
      "173    (10, 30]\n",
      "174    (30, 60]\n",
      "175    (10, 30]\n",
      "176         NaN\n",
      "177    (30, 60]\n",
      "178    (10, 30]\n",
      "179    (30, 60]\n",
      "180         NaN\n",
      "181         NaN\n",
      "182     (0, 10]\n",
      "183     (0, 10]\n",
      "184     (0, 10]\n",
      "185         NaN\n",
      "186         NaN\n",
      "187    (30, 60]\n",
      "188    (30, 60]\n",
      "189    (30, 60]\n",
      "190    (30, 60]\n",
      "191    (10, 30]\n",
      "192    (10, 30]\n",
      "193     (0, 10]\n",
      "194    (30, 60]\n",
      "195    (30, 60]\n",
      "196         NaN\n",
      "197    (30, 60]\n",
      "198         NaN\n",
      "199    (10, 30]\n",
      "200    (10, 30]\n",
      "201         NaN\n",
      "202    (30, 60]\n",
      "203    (30, 60]\n",
      "204    (10, 30]\n",
      "205     (0, 10]\n",
      "206    (30, 60]\n",
      "207    (10, 30]\n",
      "208    (10, 30]\n",
      "209    (30, 60]\n",
      "210    (10, 30]\n",
      "211    (30, 60]\n",
      "212    (10, 30]\n",
      "213    (10, 30]\n",
      "214         NaN\n",
      "215    (30, 60]\n",
      "216    (10, 30]\n",
      "217    (30, 60]\n",
      "218    (30, 60]\n",
      "219    (10, 30]\n",
      "220    (10, 30]\n",
      "221    (10, 30]\n",
      "222    (30, 60]\n",
      "223         NaN\n",
      "224    (30, 60]\n",
      "225    (10, 30]\n",
      "226    (10, 30]\n",
      "227    (10, 30]\n",
      "228    (10, 30]\n",
      "229         NaN\n",
      "230    (30, 60]\n",
      "231    (10, 30]\n",
      "232    (30, 60]\n",
      "233     (0, 10]\n",
      "234    (10, 30]\n",
      "235         NaN\n",
      "236    (30, 60]\n",
      "237     (0, 10]\n",
      "238    (10, 30]\n",
      "239    (30, 60]\n",
      "240         NaN\n",
      "241         NaN\n",
      "242    (10, 30]\n",
      "243    (10, 30]\n",
      "244    (10, 30]\n",
      "245    (30, 60]\n",
      "246    (10, 30]\n",
      "247    (10, 30]\n",
      "248    (30, 60]\n",
      "249    (30, 60]\n",
      "         ...   \n",
      "641    (10, 30]\n",
      "642     (0, 10]\n",
      "643         NaN\n",
      "644     (0, 10]\n",
      "645    (30, 60]\n",
      "646    (10, 30]\n",
      "647    (30, 60]\n",
      "648         NaN\n",
      "649    (10, 30]\n",
      "650         NaN\n",
      "651    (10, 30]\n",
      "652    (10, 30]\n",
      "653         NaN\n",
      "654    (10, 30]\n",
      "655    (10, 30]\n",
      "656         NaN\n",
      "657    (30, 60]\n",
      "658    (10, 30]\n",
      "659    (30, 60]\n",
      "660    (30, 60]\n",
      "661    (30, 60]\n",
      "662    (30, 60]\n",
      "663    (30, 60]\n",
      "664    (10, 30]\n",
      "665    (30, 60]\n",
      "666    (10, 30]\n",
      "667         NaN\n",
      "668    (30, 60]\n",
      "669         NaN\n",
      "670    (30, 60]\n",
      "671    (30, 60]\n",
      "672    (60, 80]\n",
      "673    (30, 60]\n",
      "674         NaN\n",
      "675    (10, 30]\n",
      "676    (10, 30]\n",
      "677    (10, 30]\n",
      "678    (30, 60]\n",
      "679    (30, 60]\n",
      "680         NaN\n",
      "681    (10, 30]\n",
      "682    (10, 30]\n",
      "683    (10, 30]\n",
      "684    (30, 60]\n",
      "685    (10, 30]\n",
      "686    (10, 30]\n",
      "687    (10, 30]\n",
      "688    (10, 30]\n",
      "689    (10, 30]\n",
      "690    (30, 60]\n",
      "691     (0, 10]\n",
      "692         NaN\n",
      "693    (10, 30]\n",
      "694    (30, 60]\n",
      "695    (30, 60]\n",
      "696    (30, 60]\n",
      "697         NaN\n",
      "698    (30, 60]\n",
      "699    (30, 60]\n",
      "700    (10, 30]\n",
      "701    (30, 60]\n",
      "702    (10, 30]\n",
      "703    (10, 30]\n",
      "704    (10, 30]\n",
      "705    (30, 60]\n",
      "706    (30, 60]\n",
      "707    (30, 60]\n",
      "708    (10, 30]\n",
      "709         NaN\n",
      "710    (10, 30]\n",
      "711         NaN\n",
      "712    (30, 60]\n",
      "713    (10, 30]\n",
      "714    (30, 60]\n",
      "715    (10, 30]\n",
      "716    (30, 60]\n",
      "717    (10, 30]\n",
      "718         NaN\n",
      "719    (30, 60]\n",
      "720     (0, 10]\n",
      "721    (10, 30]\n",
      "722    (30, 60]\n",
      "723    (30, 60]\n",
      "724    (10, 30]\n",
      "725    (10, 30]\n",
      "726    (10, 30]\n",
      "727         NaN\n",
      "728    (10, 30]\n",
      "729    (10, 30]\n",
      "730    (10, 30]\n",
      "731    (10, 30]\n",
      "732         NaN\n",
      "733    (10, 30]\n",
      "734    (10, 30]\n",
      "735    (10, 30]\n",
      "736    (30, 60]\n",
      "737    (30, 60]\n",
      "738         NaN\n",
      "739         NaN\n",
      "740         NaN\n",
      "741    (30, 60]\n",
      "742    (10, 30]\n",
      "743    (10, 30]\n",
      "744    (30, 60]\n",
      "745    (60, 80]\n",
      "746    (10, 30]\n",
      "747    (10, 30]\n",
      "748    (10, 30]\n",
      "749    (30, 60]\n",
      "750     (0, 10]\n",
      "751     (0, 10]\n",
      "752    (30, 60]\n",
      "753    (10, 30]\n",
      "754    (30, 60]\n",
      "755     (0, 10]\n",
      "756    (10, 30]\n",
      "757    (10, 30]\n",
      "758    (30, 60]\n",
      "759    (30, 60]\n",
      "760         NaN\n",
      "761    (30, 60]\n",
      "762    (10, 30]\n",
      "763    (30, 60]\n",
      "764    (10, 30]\n",
      "765    (30, 60]\n",
      "766         NaN\n",
      "767    (30, 60]\n",
      "768         NaN\n",
      "769    (30, 60]\n",
      "770    (10, 30]\n",
      "771    (30, 60]\n",
      "772    (30, 60]\n",
      "773         NaN\n",
      "774    (30, 60]\n",
      "775    (10, 30]\n",
      "776         NaN\n",
      "777     (0, 10]\n",
      "778         NaN\n",
      "779    (30, 60]\n",
      "780    (10, 30]\n",
      "781    (10, 30]\n",
      "782    (10, 30]\n",
      "783         NaN\n",
      "784    (10, 30]\n",
      "785    (10, 30]\n",
      "786    (10, 30]\n",
      "787     (0, 10]\n",
      "788     (0, 10]\n",
      "789    (30, 60]\n",
      "790         NaN\n",
      "791    (10, 30]\n",
      "792         NaN\n",
      "793         NaN\n",
      "794    (10, 30]\n",
      "795    (30, 60]\n",
      "796    (30, 60]\n",
      "797    (30, 60]\n",
      "798    (10, 30]\n",
      "799    (10, 30]\n",
      "800    (30, 60]\n",
      "801    (30, 60]\n",
      "802    (10, 30]\n",
      "803     (0, 10]\n",
      "804    (10, 30]\n",
      "805    (30, 60]\n",
      "806    (30, 60]\n",
      "807    (10, 30]\n",
      "808    (30, 60]\n",
      "809    (30, 60]\n",
      "810    (10, 30]\n",
      "811    (30, 60]\n",
      "812    (30, 60]\n",
      "813     (0, 10]\n",
      "814    (30, 60]\n",
      "815         NaN\n",
      "816    (10, 30]\n",
      "817    (30, 60]\n",
      "818    (30, 60]\n",
      "819     (0, 10]\n",
      "820    (30, 60]\n",
      "821    (10, 30]\n",
      "822    (30, 60]\n",
      "823    (10, 30]\n",
      "824     (0, 10]\n",
      "825         NaN\n",
      "826         NaN\n",
      "827     (0, 10]\n",
      "828         NaN\n",
      "829    (60, 80]\n",
      "830    (10, 30]\n",
      "831     (0, 10]\n",
      "832         NaN\n",
      "833    (10, 30]\n",
      "834    (10, 30]\n",
      "835    (30, 60]\n",
      "836    (10, 30]\n",
      "837         NaN\n",
      "838    (30, 60]\n",
      "839         NaN\n",
      "840    (10, 30]\n",
      "841    (10, 30]\n",
      "842    (10, 30]\n",
      "843    (30, 60]\n",
      "844    (10, 30]\n",
      "845    (30, 60]\n",
      "846         NaN\n",
      "847    (30, 60]\n",
      "848    (10, 30]\n",
      "849         NaN\n",
      "850     (0, 10]\n",
      "851    (60, 80]\n",
      "852     (0, 10]\n",
      "853    (10, 30]\n",
      "854    (30, 60]\n",
      "855    (10, 30]\n",
      "856    (30, 60]\n",
      "857    (30, 60]\n",
      "858    (10, 30]\n",
      "859         NaN\n",
      "860    (30, 60]\n",
      "861    (10, 30]\n",
      "862    (30, 60]\n",
      "863         NaN\n",
      "864    (10, 30]\n",
      "865    (30, 60]\n",
      "866    (10, 30]\n",
      "867    (30, 60]\n",
      "868         NaN\n",
      "869     (0, 10]\n",
      "870    (10, 30]\n",
      "871    (30, 60]\n",
      "872    (30, 60]\n",
      "873    (30, 60]\n",
      "874    (10, 30]\n",
      "875    (10, 30]\n",
      "876    (10, 30]\n",
      "877    (10, 30]\n",
      "878         NaN\n",
      "879    (30, 60]\n",
      "880    (10, 30]\n",
      "881    (30, 60]\n",
      "882    (10, 30]\n",
      "883    (10, 30]\n",
      "884    (10, 30]\n",
      "885    (30, 60]\n",
      "886    (10, 30]\n",
      "887    (10, 30]\n",
      "888         NaN\n",
      "889    (10, 30]\n",
      "890    (30, 60]\n",
      "Name: Age, Length: 891, dtype: category\n",
      "Categories (4, interval[int64]): [(0, 10] < (10, 30] < (30, 60] < (60, 80]]\n"
     ]
    }
   ],
   "source": [
    "df = pd.read_csv(url,sep=',') \n",
    "result = pd.cut(df['Age'], [0, 10, 30, 60, 80]) \n",
    "result"
   ]
  },
  {
   "cell_type": "markdown",
   "metadata": {},
   "source": [
    "#### Q126. Write a pandas program to create the Pivot table and find survival rate by the gender, age of the different categories of various classes."
   ]
  },
  {
   "cell_type": "code",
   "execution_count": 15,
   "metadata": {},
   "outputs": [
    {
     "data": {
      "text/html": [
       "<div>\n",
       "<style>\n",
       "    .dataframe thead tr:only-child th {\n",
       "        text-align: right;\n",
       "    }\n",
       "\n",
       "    .dataframe thead th {\n",
       "        text-align: left;\n",
       "    }\n",
       "\n",
       "    .dataframe tbody tr th {\n",
       "        vertical-align: top;\n",
       "    }\n",
       "</style>\n",
       "<table border=\"1\" class=\"dataframe\">\n",
       "  <thead>\n",
       "    <tr style=\"text-align: right;\">\n",
       "      <th></th>\n",
       "      <th>Pclass</th>\n",
       "      <th>1</th>\n",
       "      <th>2</th>\n",
       "      <th>3</th>\n",
       "    </tr>\n",
       "    <tr>\n",
       "      <th>Sex</th>\n",
       "      <th>Age</th>\n",
       "      <th></th>\n",
       "      <th></th>\n",
       "      <th></th>\n",
       "    </tr>\n",
       "  </thead>\n",
       "  <tbody>\n",
       "    <tr>\n",
       "      <th rowspan=\"2\" valign=\"top\">female</th>\n",
       "      <th>(0, 20]</th>\n",
       "      <td>0.928571</td>\n",
       "      <td>1.000000</td>\n",
       "      <td>0.510638</td>\n",
       "    </tr>\n",
       "    <tr>\n",
       "      <th>(20, 55]</th>\n",
       "      <td>0.968750</td>\n",
       "      <td>0.912281</td>\n",
       "      <td>0.407407</td>\n",
       "    </tr>\n",
       "    <tr>\n",
       "      <th rowspan=\"2\" valign=\"top\">male</th>\n",
       "      <th>(0, 20]</th>\n",
       "      <td>0.571429</td>\n",
       "      <td>0.526316</td>\n",
       "      <td>0.197368</td>\n",
       "    </tr>\n",
       "    <tr>\n",
       "      <th>(20, 55]</th>\n",
       "      <td>0.440000</td>\n",
       "      <td>0.054054</td>\n",
       "      <td>0.134503</td>\n",
       "    </tr>\n",
       "  </tbody>\n",
       "</table>\n",
       "</div>"
      ],
      "text/plain": [
       "Pclass                  1         2         3\n",
       "Sex    Age                                   \n",
       "female (0, 20]   0.928571  1.000000  0.510638\n",
       "       (20, 55]  0.968750  0.912281  0.407407\n",
       "male   (0, 20]   0.571429  0.526316  0.197368\n",
       "       (20, 55]  0.440000  0.054054  0.134503"
      ]
     },
     "execution_count": 15,
     "metadata": {},
     "output_type": "execute_result"
    }
   ],
   "source": [
    "df = pd.read_csv(url,sep=',') \n",
    "age = pd.cut(df['Age'], [0, 20, 55]) \n",
    "result = df.pivot_table('Survived', index=['Sex', age], columns='Pclass') \n",
    "result"
   ]
  },
  {
   "cell_type": "markdown",
   "metadata": {},
   "source": [
    "#### Q127. Write a pandas program to create the Pivot table and calculate number of women and men were in a particular cabin class."
   ]
  },
  {
   "cell_type": "code",
   "execution_count": 16,
   "metadata": {},
   "outputs": [
    {
     "data": {
      "text/html": [
       "<div>\n",
       "<style>\n",
       "    .dataframe thead tr:only-child th {\n",
       "        text-align: right;\n",
       "    }\n",
       "\n",
       "    .dataframe thead th {\n",
       "        text-align: left;\n",
       "    }\n",
       "\n",
       "    .dataframe tbody tr th {\n",
       "        vertical-align: top;\n",
       "    }\n",
       "</style>\n",
       "<table border=\"1\" class=\"dataframe\">\n",
       "  <thead>\n",
       "    <tr>\n",
       "      <th></th>\n",
       "      <th colspan=\"3\" halign=\"left\">Age</th>\n",
       "      <th colspan=\"3\" halign=\"left\">Cabin</th>\n",
       "      <th colspan=\"3\" halign=\"left\">Embarked</th>\n",
       "      <th>Fare</th>\n",
       "      <th>...</th>\n",
       "      <th>PassengerId</th>\n",
       "      <th colspan=\"3\" halign=\"left\">SibSp</th>\n",
       "      <th colspan=\"3\" halign=\"left\">Survived</th>\n",
       "      <th colspan=\"3\" halign=\"left\">Ticket</th>\n",
       "    </tr>\n",
       "    <tr>\n",
       "      <th>Pclass</th>\n",
       "      <th>1</th>\n",
       "      <th>2</th>\n",
       "      <th>3</th>\n",
       "      <th>1</th>\n",
       "      <th>2</th>\n",
       "      <th>3</th>\n",
       "      <th>1</th>\n",
       "      <th>2</th>\n",
       "      <th>3</th>\n",
       "      <th>1</th>\n",
       "      <th>...</th>\n",
       "      <th>3</th>\n",
       "      <th>1</th>\n",
       "      <th>2</th>\n",
       "      <th>3</th>\n",
       "      <th>1</th>\n",
       "      <th>2</th>\n",
       "      <th>3</th>\n",
       "      <th>1</th>\n",
       "      <th>2</th>\n",
       "      <th>3</th>\n",
       "    </tr>\n",
       "    <tr>\n",
       "      <th>Sex</th>\n",
       "      <th></th>\n",
       "      <th></th>\n",
       "      <th></th>\n",
       "      <th></th>\n",
       "      <th></th>\n",
       "      <th></th>\n",
       "      <th></th>\n",
       "      <th></th>\n",
       "      <th></th>\n",
       "      <th></th>\n",
       "      <th></th>\n",
       "      <th></th>\n",
       "      <th></th>\n",
       "      <th></th>\n",
       "      <th></th>\n",
       "      <th></th>\n",
       "      <th></th>\n",
       "      <th></th>\n",
       "      <th></th>\n",
       "      <th></th>\n",
       "      <th></th>\n",
       "    </tr>\n",
       "  </thead>\n",
       "  <tbody>\n",
       "    <tr>\n",
       "      <th>female</th>\n",
       "      <td>85</td>\n",
       "      <td>74</td>\n",
       "      <td>102</td>\n",
       "      <td>81</td>\n",
       "      <td>10</td>\n",
       "      <td>6</td>\n",
       "      <td>92</td>\n",
       "      <td>76</td>\n",
       "      <td>144</td>\n",
       "      <td>94</td>\n",
       "      <td>...</td>\n",
       "      <td>144</td>\n",
       "      <td>94</td>\n",
       "      <td>76</td>\n",
       "      <td>144</td>\n",
       "      <td>94</td>\n",
       "      <td>76</td>\n",
       "      <td>144</td>\n",
       "      <td>94</td>\n",
       "      <td>76</td>\n",
       "      <td>144</td>\n",
       "    </tr>\n",
       "    <tr>\n",
       "      <th>male</th>\n",
       "      <td>101</td>\n",
       "      <td>99</td>\n",
       "      <td>253</td>\n",
       "      <td>95</td>\n",
       "      <td>6</td>\n",
       "      <td>6</td>\n",
       "      <td>122</td>\n",
       "      <td>108</td>\n",
       "      <td>347</td>\n",
       "      <td>122</td>\n",
       "      <td>...</td>\n",
       "      <td>347</td>\n",
       "      <td>122</td>\n",
       "      <td>108</td>\n",
       "      <td>347</td>\n",
       "      <td>122</td>\n",
       "      <td>108</td>\n",
       "      <td>347</td>\n",
       "      <td>122</td>\n",
       "      <td>108</td>\n",
       "      <td>347</td>\n",
       "    </tr>\n",
       "  </tbody>\n",
       "</table>\n",
       "<p>2 rows × 30 columns</p>\n",
       "</div>"
      ],
      "text/plain": [
       "        Age          Cabin        Embarked           Fare ...  PassengerId  \\\n",
       "Pclass    1   2    3     1   2  3        1    2    3    1 ...            3   \n",
       "Sex                                                       ...                \n",
       "female   85  74  102    81  10  6       92   76  144   94 ...          144   \n",
       "male    101  99  253    95   6  6      122  108  347  122 ...          347   \n",
       "\n",
       "       SibSp           Survived           Ticket            \n",
       "Pclass     1    2    3        1    2    3      1    2    3  \n",
       "Sex                                                         \n",
       "female    94   76  144       94   76  144     94   76  144  \n",
       "male     122  108  347      122  108  347    122  108  347  \n",
       "\n",
       "[2 rows x 30 columns]"
      ]
     },
     "execution_count": 16,
     "metadata": {},
     "output_type": "execute_result"
    }
   ],
   "source": [
    "df = pd.read_csv(url,sep=',')\n",
    "result = df.pivot_table(index=['Sex'], columns=['Pclass'], aggfunc='count') \n",
    "result"
   ]
  },
  {
   "cell_type": "markdown",
   "metadata": {},
   "source": [
    "#### Q128. Write a pandas program to create the Pivot table and separate the gender according to whether they travelled alone or not to get the probability of survival"
   ]
  },
  {
   "cell_type": "code",
   "execution_count": 17,
   "metadata": {},
   "outputs": [
    {
     "data": {
      "text/html": [
       "<div>\n",
       "<style>\n",
       "    .dataframe thead tr:only-child th {\n",
       "        text-align: right;\n",
       "    }\n",
       "\n",
       "    .dataframe thead th {\n",
       "        text-align: left;\n",
       "    }\n",
       "\n",
       "    .dataframe tbody tr th {\n",
       "        vertical-align: top;\n",
       "    }\n",
       "</style>\n",
       "<table border=\"1\" class=\"dataframe\">\n",
       "  <thead>\n",
       "    <tr style=\"text-align: right;\">\n",
       "      <th></th>\n",
       "      <th>Pclass</th>\n",
       "      <th>1</th>\n",
       "      <th>2</th>\n",
       "      <th>3</th>\n",
       "    </tr>\n",
       "    <tr>\n",
       "      <th>Sex</th>\n",
       "      <th>Parch</th>\n",
       "      <th></th>\n",
       "      <th></th>\n",
       "      <th></th>\n",
       "    </tr>\n",
       "  </thead>\n",
       "  <tbody>\n",
       "    <tr>\n",
       "      <th rowspan=\"7\" valign=\"top\">female</th>\n",
       "      <th>0</th>\n",
       "      <td>0.984375</td>\n",
       "      <td>0.888889</td>\n",
       "      <td>0.588235</td>\n",
       "    </tr>\n",
       "    <tr>\n",
       "      <th>1</th>\n",
       "      <td>1.000000</td>\n",
       "      <td>0.944444</td>\n",
       "      <td>0.480000</td>\n",
       "    </tr>\n",
       "    <tr>\n",
       "      <th>2</th>\n",
       "      <td>0.846154</td>\n",
       "      <td>1.000000</td>\n",
       "      <td>0.320000</td>\n",
       "    </tr>\n",
       "    <tr>\n",
       "      <th>3</th>\n",
       "      <td>NaN</td>\n",
       "      <td>1.000000</td>\n",
       "      <td>0.500000</td>\n",
       "    </tr>\n",
       "    <tr>\n",
       "      <th>4</th>\n",
       "      <td>NaN</td>\n",
       "      <td>NaN</td>\n",
       "      <td>0.000000</td>\n",
       "    </tr>\n",
       "    <tr>\n",
       "      <th>5</th>\n",
       "      <td>NaN</td>\n",
       "      <td>NaN</td>\n",
       "      <td>0.250000</td>\n",
       "    </tr>\n",
       "    <tr>\n",
       "      <th>6</th>\n",
       "      <td>NaN</td>\n",
       "      <td>NaN</td>\n",
       "      <td>0.000000</td>\n",
       "    </tr>\n",
       "    <tr>\n",
       "      <th rowspan=\"6\" valign=\"top\">male</th>\n",
       "      <th>0</th>\n",
       "      <td>0.363636</td>\n",
       "      <td>0.089888</td>\n",
       "      <td>0.121622</td>\n",
       "    </tr>\n",
       "    <tr>\n",
       "      <th>1</th>\n",
       "      <td>0.285714</td>\n",
       "      <td>0.500000</td>\n",
       "      <td>0.266667</td>\n",
       "    </tr>\n",
       "    <tr>\n",
       "      <th>2</th>\n",
       "      <td>0.625000</td>\n",
       "      <td>0.400000</td>\n",
       "      <td>0.166667</td>\n",
       "    </tr>\n",
       "    <tr>\n",
       "      <th>3</th>\n",
       "      <td>NaN</td>\n",
       "      <td>NaN</td>\n",
       "      <td>0.000000</td>\n",
       "    </tr>\n",
       "    <tr>\n",
       "      <th>4</th>\n",
       "      <td>0.000000</td>\n",
       "      <td>NaN</td>\n",
       "      <td>0.000000</td>\n",
       "    </tr>\n",
       "    <tr>\n",
       "      <th>5</th>\n",
       "      <td>NaN</td>\n",
       "      <td>NaN</td>\n",
       "      <td>0.000000</td>\n",
       "    </tr>\n",
       "  </tbody>\n",
       "</table>\n",
       "</div>"
      ],
      "text/plain": [
       "Pclass               1         2         3\n",
       "Sex    Parch                              \n",
       "female 0      0.984375  0.888889  0.588235\n",
       "       1      1.000000  0.944444  0.480000\n",
       "       2      0.846154  1.000000  0.320000\n",
       "       3           NaN  1.000000  0.500000\n",
       "       4           NaN       NaN  0.000000\n",
       "       5           NaN       NaN  0.250000\n",
       "       6           NaN       NaN  0.000000\n",
       "male   0      0.363636  0.089888  0.121622\n",
       "       1      0.285714  0.500000  0.266667\n",
       "       2      0.625000  0.400000  0.166667\n",
       "       3           NaN       NaN  0.000000\n",
       "       4      0.000000       NaN  0.000000\n",
       "       5           NaN       NaN  0.000000"
      ]
     },
     "execution_count": 17,
     "metadata": {},
     "output_type": "execute_result"
    }
   ],
   "source": [
    "df = pd.read_csv(url,sep=',') \n",
    "result = df.pivot_table( 'Survived' , [ 'Sex' , 'Parch' ] , 'Pclass' ) \n",
    "result"
   ]
  },
  {
   "cell_type": "markdown",
   "metadata": {},
   "source": [
    "#### Q129. Write a pandas program to create the Pivot table and find the probability of survival by class, gender, solo boarding, and the port of embarkation."
   ]
  },
  {
   "cell_type": "code",
   "execution_count": 18,
   "metadata": {},
   "outputs": [
    {
     "data": {
      "text/html": [
       "<div>\n",
       "<style>\n",
       "    .dataframe thead tr:only-child th {\n",
       "        text-align: right;\n",
       "    }\n",
       "\n",
       "    .dataframe thead th {\n",
       "        text-align: left;\n",
       "    }\n",
       "\n",
       "    .dataframe tbody tr th {\n",
       "        vertical-align: top;\n",
       "    }\n",
       "</style>\n",
       "<table border=\"1\" class=\"dataframe\">\n",
       "  <thead>\n",
       "    <tr>\n",
       "      <th></th>\n",
       "      <th>Embarked</th>\n",
       "      <th colspan=\"3\" halign=\"left\">C</th>\n",
       "      <th colspan=\"3\" halign=\"left\">Q</th>\n",
       "      <th colspan=\"3\" halign=\"left\">S</th>\n",
       "    </tr>\n",
       "    <tr>\n",
       "      <th></th>\n",
       "      <th>Pclass</th>\n",
       "      <th>1</th>\n",
       "      <th>2</th>\n",
       "      <th>3</th>\n",
       "      <th>1</th>\n",
       "      <th>2</th>\n",
       "      <th>3</th>\n",
       "      <th>1</th>\n",
       "      <th>2</th>\n",
       "      <th>3</th>\n",
       "    </tr>\n",
       "    <tr>\n",
       "      <th>Sex</th>\n",
       "      <th>Parch</th>\n",
       "      <th></th>\n",
       "      <th></th>\n",
       "      <th></th>\n",
       "      <th></th>\n",
       "      <th></th>\n",
       "      <th></th>\n",
       "      <th></th>\n",
       "      <th></th>\n",
       "      <th></th>\n",
       "    </tr>\n",
       "  </thead>\n",
       "  <tbody>\n",
       "    <tr>\n",
       "      <th rowspan=\"7\" valign=\"top\">female</th>\n",
       "      <th>0</th>\n",
       "      <td>0.969697</td>\n",
       "      <td>1.000000</td>\n",
       "      <td>0.600000</td>\n",
       "      <td>1.0</td>\n",
       "      <td>1.0</td>\n",
       "      <td>0.800000</td>\n",
       "      <td>1.000000</td>\n",
       "      <td>0.868421</td>\n",
       "      <td>0.444444</td>\n",
       "    </tr>\n",
       "    <tr>\n",
       "      <th>1</th>\n",
       "      <td>1.000000</td>\n",
       "      <td>NaN</td>\n",
       "      <td>0.625000</td>\n",
       "      <td>NaN</td>\n",
       "      <td>NaN</td>\n",
       "      <td>0.000000</td>\n",
       "      <td>1.000000</td>\n",
       "      <td>0.944444</td>\n",
       "      <td>0.437500</td>\n",
       "    </tr>\n",
       "    <tr>\n",
       "      <th>2</th>\n",
       "      <td>1.000000</td>\n",
       "      <td>1.000000</td>\n",
       "      <td>0.750000</td>\n",
       "      <td>NaN</td>\n",
       "      <td>NaN</td>\n",
       "      <td>0.000000</td>\n",
       "      <td>0.800000</td>\n",
       "      <td>1.000000</td>\n",
       "      <td>0.250000</td>\n",
       "    </tr>\n",
       "    <tr>\n",
       "      <th>3</th>\n",
       "      <td>NaN</td>\n",
       "      <td>NaN</td>\n",
       "      <td>1.000000</td>\n",
       "      <td>NaN</td>\n",
       "      <td>NaN</td>\n",
       "      <td>NaN</td>\n",
       "      <td>NaN</td>\n",
       "      <td>1.000000</td>\n",
       "      <td>0.000000</td>\n",
       "    </tr>\n",
       "    <tr>\n",
       "      <th>4</th>\n",
       "      <td>NaN</td>\n",
       "      <td>NaN</td>\n",
       "      <td>NaN</td>\n",
       "      <td>NaN</td>\n",
       "      <td>NaN</td>\n",
       "      <td>NaN</td>\n",
       "      <td>NaN</td>\n",
       "      <td>NaN</td>\n",
       "      <td>0.000000</td>\n",
       "    </tr>\n",
       "    <tr>\n",
       "      <th>5</th>\n",
       "      <td>NaN</td>\n",
       "      <td>NaN</td>\n",
       "      <td>NaN</td>\n",
       "      <td>NaN</td>\n",
       "      <td>NaN</td>\n",
       "      <td>0.000000</td>\n",
       "      <td>NaN</td>\n",
       "      <td>NaN</td>\n",
       "      <td>0.333333</td>\n",
       "    </tr>\n",
       "    <tr>\n",
       "      <th>6</th>\n",
       "      <td>NaN</td>\n",
       "      <td>NaN</td>\n",
       "      <td>NaN</td>\n",
       "      <td>NaN</td>\n",
       "      <td>NaN</td>\n",
       "      <td>NaN</td>\n",
       "      <td>NaN</td>\n",
       "      <td>NaN</td>\n",
       "      <td>0.000000</td>\n",
       "    </tr>\n",
       "    <tr>\n",
       "      <th rowspan=\"6\" valign=\"top\">male</th>\n",
       "      <th>0</th>\n",
       "      <td>0.419355</td>\n",
       "      <td>0.142857</td>\n",
       "      <td>0.162162</td>\n",
       "      <td>0.0</td>\n",
       "      <td>0.0</td>\n",
       "      <td>0.088235</td>\n",
       "      <td>0.343284</td>\n",
       "      <td>0.086420</td>\n",
       "      <td>0.120000</td>\n",
       "    </tr>\n",
       "    <tr>\n",
       "      <th>1</th>\n",
       "      <td>0.375000</td>\n",
       "      <td>0.000000</td>\n",
       "      <td>0.666667</td>\n",
       "      <td>NaN</td>\n",
       "      <td>NaN</td>\n",
       "      <td>0.000000</td>\n",
       "      <td>0.166667</td>\n",
       "      <td>0.538462</td>\n",
       "      <td>0.210526</td>\n",
       "    </tr>\n",
       "    <tr>\n",
       "      <th>2</th>\n",
       "      <td>0.333333</td>\n",
       "      <td>0.500000</td>\n",
       "      <td>NaN</td>\n",
       "      <td>NaN</td>\n",
       "      <td>NaN</td>\n",
       "      <td>NaN</td>\n",
       "      <td>0.800000</td>\n",
       "      <td>0.333333</td>\n",
       "      <td>0.166667</td>\n",
       "    </tr>\n",
       "    <tr>\n",
       "      <th>3</th>\n",
       "      <td>NaN</td>\n",
       "      <td>NaN</td>\n",
       "      <td>NaN</td>\n",
       "      <td>NaN</td>\n",
       "      <td>NaN</td>\n",
       "      <td>NaN</td>\n",
       "      <td>NaN</td>\n",
       "      <td>NaN</td>\n",
       "      <td>0.000000</td>\n",
       "    </tr>\n",
       "    <tr>\n",
       "      <th>4</th>\n",
       "      <td>NaN</td>\n",
       "      <td>NaN</td>\n",
       "      <td>NaN</td>\n",
       "      <td>NaN</td>\n",
       "      <td>NaN</td>\n",
       "      <td>NaN</td>\n",
       "      <td>0.000000</td>\n",
       "      <td>NaN</td>\n",
       "      <td>0.000000</td>\n",
       "    </tr>\n",
       "    <tr>\n",
       "      <th>5</th>\n",
       "      <td>NaN</td>\n",
       "      <td>NaN</td>\n",
       "      <td>NaN</td>\n",
       "      <td>NaN</td>\n",
       "      <td>NaN</td>\n",
       "      <td>NaN</td>\n",
       "      <td>NaN</td>\n",
       "      <td>NaN</td>\n",
       "      <td>0.000000</td>\n",
       "    </tr>\n",
       "  </tbody>\n",
       "</table>\n",
       "</div>"
      ],
      "text/plain": [
       "Embarked             C                        Q                        S  \\\n",
       "Pclass               1         2         3    1    2         3         1   \n",
       "Sex    Parch                                                               \n",
       "female 0      0.969697  1.000000  0.600000  1.0  1.0  0.800000  1.000000   \n",
       "       1      1.000000       NaN  0.625000  NaN  NaN  0.000000  1.000000   \n",
       "       2      1.000000  1.000000  0.750000  NaN  NaN  0.000000  0.800000   \n",
       "       3           NaN       NaN  1.000000  NaN  NaN       NaN       NaN   \n",
       "       4           NaN       NaN       NaN  NaN  NaN       NaN       NaN   \n",
       "       5           NaN       NaN       NaN  NaN  NaN  0.000000       NaN   \n",
       "       6           NaN       NaN       NaN  NaN  NaN       NaN       NaN   \n",
       "male   0      0.419355  0.142857  0.162162  0.0  0.0  0.088235  0.343284   \n",
       "       1      0.375000  0.000000  0.666667  NaN  NaN  0.000000  0.166667   \n",
       "       2      0.333333  0.500000       NaN  NaN  NaN       NaN  0.800000   \n",
       "       3           NaN       NaN       NaN  NaN  NaN       NaN       NaN   \n",
       "       4           NaN       NaN       NaN  NaN  NaN       NaN  0.000000   \n",
       "       5           NaN       NaN       NaN  NaN  NaN       NaN       NaN   \n",
       "\n",
       "Embarked                          \n",
       "Pclass               2         3  \n",
       "Sex    Parch                      \n",
       "female 0      0.868421  0.444444  \n",
       "       1      0.944444  0.437500  \n",
       "       2      1.000000  0.250000  \n",
       "       3      1.000000  0.000000  \n",
       "       4           NaN  0.000000  \n",
       "       5           NaN  0.333333  \n",
       "       6           NaN  0.000000  \n",
       "male   0      0.086420  0.120000  \n",
       "       1      0.538462  0.210526  \n",
       "       2      0.333333  0.166667  \n",
       "       3           NaN  0.000000  \n",
       "       4           NaN  0.000000  \n",
       "       5           NaN  0.000000  "
      ]
     },
     "execution_count": 18,
     "metadata": {},
     "output_type": "execute_result"
    }
   ],
   "source": [
    "df = pd.read_csv(url,sep=',') \n",
    "result = df.pivot_table('Survived', ['Sex' , 'Parch' ], [ 'Embarked', 'Pclass' ]) \n",
    "result"
   ]
  },
  {
   "cell_type": "markdown",
   "metadata": {},
   "source": [
    "#### Q130. Write a pandas program to get current date, oldest date and number of days between Current date and the oldest date of Ufo dataset."
   ]
  },
  {
   "cell_type": "code",
   "execution_count": 135,
   "metadata": {},
   "outputs": [
    {
     "name": "stderr",
     "output_type": "stream",
     "text": [
      "C:\\Users\\Dell\\Anaconda3\\lib\\site-packages\\IPython\\core\\interactiveshell.py:2717: DtypeWarning: Columns (5,9) have mixed types. Specify dtype option on import or set low_memory=False.\n",
      "  interactivity=interactivity, compiler=compiler, result=result)\n"
     ]
    },
    {
     "name": "stdout",
     "output_type": "stream",
     "text": [
      "Original Dataframe:\n"
     ]
    },
    {
     "data": {
      "text/html": [
       "<div>\n",
       "<style>\n",
       "    .dataframe thead tr:only-child th {\n",
       "        text-align: right;\n",
       "    }\n",
       "\n",
       "    .dataframe thead th {\n",
       "        text-align: left;\n",
       "    }\n",
       "\n",
       "    .dataframe tbody tr th {\n",
       "        vertical-align: top;\n",
       "    }\n",
       "</style>\n",
       "<table border=\"1\" class=\"dataframe\">\n",
       "  <thead>\n",
       "    <tr style=\"text-align: right;\">\n",
       "      <th></th>\n",
       "      <th>Date_time</th>\n",
       "      <th>city</th>\n",
       "      <th>state/province</th>\n",
       "      <th>country</th>\n",
       "      <th>UFO_shape</th>\n",
       "      <th>length_of_encounter_seconds</th>\n",
       "      <th>described_duration_of_encounter</th>\n",
       "      <th>description</th>\n",
       "      <th>date_documented</th>\n",
       "      <th>latitude</th>\n",
       "      <th>longitude</th>\n",
       "    </tr>\n",
       "  </thead>\n",
       "  <tbody>\n",
       "    <tr>\n",
       "      <th>0</th>\n",
       "      <td>1949-10-10 20:00:00</td>\n",
       "      <td>san marcos</td>\n",
       "      <td>tx</td>\n",
       "      <td>us</td>\n",
       "      <td>cylinder</td>\n",
       "      <td>2700</td>\n",
       "      <td>45 minutes</td>\n",
       "      <td>This event took place in early fall around 194...</td>\n",
       "      <td>4/27/2004</td>\n",
       "      <td>29.8830556</td>\n",
       "      <td>-97.941111</td>\n",
       "    </tr>\n",
       "    <tr>\n",
       "      <th>1</th>\n",
       "      <td>1949-10-10 21:00:00</td>\n",
       "      <td>lackland afb</td>\n",
       "      <td>tx</td>\n",
       "      <td>NaN</td>\n",
       "      <td>light</td>\n",
       "      <td>7200</td>\n",
       "      <td>1-2 hrs</td>\n",
       "      <td>1949 Lackland AFB&amp;#44 TX.  Lights racing acros...</td>\n",
       "      <td>12/16/2005</td>\n",
       "      <td>29.38421</td>\n",
       "      <td>-98.581082</td>\n",
       "    </tr>\n",
       "    <tr>\n",
       "      <th>2</th>\n",
       "      <td>1955-10-10 17:00:00</td>\n",
       "      <td>chester (uk/england)</td>\n",
       "      <td>NaN</td>\n",
       "      <td>gb</td>\n",
       "      <td>circle</td>\n",
       "      <td>20</td>\n",
       "      <td>20 seconds</td>\n",
       "      <td>Green/Orange circular disc over Chester&amp;#44 En...</td>\n",
       "      <td>1/21/2008</td>\n",
       "      <td>53.2</td>\n",
       "      <td>-2.916667</td>\n",
       "    </tr>\n",
       "    <tr>\n",
       "      <th>3</th>\n",
       "      <td>1956-10-10 21:00:00</td>\n",
       "      <td>edna</td>\n",
       "      <td>tx</td>\n",
       "      <td>us</td>\n",
       "      <td>circle</td>\n",
       "      <td>20</td>\n",
       "      <td>1/2 hour</td>\n",
       "      <td>My older brother and twin sister were leaving ...</td>\n",
       "      <td>1/17/2004</td>\n",
       "      <td>28.9783333</td>\n",
       "      <td>-96.645833</td>\n",
       "    </tr>\n",
       "    <tr>\n",
       "      <th>4</th>\n",
       "      <td>1960-10-10 20:00:00</td>\n",
       "      <td>kaneohe</td>\n",
       "      <td>hi</td>\n",
       "      <td>us</td>\n",
       "      <td>light</td>\n",
       "      <td>900</td>\n",
       "      <td>15 minutes</td>\n",
       "      <td>AS a Marine 1st Lt. flying an FJ4B fighter/att...</td>\n",
       "      <td>1/22/2004</td>\n",
       "      <td>21.4180556</td>\n",
       "      <td>-157.803611</td>\n",
       "    </tr>\n",
       "  </tbody>\n",
       "</table>\n",
       "</div>"
      ],
      "text/plain": [
       "            Date_time                  city state/province country UFO_shape  \\\n",
       "0 1949-10-10 20:00:00            san marcos             tx      us  cylinder   \n",
       "1 1949-10-10 21:00:00          lackland afb             tx     NaN     light   \n",
       "2 1955-10-10 17:00:00  chester (uk/england)            NaN      gb    circle   \n",
       "3 1956-10-10 21:00:00                  edna             tx      us    circle   \n",
       "4 1960-10-10 20:00:00               kaneohe             hi      us     light   \n",
       "\n",
       "  length_of_encounter_seconds described_duration_of_encounter  \\\n",
       "0                        2700                      45 minutes   \n",
       "1                        7200                         1-2 hrs   \n",
       "2                          20                      20 seconds   \n",
       "3                          20                        1/2 hour   \n",
       "4                         900                      15 minutes   \n",
       "\n",
       "                                         description date_documented  \\\n",
       "0  This event took place in early fall around 194...       4/27/2004   \n",
       "1  1949 Lackland AFB&#44 TX.  Lights racing acros...      12/16/2005   \n",
       "2  Green/Orange circular disc over Chester&#44 En...       1/21/2008   \n",
       "3  My older brother and twin sister were leaving ...       1/17/2004   \n",
       "4  AS a Marine 1st Lt. flying an FJ4B fighter/att...       1/22/2004   \n",
       "\n",
       "     latitude   longitude  \n",
       "0  29.8830556  -97.941111  \n",
       "1    29.38421  -98.581082  \n",
       "2        53.2   -2.916667  \n",
       "3  28.9783333  -96.645833  \n",
       "4  21.4180556 -157.803611  "
      ]
     },
     "execution_count": 135,
     "metadata": {},
     "output_type": "execute_result"
    }
   ],
   "source": [
    "import pandas as pd\n",
    "from datetime import datetime\n",
    "df = pd.read_csv(r'E:\\ufo_sighting_data.csv')\n",
    "#df = pd.to_datetime(df['Date_time'])\n",
    "#df['Date_time'] = df['Date_time'].astype('datetime64[ns]')\n",
    "s = df['Date_time'].str.split()\n",
    "df['Date_time'] = pd.to_datetime(s.str[0]) + pd.to_timedelta(s.str[1].str.split(':').str[0] +' hours')\n",
    "print(\"Original Dataframe:\")\n",
    "df.head()"
   ]
  },
  {
   "cell_type": "code",
   "execution_count": 138,
   "metadata": {},
   "outputs": [
    {
     "name": "stdout",
     "output_type": "stream",
     "text": [
      "Current date of Ufo dataset:\n",
      "2014-05-08 18:00:00\n",
      "\n",
      "Oldest date of Ufo dataset:\n",
      "1906-11-11 00:00:00\n",
      "\n",
      "Number of days between current date and oldest date of Ufo dataset:\n",
      "39260\n"
     ]
    }
   ],
   "source": [
    "print(\"Current date of Ufo dataset:\") \n",
    "print(df.Date_time.max())\n",
    "print(\"\\nOldest date of Ufo dataset:\") \n",
    "print(df.Date_time.min())\n",
    "print(\"\\nNumber of days between current date and oldest date of Ufo dataset:\") \n",
    "print((df.Date_time.max() - df.Date_time.min()).days)\n",
    "#d1=datetime.strptime(df.Date_time.max(), '%m/%d/%Y %H:%M')\n",
    "#d2=datetime.strptime(df.Date_time.min(), '%m/%d/%Y %H:%M')"
   ]
  },
  {
   "cell_type": "markdown",
   "metadata": {},
   "source": [
    "#### Q131. Write a pandas program to get all sighting days of the unidentified flying object (ufo) between 1950-10-10 and 1960-10- 10."
   ]
  },
  {
   "cell_type": "code",
   "execution_count": 140,
   "metadata": {},
   "outputs": [
    {
     "name": "stdout",
     "output_type": "stream",
     "text": [
      "Sighting days of the unidentified flying object (ufo) between 1949-10-10 and 1960-10-10:\n"
     ]
    },
    {
     "data": {
      "text/html": [
       "<div>\n",
       "<style>\n",
       "    .dataframe thead tr:only-child th {\n",
       "        text-align: right;\n",
       "    }\n",
       "\n",
       "    .dataframe thead th {\n",
       "        text-align: left;\n",
       "    }\n",
       "\n",
       "    .dataframe tbody tr th {\n",
       "        vertical-align: top;\n",
       "    }\n",
       "</style>\n",
       "<table border=\"1\" class=\"dataframe\">\n",
       "  <thead>\n",
       "    <tr style=\"text-align: right;\">\n",
       "      <th></th>\n",
       "      <th>Date_time</th>\n",
       "      <th>city</th>\n",
       "      <th>state/province</th>\n",
       "      <th>country</th>\n",
       "      <th>UFO_shape</th>\n",
       "      <th>length_of_encounter_seconds</th>\n",
       "      <th>described_duration_of_encounter</th>\n",
       "      <th>description</th>\n",
       "      <th>date_documented</th>\n",
       "      <th>latitude</th>\n",
       "      <th>longitude</th>\n",
       "    </tr>\n",
       "  </thead>\n",
       "  <tbody>\n",
       "    <tr>\n",
       "      <th>2</th>\n",
       "      <td>1955-10-10 17:00:00</td>\n",
       "      <td>chester (uk/england)</td>\n",
       "      <td>NaN</td>\n",
       "      <td>gb</td>\n",
       "      <td>circle</td>\n",
       "      <td>20</td>\n",
       "      <td>20 seconds</td>\n",
       "      <td>Green/Orange circular disc over Chester&amp;#44 En...</td>\n",
       "      <td>1/21/2008</td>\n",
       "      <td>53.2</td>\n",
       "      <td>-2.916667</td>\n",
       "    </tr>\n",
       "    <tr>\n",
       "      <th>3</th>\n",
       "      <td>1956-10-10 21:00:00</td>\n",
       "      <td>edna</td>\n",
       "      <td>tx</td>\n",
       "      <td>us</td>\n",
       "      <td>circle</td>\n",
       "      <td>20</td>\n",
       "      <td>1/2 hour</td>\n",
       "      <td>My older brother and twin sister were leaving ...</td>\n",
       "      <td>1/17/2004</td>\n",
       "      <td>28.9783333</td>\n",
       "      <td>-96.645833</td>\n",
       "    </tr>\n",
       "    <tr>\n",
       "      <th>4</th>\n",
       "      <td>1960-10-10 20:00:00</td>\n",
       "      <td>kaneohe</td>\n",
       "      <td>hi</td>\n",
       "      <td>us</td>\n",
       "      <td>light</td>\n",
       "      <td>900</td>\n",
       "      <td>15 minutes</td>\n",
       "      <td>AS a Marine 1st Lt. flying an FJ4B fighter/att...</td>\n",
       "      <td>1/22/2004</td>\n",
       "      <td>21.4180556</td>\n",
       "      <td>-157.803611</td>\n",
       "    </tr>\n",
       "    <tr>\n",
       "      <th>479</th>\n",
       "      <td>1950-10-01 11:00:00</td>\n",
       "      <td>pikeville</td>\n",
       "      <td>ky</td>\n",
       "      <td>us</td>\n",
       "      <td>disk</td>\n",
       "      <td>600</td>\n",
       "      <td>hr</td>\n",
       "      <td>SEVENTY SOME  FLYING DISK OBSERVED IN  1950</td>\n",
       "      <td>4/16/2005</td>\n",
       "      <td>37.4791667</td>\n",
       "      <td>-82.518889</td>\n",
       "    </tr>\n",
       "    <tr>\n",
       "      <th>480</th>\n",
       "      <td>1952-10-01 03:00:00</td>\n",
       "      <td>fukuoka (japan)</td>\n",
       "      <td>NaN</td>\n",
       "      <td>NaN</td>\n",
       "      <td>disk</td>\n",
       "      <td>1200</td>\n",
       "      <td>about 20 mins</td>\n",
       "      <td>UFO seen by multiple U. S. military personnel;...</td>\n",
       "      <td>12/7/2006</td>\n",
       "      <td>33.590355</td>\n",
       "      <td>130.401716</td>\n",
       "    </tr>\n",
       "    <tr>\n",
       "      <th>481</th>\n",
       "      <td>1952-10-01 12:00:00</td>\n",
       "      <td>kansas city</td>\n",
       "      <td>mo</td>\n",
       "      <td>us</td>\n",
       "      <td>disk</td>\n",
       "      <td>90</td>\n",
       "      <td>90 sec.</td>\n",
       "      <td>1952 daylight sighting of multiple discs in fo...</td>\n",
       "      <td>10/31/2008</td>\n",
       "      <td>39.0997222</td>\n",
       "      <td>-94.578333</td>\n",
       "    </tr>\n",
       "    <tr>\n",
       "      <th>482</th>\n",
       "      <td>1954-10-01 19:00:00</td>\n",
       "      <td>flatwoods</td>\n",
       "      <td>wv</td>\n",
       "      <td>us</td>\n",
       "      <td>circle</td>\n",
       "      <td>60</td>\n",
       "      <td>1 minute</td>\n",
       "      <td>I saw the craft go across the horizon.  It app...</td>\n",
       "      <td>4/12/2013</td>\n",
       "      <td>38.7230556</td>\n",
       "      <td>-80.650000</td>\n",
       "    </tr>\n",
       "    <tr>\n",
       "      <th>483</th>\n",
       "      <td>1955-10-01 22:00:00</td>\n",
       "      <td>mono lake (area)</td>\n",
       "      <td>ca</td>\n",
       "      <td>NaN</td>\n",
       "      <td>circle</td>\n",
       "      <td>5</td>\n",
       "      <td>five seconds+/-</td>\n",
       "      <td>NO KNOWN AIRCRAFT (1955 and maybe today) COULD...</td>\n",
       "      <td>3/19/2009</td>\n",
       "      <td>38.007059</td>\n",
       "      <td>-119.012259</td>\n",
       "    </tr>\n",
       "    <tr>\n",
       "      <th>484</th>\n",
       "      <td>1956-10-01 19:00:00</td>\n",
       "      <td>newport</td>\n",
       "      <td>nh</td>\n",
       "      <td>us</td>\n",
       "      <td>rectangle</td>\n",
       "      <td>300</td>\n",
       "      <td>5 minutes</td>\n",
       "      <td>Disk with glass center section&amp;#44 and flames ...</td>\n",
       "      <td>4/16/2005</td>\n",
       "      <td>43.3652778</td>\n",
       "      <td>-72.173889</td>\n",
       "    </tr>\n",
       "    <tr>\n",
       "      <th>485</th>\n",
       "      <td>1957-10-01 16:00:00</td>\n",
       "      <td>nelchina (near)</td>\n",
       "      <td>ak</td>\n",
       "      <td>us</td>\n",
       "      <td>unknown</td>\n",
       "      <td>180</td>\n",
       "      <td>3 minutes maximum</td>\n",
       "      <td>This incident occurred about October of 1956 o...</td>\n",
       "      <td>12/7/2006</td>\n",
       "      <td>61.9919444</td>\n",
       "      <td>-146.768611</td>\n",
       "    </tr>\n",
       "    <tr>\n",
       "      <th>486</th>\n",
       "      <td>1957-10-01 21:00:00</td>\n",
       "      <td>paterson</td>\n",
       "      <td>nj</td>\n",
       "      <td>us</td>\n",
       "      <td>disk</td>\n",
       "      <td>10</td>\n",
       "      <td>10 seconds</td>\n",
       "      <td>Formation of approximately 8 light gray metall...</td>\n",
       "      <td>4/16/2005</td>\n",
       "      <td>40.9166667</td>\n",
       "      <td>-74.172222</td>\n",
       "    </tr>\n",
       "    <tr>\n",
       "      <th>487</th>\n",
       "      <td>1957-10-01 22:00:00</td>\n",
       "      <td>northeast cape afs</td>\n",
       "      <td>ak</td>\n",
       "      <td>NaN</td>\n",
       "      <td>NaN</td>\n",
       "      <td>900</td>\n",
       "      <td>10-15min</td>\n",
       "      <td>Radar sighting and filming</td>\n",
       "      <td>1/28/1999</td>\n",
       "      <td>70.292489</td>\n",
       "      <td>-161.903334</td>\n",
       "    </tr>\n",
       "    <tr>\n",
       "      <th>488</th>\n",
       "      <td>1959-10-01 19:00:00</td>\n",
       "      <td>jacksonville</td>\n",
       "      <td>il</td>\n",
       "      <td>us</td>\n",
       "      <td>unknown</td>\n",
       "      <td>60</td>\n",
       "      <td>1 minute</td>\n",
       "      <td>Late 1959&amp;#44 bright lights from a hovering ob...</td>\n",
       "      <td>4/16/2005</td>\n",
       "      <td>39.7338889</td>\n",
       "      <td>-90.228889</td>\n",
       "    </tr>\n",
       "    <tr>\n",
       "      <th>1707</th>\n",
       "      <td>1950-10-15 15:00:00</td>\n",
       "      <td>sandy hook/highlands</td>\n",
       "      <td>nj</td>\n",
       "      <td>NaN</td>\n",
       "      <td>triangle</td>\n",
       "      <td>300</td>\n",
       "      <td>5 minutes</td>\n",
       "      <td>Triangles over New York Harbor 1950</td>\n",
       "      <td>10/30/2006</td>\n",
       "      <td>40.443164</td>\n",
       "      <td>-73.989861</td>\n",
       "    </tr>\n",
       "    <tr>\n",
       "      <th>1708</th>\n",
       "      <td>1952-10-15 21:00:00</td>\n",
       "      <td>richland</td>\n",
       "      <td>wa</td>\n",
       "      <td>us</td>\n",
       "      <td>circle</td>\n",
       "      <td>5</td>\n",
       "      <td>5 seconds</td>\n",
       "      <td>Night sighting of seven large luminous UFOs fl...</td>\n",
       "      <td>11/21/2010</td>\n",
       "      <td>46.2858333</td>\n",
       "      <td>-119.283333</td>\n",
       "    </tr>\n",
       "    <tr>\n",
       "      <th>1709</th>\n",
       "      <td>1952-10-16 00:00:00</td>\n",
       "      <td>edmonton (southwest of) (canada)</td>\n",
       "      <td>ab</td>\n",
       "      <td>ca</td>\n",
       "      <td>cylinder</td>\n",
       "      <td>120</td>\n",
       "      <td>approx. 2 min.</td>\n",
       "      <td>Good evening folks---What I am about to discri...</td>\n",
       "      <td>1/17/2004</td>\n",
       "      <td>53.55</td>\n",
       "      <td>-113.500000</td>\n",
       "    </tr>\n",
       "    <tr>\n",
       "      <th>1710</th>\n",
       "      <td>1953-10-15 14:00:00</td>\n",
       "      <td>mauriceville</td>\n",
       "      <td>tx</td>\n",
       "      <td>us</td>\n",
       "      <td>disk</td>\n",
       "      <td>300</td>\n",
       "      <td>5 min.</td>\n",
       "      <td>My father was a WWW1 Vet. and loved hunting. T...</td>\n",
       "      <td>11/4/2002</td>\n",
       "      <td>30.2033333</td>\n",
       "      <td>-93.866111</td>\n",
       "    </tr>\n",
       "    <tr>\n",
       "      <th>1711</th>\n",
       "      <td>1954-10-15 16:00:00</td>\n",
       "      <td>blanco</td>\n",
       "      <td>tx</td>\n",
       "      <td>us</td>\n",
       "      <td>other</td>\n",
       "      <td>300</td>\n",
       "      <td>3-5 mins</td>\n",
       "      <td>We saw a silver football&amp;#44 motionless in the...</td>\n",
       "      <td>4/27/2004</td>\n",
       "      <td>30.0977778</td>\n",
       "      <td>-98.421111</td>\n",
       "    </tr>\n",
       "    <tr>\n",
       "      <th>1712</th>\n",
       "      <td>1954-10-15 21:00:00</td>\n",
       "      <td>manistee</td>\n",
       "      <td>mi</td>\n",
       "      <td>us</td>\n",
       "      <td>circle</td>\n",
       "      <td>8</td>\n",
       "      <td>8 seconds</td>\n",
       "      <td>Saucer shaped&amp;#44 moved north to south directl...</td>\n",
       "      <td>1/21/2008</td>\n",
       "      <td>44.2444444</td>\n",
       "      <td>-86.324167</td>\n",
       "    </tr>\n",
       "    <tr>\n",
       "      <th>1713</th>\n",
       "      <td>1955-10-15 20:00:00</td>\n",
       "      <td>rhinebeck</td>\n",
       "      <td>ny</td>\n",
       "      <td>us</td>\n",
       "      <td>light</td>\n",
       "      <td>2400</td>\n",
       "      <td>40 minutes</td>\n",
       "      <td>This very distant star-like point of light cam...</td>\n",
       "      <td>7/19/2010</td>\n",
       "      <td>41.9266667</td>\n",
       "      <td>-73.913056</td>\n",
       "    </tr>\n",
       "    <tr>\n",
       "      <th>1714</th>\n",
       "      <td>1956-10-15 01:00:00</td>\n",
       "      <td>mechra bel ksire (morocco)</td>\n",
       "      <td>NaN</td>\n",
       "      <td>NaN</td>\n",
       "      <td>unknown</td>\n",
       "      <td>300</td>\n",
       "      <td>approx. 5 minutes</td>\n",
       "      <td>Air Defense radar reflected an object with gre...</td>\n",
       "      <td>4/16/2005</td>\n",
       "      <td>34.56</td>\n",
       "      <td>-5.950000</td>\n",
       "    </tr>\n",
       "    <tr>\n",
       "      <th>1715</th>\n",
       "      <td>1956-10-15 21:00:00</td>\n",
       "      <td>mt. vernon</td>\n",
       "      <td>in</td>\n",
       "      <td>NaN</td>\n",
       "      <td>disk</td>\n",
       "      <td>8</td>\n",
       "      <td>7 to 8 seconds</td>\n",
       "      <td>Clear night observation of lumenescent object ...</td>\n",
       "      <td>7/11/2000</td>\n",
       "      <td>37.932266</td>\n",
       "      <td>-87.895027</td>\n",
       "    </tr>\n",
       "    <tr>\n",
       "      <th>1716</th>\n",
       "      <td>1957-10-15 02:00:00</td>\n",
       "      <td>new york city (queens)</td>\n",
       "      <td>ny</td>\n",
       "      <td>us</td>\n",
       "      <td>NaN</td>\n",
       "      <td>10800</td>\n",
       "      <td>2x3 hrs</td>\n",
       "      <td>tall unidentified being enters home - N.Y.C. 1957</td>\n",
       "      <td>3/21/2003</td>\n",
       "      <td>40.7141667</td>\n",
       "      <td>-74.006389</td>\n",
       "    </tr>\n",
       "    <tr>\n",
       "      <th>1717</th>\n",
       "      <td>1957-10-15 20:00:00</td>\n",
       "      <td>houston (ellington afb)</td>\n",
       "      <td>tx</td>\n",
       "      <td>us</td>\n",
       "      <td>light</td>\n",
       "      <td>3</td>\n",
       "      <td>3 seconds</td>\n",
       "      <td>5 to 6&amp;quot; diameter light&amp;#44 extremely fast...</td>\n",
       "      <td>9/17/2000</td>\n",
       "      <td>29.7630556</td>\n",
       "      <td>-95.363056</td>\n",
       "    </tr>\n",
       "    <tr>\n",
       "      <th>1718</th>\n",
       "      <td>1957-10-15 22:00:00</td>\n",
       "      <td>commerce city (n. of denver)</td>\n",
       "      <td>co</td>\n",
       "      <td>us</td>\n",
       "      <td>fireball</td>\n",
       "      <td>600</td>\n",
       "      <td>10 min.</td>\n",
       "      <td>A lot of methane gas in area</td>\n",
       "      <td>9/19/2002</td>\n",
       "      <td>39.8083333</td>\n",
       "      <td>-104.933333</td>\n",
       "    </tr>\n",
       "    <tr>\n",
       "      <th>1719</th>\n",
       "      <td>1959-10-15 00:00:00</td>\n",
       "      <td>marysville</td>\n",
       "      <td>wa</td>\n",
       "      <td>us</td>\n",
       "      <td>other</td>\n",
       "      <td>75</td>\n",
       "      <td>1:15</td>\n",
       "      <td>UFO  Over  Golf Course</td>\n",
       "      <td>4/27/2007</td>\n",
       "      <td>48.0519444</td>\n",
       "      <td>-122.175833</td>\n",
       "    </tr>\n",
       "    <tr>\n",
       "      <th>2280</th>\n",
       "      <td>1959-10-16 22:00:00</td>\n",
       "      <td>four states</td>\n",
       "      <td>wv</td>\n",
       "      <td>us</td>\n",
       "      <td>sphere</td>\n",
       "      <td>600</td>\n",
       "      <td>10 minutes</td>\n",
       "      <td>MYSTERIOUS RED LIGHTS  IN NORTHERN WEST VIRGINIA</td>\n",
       "      <td>3/31/2008</td>\n",
       "      <td>39.4797222</td>\n",
       "      <td>-80.310000</td>\n",
       "    </tr>\n",
       "    <tr>\n",
       "      <th>3088</th>\n",
       "      <td>1958-10-20 21:00:00</td>\n",
       "      <td>st. paul</td>\n",
       "      <td>mn</td>\n",
       "      <td>us</td>\n",
       "      <td>other</td>\n",
       "      <td>2</td>\n",
       "      <td>2 seconds</td>\n",
       "      <td>A dull-orange craft sped southbound at low alt...</td>\n",
       "      <td>3/16/2000</td>\n",
       "      <td>44.9444444</td>\n",
       "      <td>-93.093056</td>\n",
       "    </tr>\n",
       "    <tr>\n",
       "      <th>4428</th>\n",
       "      <td>1958-10-25 20:00:00</td>\n",
       "      <td>terrebonne</td>\n",
       "      <td>or</td>\n",
       "      <td>us</td>\n",
       "      <td>unknown</td>\n",
       "      <td>120</td>\n",
       "      <td>1-2 minutes</td>\n",
       "      <td>Piercing&amp;#44 shrill tone.</td>\n",
       "      <td>8/5/2012</td>\n",
       "      <td>44.3530556</td>\n",
       "      <td>-121.176667</td>\n",
       "    </tr>\n",
       "    <tr>\n",
       "      <th>5413</th>\n",
       "      <td>1958-10-30 01:00:00</td>\n",
       "      <td>riverside</td>\n",
       "      <td>il</td>\n",
       "      <td>us</td>\n",
       "      <td>light</td>\n",
       "      <td>600</td>\n",
       "      <td>10 minutes (?)</td>\n",
       "      <td>Chicago suburbs&amp;#44 strange lights and figures...</td>\n",
       "      <td>4/27/2007</td>\n",
       "      <td>41.835</td>\n",
       "      <td>-87.822778</td>\n",
       "    </tr>\n",
       "    <tr>\n",
       "      <th>...</th>\n",
       "      <td>...</td>\n",
       "      <td>...</td>\n",
       "      <td>...</td>\n",
       "      <td>...</td>\n",
       "      <td>...</td>\n",
       "      <td>...</td>\n",
       "      <td>...</td>\n",
       "      <td>...</td>\n",
       "      <td>...</td>\n",
       "      <td>...</td>\n",
       "      <td>...</td>\n",
       "    </tr>\n",
       "    <tr>\n",
       "      <th>72743</th>\n",
       "      <td>1957-09-10 19:00:00</td>\n",
       "      <td>st. paul</td>\n",
       "      <td>mn</td>\n",
       "      <td>us</td>\n",
       "      <td>disk</td>\n",
       "      <td>300</td>\n",
       "      <td>five minutes</td>\n",
       "      <td>3 UFO&amp;#39s saucer-shaped with flashing lights ...</td>\n",
       "      <td>4/16/2005</td>\n",
       "      <td>44.9444</td>\n",
       "      <td>-93.093056</td>\n",
       "    </tr>\n",
       "    <tr>\n",
       "      <th>72744</th>\n",
       "      <td>1960-09-10 10:00:00</td>\n",
       "      <td>wichita</td>\n",
       "      <td>ks</td>\n",
       "      <td>us</td>\n",
       "      <td>oval</td>\n",
       "      <td>1200</td>\n",
       "      <td>20 min.</td>\n",
       "      <td>MADE  ONY  A  HUMMING SOUND EVEN WHEN  IT TOOK...</td>\n",
       "      <td>7/25/2004</td>\n",
       "      <td>37.6922</td>\n",
       "      <td>-97.337222</td>\n",
       "    </tr>\n",
       "    <tr>\n",
       "      <th>73293</th>\n",
       "      <td>1954-09-01 13:00:00</td>\n",
       "      <td>geneva</td>\n",
       "      <td>ny</td>\n",
       "      <td>us</td>\n",
       "      <td>disk</td>\n",
       "      <td>120</td>\n",
       "      <td>couple of minutes</td>\n",
       "      <td>While marching on a bivouac maneuver in (?) Se...</td>\n",
       "      <td>10/15/2003</td>\n",
       "      <td>42.8689</td>\n",
       "      <td>-76.978056</td>\n",
       "    </tr>\n",
       "    <tr>\n",
       "      <th>73294</th>\n",
       "      <td>1957-09-01 16:00:00</td>\n",
       "      <td>graham</td>\n",
       "      <td>tx</td>\n",
       "      <td>us</td>\n",
       "      <td>sphere</td>\n",
       "      <td>30</td>\n",
       "      <td>30 sec</td>\n",
       "      <td>Three shiny spheres over Graham Texas</td>\n",
       "      <td>1/10/2009</td>\n",
       "      <td>33.1069</td>\n",
       "      <td>-98.589167</td>\n",
       "    </tr>\n",
       "    <tr>\n",
       "      <th>73295</th>\n",
       "      <td>1957-09-01 23:00:00</td>\n",
       "      <td>brecksville</td>\n",
       "      <td>oh</td>\n",
       "      <td>us</td>\n",
       "      <td>circle</td>\n",
       "      <td>180</td>\n",
       "      <td>3 minutes</td>\n",
       "      <td>20 ft in diameter glowing ufo landed a few fee...</td>\n",
       "      <td>2/1/2007</td>\n",
       "      <td>41.3197</td>\n",
       "      <td>-81.626944</td>\n",
       "    </tr>\n",
       "    <tr>\n",
       "      <th>73296</th>\n",
       "      <td>1958-09-01 20:00:00</td>\n",
       "      <td>fargo</td>\n",
       "      <td>nd</td>\n",
       "      <td>us</td>\n",
       "      <td>disk</td>\n",
       "      <td>900</td>\n",
       "      <td>15 min</td>\n",
       "      <td>Flying Saucer seen while driving home from work.</td>\n",
       "      <td>5/27/2003</td>\n",
       "      <td>46.8772</td>\n",
       "      <td>-96.789444</td>\n",
       "    </tr>\n",
       "    <tr>\n",
       "      <th>74266</th>\n",
       "      <td>1958-09-14 19:00:00</td>\n",
       "      <td>ashland</td>\n",
       "      <td>ky</td>\n",
       "      <td>us</td>\n",
       "      <td>circle</td>\n",
       "      <td>45</td>\n",
       "      <td>45 seconds</td>\n",
       "      <td>Near observations of a slow moving silent obje...</td>\n",
       "      <td>2/14/2008</td>\n",
       "      <td>38.4783</td>\n",
       "      <td>-82.638056</td>\n",
       "    </tr>\n",
       "    <tr>\n",
       "      <th>74517</th>\n",
       "      <td>1952-09-15 14:00:00</td>\n",
       "      <td>norridgewock</td>\n",
       "      <td>me</td>\n",
       "      <td>us</td>\n",
       "      <td>disk</td>\n",
       "      <td>300</td>\n",
       "      <td>4-5 minutes</td>\n",
       "      <td>SUNNY DAY&amp;#44 WITHIN 450 FEET&amp;#44 LOW...REPORT...</td>\n",
       "      <td>12/2/2000</td>\n",
       "      <td>44.7131</td>\n",
       "      <td>-69.791111</td>\n",
       "    </tr>\n",
       "    <tr>\n",
       "      <th>74518</th>\n",
       "      <td>1954-09-15 09:00:00</td>\n",
       "      <td>palmer township</td>\n",
       "      <td>pa</td>\n",
       "      <td>NaN</td>\n",
       "      <td>other</td>\n",
       "      <td>600</td>\n",
       "      <td>9-10 minutes</td>\n",
       "      <td>Saturn-shaped object appearing over the Pennsy...</td>\n",
       "      <td>11/28/2007</td>\n",
       "      <td>40.7168</td>\n",
       "      <td>-75.249344</td>\n",
       "    </tr>\n",
       "    <tr>\n",
       "      <th>74519</th>\n",
       "      <td>1956-09-15 20:00:00</td>\n",
       "      <td>middle river</td>\n",
       "      <td>md</td>\n",
       "      <td>us</td>\n",
       "      <td>circle</td>\n",
       "      <td>60</td>\n",
       "      <td>1 min</td>\n",
       "      <td>three round blue-white disks in V formation mo...</td>\n",
       "      <td>12/16/2005</td>\n",
       "      <td>39.3342</td>\n",
       "      <td>-76.439722</td>\n",
       "    </tr>\n",
       "    <tr>\n",
       "      <th>74520</th>\n",
       "      <td>1957-09-15 04:00:00</td>\n",
       "      <td>el paso</td>\n",
       "      <td>tx</td>\n",
       "      <td>us</td>\n",
       "      <td>disk</td>\n",
       "      <td>600</td>\n",
       "      <td>10 min</td>\n",
       "      <td>Undified Flying Object</td>\n",
       "      <td>2/14/2008</td>\n",
       "      <td>31.7586</td>\n",
       "      <td>-106.486389</td>\n",
       "    </tr>\n",
       "    <tr>\n",
       "      <th>74521</th>\n",
       "      <td>1957-09-15 21:00:00</td>\n",
       "      <td>lake jackson</td>\n",
       "      <td>tx</td>\n",
       "      <td>us</td>\n",
       "      <td>fireball</td>\n",
       "      <td>13</td>\n",
       "      <td>13 sec</td>\n",
       "      <td>fireball seen on country  road.</td>\n",
       "      <td>1/10/2009</td>\n",
       "      <td>29.0336</td>\n",
       "      <td>-95.434167</td>\n",
       "    </tr>\n",
       "    <tr>\n",
       "      <th>74522</th>\n",
       "      <td>1957-09-15 23:00:00</td>\n",
       "      <td>tacoma</td>\n",
       "      <td>wa</td>\n",
       "      <td>us</td>\n",
       "      <td>disk</td>\n",
       "      <td>20</td>\n",
       "      <td>20 seconds</td>\n",
       "      <td>a large disk spacecraft the size of a Boeing 7...</td>\n",
       "      <td>3/2/2004</td>\n",
       "      <td>47.2531</td>\n",
       "      <td>-122.443056</td>\n",
       "    </tr>\n",
       "    <tr>\n",
       "      <th>74523</th>\n",
       "      <td>1959-09-15 01:00:00</td>\n",
       "      <td>goldfield</td>\n",
       "      <td>nv</td>\n",
       "      <td>us</td>\n",
       "      <td>light</td>\n",
       "      <td>60</td>\n",
       "      <td>1 minute</td>\n",
       "      <td>The object hovered over the pick-up&amp;#44 and ra...</td>\n",
       "      <td>4/16/2005</td>\n",
       "      <td>37.7086</td>\n",
       "      <td>-117.234722</td>\n",
       "    </tr>\n",
       "    <tr>\n",
       "      <th>74524</th>\n",
       "      <td>1959-09-15 11:00:00</td>\n",
       "      <td>dayton</td>\n",
       "      <td>oh</td>\n",
       "      <td>us</td>\n",
       "      <td>disk</td>\n",
       "      <td>900</td>\n",
       "      <td>15 mini</td>\n",
       "      <td>formation of 6 saucers moving from Wright Pate...</td>\n",
       "      <td>2/8/2005</td>\n",
       "      <td>39.7589</td>\n",
       "      <td>-84.191667</td>\n",
       "    </tr>\n",
       "    <tr>\n",
       "      <th>74525</th>\n",
       "      <td>1959-09-16 00:00:00</td>\n",
       "      <td>fallon</td>\n",
       "      <td>nv</td>\n",
       "      <td>us</td>\n",
       "      <td>oval</td>\n",
       "      <td>7200</td>\n",
       "      <td>2 hours</td>\n",
       "      <td>I was an Air Force radar operator at Fallon Na...</td>\n",
       "      <td>10/28/2002</td>\n",
       "      <td>39.4736</td>\n",
       "      <td>-118.776389</td>\n",
       "    </tr>\n",
       "    <tr>\n",
       "      <th>74526</th>\n",
       "      <td>1960-09-15 19:00:00</td>\n",
       "      <td>kingsport</td>\n",
       "      <td>tn</td>\n",
       "      <td>us</td>\n",
       "      <td>circle</td>\n",
       "      <td>300</td>\n",
       "      <td>5 minutes</td>\n",
       "      <td>An orange&amp;#44 circular craft drifted over the ...</td>\n",
       "      <td>1/28/1999</td>\n",
       "      <td>36.5483</td>\n",
       "      <td>-82.561944</td>\n",
       "    </tr>\n",
       "    <tr>\n",
       "      <th>74527</th>\n",
       "      <td>1960-09-15 20:00:00</td>\n",
       "      <td>seattle</td>\n",
       "      <td>wa</td>\n",
       "      <td>us</td>\n",
       "      <td>disk</td>\n",
       "      <td>120</td>\n",
       "      <td>2 min. for me&amp;#44 longer for</td>\n",
       "      <td>Triple disc sighting prior to dusk with a ligh...</td>\n",
       "      <td>4/27/2004</td>\n",
       "      <td>47.6064</td>\n",
       "      <td>-122.330833</td>\n",
       "    </tr>\n",
       "    <tr>\n",
       "      <th>74528</th>\n",
       "      <td>1960-09-15 21:00:00</td>\n",
       "      <td>susanville</td>\n",
       "      <td>ca</td>\n",
       "      <td>us</td>\n",
       "      <td>NaN</td>\n",
       "      <td>360</td>\n",
       "      <td>5-6 minutes</td>\n",
       "      <td>Three craft in formation&amp;#44 high altitude&amp;#44...</td>\n",
       "      <td>4/27/2004</td>\n",
       "      <td>40.4164</td>\n",
       "      <td>-120.651944</td>\n",
       "    </tr>\n",
       "    <tr>\n",
       "      <th>74529</th>\n",
       "      <td>1960-09-15 21:00:00</td>\n",
       "      <td>barrhead (canada)</td>\n",
       "      <td>ab</td>\n",
       "      <td>ca</td>\n",
       "      <td>other</td>\n",
       "      <td>1200</td>\n",
       "      <td>20 minutes</td>\n",
       "      <td>HBCCUFO CANADIAN REPORT:  Daddy&amp;#44 there is a...</td>\n",
       "      <td>8/28/2003</td>\n",
       "      <td>54.1167</td>\n",
       "      <td>-114.400000</td>\n",
       "    </tr>\n",
       "    <tr>\n",
       "      <th>75992</th>\n",
       "      <td>1956-09-20 16:00:00</td>\n",
       "      <td>hope</td>\n",
       "      <td>ar</td>\n",
       "      <td>us</td>\n",
       "      <td>circle</td>\n",
       "      <td>1200</td>\n",
       "      <td>20 minutes</td>\n",
       "      <td>Sitting on a pond bank on sunny afternoon when...</td>\n",
       "      <td>4/16/2005</td>\n",
       "      <td>33.6669</td>\n",
       "      <td>-93.591389</td>\n",
       "    </tr>\n",
       "    <tr>\n",
       "      <th>75993</th>\n",
       "      <td>1957-09-20 00:00:00</td>\n",
       "      <td>hopkinsville</td>\n",
       "      <td>ky</td>\n",
       "      <td>us</td>\n",
       "      <td>cigar</td>\n",
       "      <td>600</td>\n",
       "      <td>10 minutes</td>\n",
       "      <td>4 matalic silver cigar shaped objects; no soun...</td>\n",
       "      <td>8/28/2003</td>\n",
       "      <td>36.8656</td>\n",
       "      <td>-87.488611</td>\n",
       "    </tr>\n",
       "    <tr>\n",
       "      <th>75994</th>\n",
       "      <td>1958-09-20 22:00:00</td>\n",
       "      <td>davis jct. (on highway72 east to highway 51 no...</td>\n",
       "      <td>il</td>\n",
       "      <td>NaN</td>\n",
       "      <td>fireball</td>\n",
       "      <td>300</td>\n",
       "      <td>5min</td>\n",
       "      <td>red light with A GLOW AROUND IT DRIVING TO WOR...</td>\n",
       "      <td>4/2/1999</td>\n",
       "      <td>42.1017</td>\n",
       "      <td>-89.093157</td>\n",
       "    </tr>\n",
       "    <tr>\n",
       "      <th>76277</th>\n",
       "      <td>1956-09-22 00:00:00</td>\n",
       "      <td>greenwich</td>\n",
       "      <td>ct</td>\n",
       "      <td>us</td>\n",
       "      <td>light</td>\n",
       "      <td>1290</td>\n",
       "      <td>21:30</td>\n",
       "      <td>Strange movements amoung the stars</td>\n",
       "      <td>8/12/2008</td>\n",
       "      <td>41.0264</td>\n",
       "      <td>-73.628889</td>\n",
       "    </tr>\n",
       "    <tr>\n",
       "      <th>79261</th>\n",
       "      <td>1957-09-05 17:00:00</td>\n",
       "      <td>los gatos (west of)</td>\n",
       "      <td>ca</td>\n",
       "      <td>us</td>\n",
       "      <td>disk</td>\n",
       "      <td>60</td>\n",
       "      <td>one minute or less</td>\n",
       "      <td>3 craft seen in day light&amp;#44 very low altitud...</td>\n",
       "      <td>10/30/2006</td>\n",
       "      <td>37.2267</td>\n",
       "      <td>-121.973611</td>\n",
       "    </tr>\n",
       "    <tr>\n",
       "      <th>79262</th>\n",
       "      <td>1960-09-05 21:00:00</td>\n",
       "      <td>buffalo</td>\n",
       "      <td>ny</td>\n",
       "      <td>us</td>\n",
       "      <td>oval</td>\n",
       "      <td>180</td>\n",
       "      <td>3 minutes</td>\n",
       "      <td>Precise movements of a &amp;quot;craft&amp;quot; appar...</td>\n",
       "      <td>9/15/2005</td>\n",
       "      <td>42.8864</td>\n",
       "      <td>-78.878611</td>\n",
       "    </tr>\n",
       "    <tr>\n",
       "      <th>79668</th>\n",
       "      <td>1958-09-07 19:00:00</td>\n",
       "      <td>arthur</td>\n",
       "      <td>nd</td>\n",
       "      <td>us</td>\n",
       "      <td>unknown</td>\n",
       "      <td>900</td>\n",
       "      <td>5-15 min.</td>\n",
       "      <td>Two lights of alternating color traveling and ...</td>\n",
       "      <td>10/31/2003</td>\n",
       "      <td>47.1042</td>\n",
       "      <td>-97.217778</td>\n",
       "    </tr>\n",
       "    <tr>\n",
       "      <th>80101</th>\n",
       "      <td>1952-09-09 20:00:00</td>\n",
       "      <td>philadelphia</td>\n",
       "      <td>pa</td>\n",
       "      <td>us</td>\n",
       "      <td>circle</td>\n",
       "      <td>180</td>\n",
       "      <td>3 minutes</td>\n",
       "      <td>saucers in a line over Phila Pa.</td>\n",
       "      <td>12/12/2009</td>\n",
       "      <td>39.9522</td>\n",
       "      <td>-75.164167</td>\n",
       "    </tr>\n",
       "    <tr>\n",
       "      <th>80102</th>\n",
       "      <td>1954-09-09 12:00:00</td>\n",
       "      <td>beaumont</td>\n",
       "      <td>tx</td>\n",
       "      <td>us</td>\n",
       "      <td>disk</td>\n",
       "      <td>300</td>\n",
       "      <td>5 minutes</td>\n",
       "      <td>Aprox. 30 Disk shaped UFOs fell out of clouds ...</td>\n",
       "      <td>1/17/2004</td>\n",
       "      <td>30.0858</td>\n",
       "      <td>-94.101667</td>\n",
       "    </tr>\n",
       "    <tr>\n",
       "      <th>80103</th>\n",
       "      <td>1956-09-09 05:00:00</td>\n",
       "      <td>norfolk</td>\n",
       "      <td>va</td>\n",
       "      <td>us</td>\n",
       "      <td>cigar</td>\n",
       "      <td>90</td>\n",
       "      <td>1.5 minutes</td>\n",
       "      <td>Unidentified Object Hovering over Interstate 2...</td>\n",
       "      <td>2/24/2007</td>\n",
       "      <td>36.8467</td>\n",
       "      <td>-76.285556</td>\n",
       "    </tr>\n",
       "  </tbody>\n",
       "</table>\n",
       "<p>495 rows × 11 columns</p>\n",
       "</div>"
      ],
      "text/plain": [
       "                Date_time                                               city  \\\n",
       "2     1955-10-10 17:00:00                               chester (uk/england)   \n",
       "3     1956-10-10 21:00:00                                               edna   \n",
       "4     1960-10-10 20:00:00                                            kaneohe   \n",
       "479   1950-10-01 11:00:00                                          pikeville   \n",
       "480   1952-10-01 03:00:00                                    fukuoka (japan)   \n",
       "481   1952-10-01 12:00:00                                        kansas city   \n",
       "482   1954-10-01 19:00:00                                          flatwoods   \n",
       "483   1955-10-01 22:00:00                                   mono lake (area)   \n",
       "484   1956-10-01 19:00:00                                            newport   \n",
       "485   1957-10-01 16:00:00                                    nelchina (near)   \n",
       "486   1957-10-01 21:00:00                                           paterson   \n",
       "487   1957-10-01 22:00:00                                 northeast cape afs   \n",
       "488   1959-10-01 19:00:00                                       jacksonville   \n",
       "1707  1950-10-15 15:00:00                               sandy hook/highlands   \n",
       "1708  1952-10-15 21:00:00                                           richland   \n",
       "1709  1952-10-16 00:00:00                   edmonton (southwest of) (canada)   \n",
       "1710  1953-10-15 14:00:00                                       mauriceville   \n",
       "1711  1954-10-15 16:00:00                                             blanco   \n",
       "1712  1954-10-15 21:00:00                                           manistee   \n",
       "1713  1955-10-15 20:00:00                                          rhinebeck   \n",
       "1714  1956-10-15 01:00:00                         mechra bel ksire (morocco)   \n",
       "1715  1956-10-15 21:00:00                                         mt. vernon   \n",
       "1716  1957-10-15 02:00:00                             new york city (queens)   \n",
       "1717  1957-10-15 20:00:00                            houston (ellington afb)   \n",
       "1718  1957-10-15 22:00:00                       commerce city (n. of denver)   \n",
       "1719  1959-10-15 00:00:00                                         marysville   \n",
       "2280  1959-10-16 22:00:00                                        four states   \n",
       "3088  1958-10-20 21:00:00                                           st. paul   \n",
       "4428  1958-10-25 20:00:00                                         terrebonne   \n",
       "5413  1958-10-30 01:00:00                                          riverside   \n",
       "...                   ...                                                ...   \n",
       "72743 1957-09-10 19:00:00                                           st. paul   \n",
       "72744 1960-09-10 10:00:00                                            wichita   \n",
       "73293 1954-09-01 13:00:00                                             geneva   \n",
       "73294 1957-09-01 16:00:00                                             graham   \n",
       "73295 1957-09-01 23:00:00                                        brecksville   \n",
       "73296 1958-09-01 20:00:00                                              fargo   \n",
       "74266 1958-09-14 19:00:00                                            ashland   \n",
       "74517 1952-09-15 14:00:00                                       norridgewock   \n",
       "74518 1954-09-15 09:00:00                                    palmer township   \n",
       "74519 1956-09-15 20:00:00                                       middle river   \n",
       "74520 1957-09-15 04:00:00                                            el paso   \n",
       "74521 1957-09-15 21:00:00                                       lake jackson   \n",
       "74522 1957-09-15 23:00:00                                             tacoma   \n",
       "74523 1959-09-15 01:00:00                                          goldfield   \n",
       "74524 1959-09-15 11:00:00                                             dayton   \n",
       "74525 1959-09-16 00:00:00                                             fallon   \n",
       "74526 1960-09-15 19:00:00                                          kingsport   \n",
       "74527 1960-09-15 20:00:00                                            seattle   \n",
       "74528 1960-09-15 21:00:00                                         susanville   \n",
       "74529 1960-09-15 21:00:00                                  barrhead (canada)   \n",
       "75992 1956-09-20 16:00:00                                               hope   \n",
       "75993 1957-09-20 00:00:00                                       hopkinsville   \n",
       "75994 1958-09-20 22:00:00  davis jct. (on highway72 east to highway 51 no...   \n",
       "76277 1956-09-22 00:00:00                                          greenwich   \n",
       "79261 1957-09-05 17:00:00                                los gatos (west of)   \n",
       "79262 1960-09-05 21:00:00                                            buffalo   \n",
       "79668 1958-09-07 19:00:00                                             arthur   \n",
       "80101 1952-09-09 20:00:00                                       philadelphia   \n",
       "80102 1954-09-09 12:00:00                                           beaumont   \n",
       "80103 1956-09-09 05:00:00                                            norfolk   \n",
       "\n",
       "      state/province country  UFO_shape length_of_encounter_seconds  \\\n",
       "2                NaN      gb     circle                          20   \n",
       "3                 tx      us     circle                          20   \n",
       "4                 hi      us      light                         900   \n",
       "479               ky      us       disk                         600   \n",
       "480              NaN     NaN       disk                        1200   \n",
       "481               mo      us       disk                          90   \n",
       "482               wv      us     circle                          60   \n",
       "483               ca     NaN     circle                           5   \n",
       "484               nh      us  rectangle                         300   \n",
       "485               ak      us    unknown                         180   \n",
       "486               nj      us       disk                          10   \n",
       "487               ak     NaN        NaN                         900   \n",
       "488               il      us    unknown                          60   \n",
       "1707              nj     NaN   triangle                         300   \n",
       "1708              wa      us     circle                           5   \n",
       "1709              ab      ca   cylinder                         120   \n",
       "1710              tx      us       disk                         300   \n",
       "1711              tx      us      other                         300   \n",
       "1712              mi      us     circle                           8   \n",
       "1713              ny      us      light                        2400   \n",
       "1714             NaN     NaN    unknown                         300   \n",
       "1715              in     NaN       disk                           8   \n",
       "1716              ny      us        NaN                       10800   \n",
       "1717              tx      us      light                           3   \n",
       "1718              co      us   fireball                         600   \n",
       "1719              wa      us      other                          75   \n",
       "2280              wv      us     sphere                         600   \n",
       "3088              mn      us      other                           2   \n",
       "4428              or      us    unknown                         120   \n",
       "5413              il      us      light                         600   \n",
       "...              ...     ...        ...                         ...   \n",
       "72743             mn      us       disk                         300   \n",
       "72744             ks      us       oval                        1200   \n",
       "73293             ny      us       disk                         120   \n",
       "73294             tx      us     sphere                          30   \n",
       "73295             oh      us     circle                         180   \n",
       "73296             nd      us       disk                         900   \n",
       "74266             ky      us     circle                          45   \n",
       "74517             me      us       disk                         300   \n",
       "74518             pa     NaN      other                         600   \n",
       "74519             md      us     circle                          60   \n",
       "74520             tx      us       disk                         600   \n",
       "74521             tx      us   fireball                          13   \n",
       "74522             wa      us       disk                          20   \n",
       "74523             nv      us      light                          60   \n",
       "74524             oh      us       disk                         900   \n",
       "74525             nv      us       oval                        7200   \n",
       "74526             tn      us     circle                         300   \n",
       "74527             wa      us       disk                         120   \n",
       "74528             ca      us        NaN                         360   \n",
       "74529             ab      ca      other                        1200   \n",
       "75992             ar      us     circle                        1200   \n",
       "75993             ky      us      cigar                         600   \n",
       "75994             il     NaN   fireball                         300   \n",
       "76277             ct      us      light                        1290   \n",
       "79261             ca      us       disk                          60   \n",
       "79262             ny      us       oval                         180   \n",
       "79668             nd      us    unknown                         900   \n",
       "80101             pa      us     circle                         180   \n",
       "80102             tx      us       disk                         300   \n",
       "80103             va      us      cigar                          90   \n",
       "\n",
       "      described_duration_of_encounter  \\\n",
       "2                          20 seconds   \n",
       "3                            1/2 hour   \n",
       "4                          15 minutes   \n",
       "479                                hr   \n",
       "480                     about 20 mins   \n",
       "481                           90 sec.   \n",
       "482                          1 minute   \n",
       "483                   five seconds+/-   \n",
       "484                         5 minutes   \n",
       "485                 3 minutes maximum   \n",
       "486                        10 seconds   \n",
       "487                          10-15min   \n",
       "488                          1 minute   \n",
       "1707                        5 minutes   \n",
       "1708                        5 seconds   \n",
       "1709                   approx. 2 min.   \n",
       "1710                           5 min.   \n",
       "1711                         3-5 mins   \n",
       "1712                        8 seconds   \n",
       "1713                       40 minutes   \n",
       "1714                approx. 5 minutes   \n",
       "1715                   7 to 8 seconds   \n",
       "1716                          2x3 hrs   \n",
       "1717                        3 seconds   \n",
       "1718                          10 min.   \n",
       "1719                             1:15   \n",
       "2280                       10 minutes   \n",
       "3088                        2 seconds   \n",
       "4428                      1-2 minutes   \n",
       "5413                   10 minutes (?)   \n",
       "...                               ...   \n",
       "72743                    five minutes   \n",
       "72744                         20 min.   \n",
       "73293               couple of minutes   \n",
       "73294                          30 sec   \n",
       "73295                       3 minutes   \n",
       "73296                          15 min   \n",
       "74266                      45 seconds   \n",
       "74517                     4-5 minutes   \n",
       "74518                    9-10 minutes   \n",
       "74519                           1 min   \n",
       "74520                          10 min   \n",
       "74521                          13 sec   \n",
       "74522                      20 seconds   \n",
       "74523                        1 minute   \n",
       "74524                         15 mini   \n",
       "74525                         2 hours   \n",
       "74526                       5 minutes   \n",
       "74527    2 min. for me&#44 longer for   \n",
       "74528                     5-6 minutes   \n",
       "74529                      20 minutes   \n",
       "75992                      20 minutes   \n",
       "75993                      10 minutes   \n",
       "75994                            5min   \n",
       "76277                           21:30   \n",
       "79261              one minute or less   \n",
       "79262                       3 minutes   \n",
       "79668                       5-15 min.   \n",
       "80101                       3 minutes   \n",
       "80102                       5 minutes   \n",
       "80103                     1.5 minutes   \n",
       "\n",
       "                                             description date_documented  \\\n",
       "2      Green/Orange circular disc over Chester&#44 En...       1/21/2008   \n",
       "3      My older brother and twin sister were leaving ...       1/17/2004   \n",
       "4      AS a Marine 1st Lt. flying an FJ4B fighter/att...       1/22/2004   \n",
       "479          SEVENTY SOME  FLYING DISK OBSERVED IN  1950       4/16/2005   \n",
       "480    UFO seen by multiple U. S. military personnel;...       12/7/2006   \n",
       "481    1952 daylight sighting of multiple discs in fo...      10/31/2008   \n",
       "482    I saw the craft go across the horizon.  It app...       4/12/2013   \n",
       "483    NO KNOWN AIRCRAFT (1955 and maybe today) COULD...       3/19/2009   \n",
       "484    Disk with glass center section&#44 and flames ...       4/16/2005   \n",
       "485    This incident occurred about October of 1956 o...       12/7/2006   \n",
       "486    Formation of approximately 8 light gray metall...       4/16/2005   \n",
       "487                           Radar sighting and filming       1/28/1999   \n",
       "488    Late 1959&#44 bright lights from a hovering ob...       4/16/2005   \n",
       "1707                 Triangles over New York Harbor 1950      10/30/2006   \n",
       "1708   Night sighting of seven large luminous UFOs fl...      11/21/2010   \n",
       "1709   Good evening folks---What I am about to discri...       1/17/2004   \n",
       "1710   My father was a WWW1 Vet. and loved hunting. T...       11/4/2002   \n",
       "1711   We saw a silver football&#44 motionless in the...       4/27/2004   \n",
       "1712   Saucer shaped&#44 moved north to south directl...       1/21/2008   \n",
       "1713   This very distant star-like point of light cam...       7/19/2010   \n",
       "1714   Air Defense radar reflected an object with gre...       4/16/2005   \n",
       "1715   Clear night observation of lumenescent object ...       7/11/2000   \n",
       "1716   tall unidentified being enters home - N.Y.C. 1957       3/21/2003   \n",
       "1717   5 to 6&quot; diameter light&#44 extremely fast...       9/17/2000   \n",
       "1718                        A lot of methane gas in area       9/19/2002   \n",
       "1719                              UFO  Over  Golf Course       4/27/2007   \n",
       "2280    MYSTERIOUS RED LIGHTS  IN NORTHERN WEST VIRGINIA       3/31/2008   \n",
       "3088   A dull-orange craft sped southbound at low alt...       3/16/2000   \n",
       "4428                           Piercing&#44 shrill tone.        8/5/2012   \n",
       "5413   Chicago suburbs&#44 strange lights and figures...       4/27/2007   \n",
       "...                                                  ...             ...   \n",
       "72743  3 UFO&#39s saucer-shaped with flashing lights ...       4/16/2005   \n",
       "72744  MADE  ONY  A  HUMMING SOUND EVEN WHEN  IT TOOK...       7/25/2004   \n",
       "73293  While marching on a bivouac maneuver in (?) Se...      10/15/2003   \n",
       "73294              Three shiny spheres over Graham Texas       1/10/2009   \n",
       "73295  20 ft in diameter glowing ufo landed a few fee...        2/1/2007   \n",
       "73296   Flying Saucer seen while driving home from work.       5/27/2003   \n",
       "74266  Near observations of a slow moving silent obje...       2/14/2008   \n",
       "74517  SUNNY DAY&#44 WITHIN 450 FEET&#44 LOW...REPORT...       12/2/2000   \n",
       "74518  Saturn-shaped object appearing over the Pennsy...      11/28/2007   \n",
       "74519  three round blue-white disks in V formation mo...      12/16/2005   \n",
       "74520                             Undified Flying Object       2/14/2008   \n",
       "74521                    fireball seen on country  road.       1/10/2009   \n",
       "74522  a large disk spacecraft the size of a Boeing 7...        3/2/2004   \n",
       "74523  The object hovered over the pick-up&#44 and ra...       4/16/2005   \n",
       "74524  formation of 6 saucers moving from Wright Pate...        2/8/2005   \n",
       "74525  I was an Air Force radar operator at Fallon Na...      10/28/2002   \n",
       "74526  An orange&#44 circular craft drifted over the ...       1/28/1999   \n",
       "74527  Triple disc sighting prior to dusk with a ligh...       4/27/2004   \n",
       "74528  Three craft in formation&#44 high altitude&#44...       4/27/2004   \n",
       "74529  HBCCUFO CANADIAN REPORT:  Daddy&#44 there is a...       8/28/2003   \n",
       "75992  Sitting on a pond bank on sunny afternoon when...       4/16/2005   \n",
       "75993  4 matalic silver cigar shaped objects; no soun...       8/28/2003   \n",
       "75994  red light with A GLOW AROUND IT DRIVING TO WOR...        4/2/1999   \n",
       "76277                 Strange movements amoung the stars       8/12/2008   \n",
       "79261  3 craft seen in day light&#44 very low altitud...      10/30/2006   \n",
       "79262  Precise movements of a &quot;craft&quot; appar...       9/15/2005   \n",
       "79668  Two lights of alternating color traveling and ...      10/31/2003   \n",
       "80101                   saucers in a line over Phila Pa.      12/12/2009   \n",
       "80102  Aprox. 30 Disk shaped UFOs fell out of clouds ...       1/17/2004   \n",
       "80103  Unidentified Object Hovering over Interstate 2...       2/24/2007   \n",
       "\n",
       "         latitude   longitude  \n",
       "2            53.2   -2.916667  \n",
       "3      28.9783333  -96.645833  \n",
       "4      21.4180556 -157.803611  \n",
       "479    37.4791667  -82.518889  \n",
       "480     33.590355  130.401716  \n",
       "481    39.0997222  -94.578333  \n",
       "482    38.7230556  -80.650000  \n",
       "483     38.007059 -119.012259  \n",
       "484    43.3652778  -72.173889  \n",
       "485    61.9919444 -146.768611  \n",
       "486    40.9166667  -74.172222  \n",
       "487     70.292489 -161.903334  \n",
       "488    39.7338889  -90.228889  \n",
       "1707    40.443164  -73.989861  \n",
       "1708   46.2858333 -119.283333  \n",
       "1709        53.55 -113.500000  \n",
       "1710   30.2033333  -93.866111  \n",
       "1711   30.0977778  -98.421111  \n",
       "1712   44.2444444  -86.324167  \n",
       "1713   41.9266667  -73.913056  \n",
       "1714        34.56   -5.950000  \n",
       "1715    37.932266  -87.895027  \n",
       "1716   40.7141667  -74.006389  \n",
       "1717   29.7630556  -95.363056  \n",
       "1718   39.8083333 -104.933333  \n",
       "1719   48.0519444 -122.175833  \n",
       "2280   39.4797222  -80.310000  \n",
       "3088   44.9444444  -93.093056  \n",
       "4428   44.3530556 -121.176667  \n",
       "5413       41.835  -87.822778  \n",
       "...           ...         ...  \n",
       "72743     44.9444  -93.093056  \n",
       "72744     37.6922  -97.337222  \n",
       "73293     42.8689  -76.978056  \n",
       "73294     33.1069  -98.589167  \n",
       "73295     41.3197  -81.626944  \n",
       "73296     46.8772  -96.789444  \n",
       "74266     38.4783  -82.638056  \n",
       "74517     44.7131  -69.791111  \n",
       "74518     40.7168  -75.249344  \n",
       "74519     39.3342  -76.439722  \n",
       "74520     31.7586 -106.486389  \n",
       "74521     29.0336  -95.434167  \n",
       "74522     47.2531 -122.443056  \n",
       "74523     37.7086 -117.234722  \n",
       "74524     39.7589  -84.191667  \n",
       "74525     39.4736 -118.776389  \n",
       "74526     36.5483  -82.561944  \n",
       "74527     47.6064 -122.330833  \n",
       "74528     40.4164 -120.651944  \n",
       "74529     54.1167 -114.400000  \n",
       "75992     33.6669  -93.591389  \n",
       "75993     36.8656  -87.488611  \n",
       "75994     42.1017  -89.093157  \n",
       "76277     41.0264  -73.628889  \n",
       "79261     37.2267 -121.973611  \n",
       "79262     42.8864  -78.878611  \n",
       "79668     47.1042  -97.217778  \n",
       "80101     39.9522  -75.164167  \n",
       "80102     30.0858  -94.101667  \n",
       "80103     36.8467  -76.285556  \n",
       "\n",
       "[495 rows x 11 columns]"
      ]
     },
     "execution_count": 140,
     "metadata": {},
     "output_type": "execute_result"
    }
   ],
   "source": [
    "print(\"Sighting days of the unidentified flying object (ufo) between 1949-10-10 and 1960-10-10:\") \n",
    "selected_period = df[(df['Date_time'] >= '1950-01-01 00:00:00') & (df['Date_time'] <= '1960-12-31 23:59:59')] \n",
    "selected_period"
   ]
  },
  {
   "cell_type": "markdown",
   "metadata": {},
   "source": [
    "#### Q132. Write a Pandas program to extract the year, month, day, hour, minute, second, and weekday from unidentified flying object (UFO) reporting date."
   ]
  },
  {
   "cell_type": "code",
   "execution_count": 141,
   "metadata": {},
   "outputs": [
    {
     "name": "stdout",
     "output_type": "stream",
     "text": [
      "Year:\n",
      "0    1949\n",
      "1    1949\n",
      "2    1955\n",
      "3    1956\n",
      "4    1960\n",
      "Name: Date_time, dtype: int64\n",
      "\n",
      "Month:\n",
      "0    10\n",
      "1    10\n",
      "2    10\n",
      "3    10\n",
      "4    10\n",
      "Name: Date_time, dtype: int64\n",
      "\n",
      "Day:\n",
      "0    10\n",
      "1    10\n",
      "2    10\n",
      "3    10\n",
      "4    10\n",
      "Name: Date_time, dtype: int64\n",
      "\n",
      "Hour:\n",
      "0    20\n",
      "1    21\n",
      "2    17\n",
      "3    21\n",
      "4    20\n",
      "Name: Date_time, dtype: int64\n",
      "\n",
      "Minute:\n",
      "0    0\n",
      "1    0\n",
      "2    0\n",
      "3    0\n",
      "4    0\n",
      "Name: Date_time, dtype: int64\n",
      "\n",
      "Second:\n",
      "0    0\n",
      "1    0\n",
      "2    0\n",
      "3    0\n",
      "4    0\n",
      "Name: Date_time, dtype: int64\n",
      "\n",
      "Weekday:\n",
      "0       Monday\n",
      "1       Monday\n",
      "2       Monday\n",
      "3    Wednesday\n",
      "4       Monday\n",
      "Name: Date_time, dtype: object\n"
     ]
    }
   ],
   "source": [
    "print(\"Year:\") \n",
    "print(df.Date_time.dt.year.head())\n",
    "print(\"\\nMonth:\") \n",
    "print(df.Date_time.dt.month.head())\n",
    "print(\"\\nDay:\") \n",
    "print(df.Date_time.dt.day.head())\n",
    "print(\"\\nHour:\") \n",
    "print(df.Date_time.dt.hour.head())\n",
    "print(\"\\nMinute:\") \n",
    "print(df.Date_time.dt.minute.head())\n",
    "print(\"\\nSecond:\") \n",
    "print(df.Date_time.dt.second.head())\n",
    "print(\"\\nWeekday:\") \n",
    "print(df.Date_time.dt.weekday_name.head())"
   ]
  },
  {
   "cell_type": "markdown",
   "metadata": {},
   "source": [
    "#### Q133. Write a pandas program to count year-country wise frequency of reporting dates of the unidentified flying object(UFO)."
   ]
  },
  {
   "cell_type": "code",
   "execution_count": 143,
   "metadata": {},
   "outputs": [
    {
     "name": "stdout",
     "output_type": "stream",
     "text": [
      "Country-year wise frequency of reporting dates of UFO:\n",
      "Year  country\n",
      "1910  us            2\n",
      "1920  us            1\n",
      "1925  us            1\n",
      "1929  us            1\n",
      "1931  us            2\n",
      "1934  us            1\n",
      "1936  ca            1\n",
      "      us            1\n",
      "1937  us            2\n",
      "1939  us            3\n",
      "1941  us            1\n",
      "1942  us            2\n",
      "1943  gb            1\n",
      "      us            1\n",
      "1944  us            3\n",
      "1945  us            7\n",
      "1946  ca            1\n",
      "      us            8\n",
      "1947  us           33\n",
      "1948  us            7\n",
      "1949  us           15\n",
      "1950  us           21\n",
      "1951  ca            2\n",
      "      gb            1\n",
      "      us           13\n",
      "1952  ca            2\n",
      "      gb            1\n",
      "      us           37\n",
      "1953  ca            2\n",
      "      us           26\n",
      "                 ... \n",
      "2009  au           14\n",
      "      ca          134\n",
      "      de            6\n",
      "      gb          202\n",
      "      us         3678\n",
      "2010  au           16\n",
      "      ca          137\n",
      "      de            4\n",
      "      gb          115\n",
      "      us         3548\n",
      "2011  au           13\n",
      "      ca          127\n",
      "      de            3\n",
      "      gb           51\n",
      "      us         4379\n",
      "2012  au           19\n",
      "      ca          242\n",
      "      de            6\n",
      "      gb           82\n",
      "      us         6319\n",
      "2013  au           32\n",
      "      ca          248\n",
      "      de            6\n",
      "      gb           48\n",
      "      us         6057\n",
      "2014  au           14\n",
      "      ca           45\n",
      "      de            3\n",
      "      gb           21\n",
      "      us         1964\n",
      "Length: 282, dtype: int64\n"
     ]
    }
   ],
   "source": [
    "df['Year'] = df['Date_time'].apply(lambda x: \"%d\" % (x.year)) \n",
    "result = df.groupby(['Year', 'country']).size() \n",
    "print(\"Country-year wise frequency of reporting dates of UFO:\") \n",
    "print(result)"
   ]
  },
  {
   "cell_type": "markdown",
   "metadata": {},
   "source": [
    "#### Q134. Write a pandas program to get the difference (in days) between documented date and reporting date of unidentified flying object (UFO)."
   ]
  },
  {
   "cell_type": "code",
   "execution_count": 145,
   "metadata": {},
   "outputs": [
    {
     "name": "stderr",
     "output_type": "stream",
     "text": [
      "C:\\Users\\Dell\\Anaconda3\\lib\\site-packages\\IPython\\core\\interactiveshell.py:2717: DtypeWarning: Columns (5,9) have mixed types. Specify dtype option on import or set low_memory=False.\n",
      "  interactivity=interactivity, compiler=compiler, result=result)\n"
     ]
    },
    {
     "name": "stdout",
     "output_type": "stream",
     "text": [
      "Difference (in days) between documented date and reporting date of UFO:\n"
     ]
    },
    {
     "data": {
      "text/html": [
       "<div>\n",
       "<style>\n",
       "    .dataframe thead tr:only-child th {\n",
       "        text-align: right;\n",
       "    }\n",
       "\n",
       "    .dataframe thead th {\n",
       "        text-align: left;\n",
       "    }\n",
       "\n",
       "    .dataframe tbody tr th {\n",
       "        vertical-align: top;\n",
       "    }\n",
       "</style>\n",
       "<table border=\"1\" class=\"dataframe\">\n",
       "  <thead>\n",
       "    <tr style=\"text-align: right;\">\n",
       "      <th></th>\n",
       "      <th>Date_time</th>\n",
       "      <th>city</th>\n",
       "      <th>state/province</th>\n",
       "      <th>country</th>\n",
       "      <th>UFO_shape</th>\n",
       "      <th>length_of_encounter_seconds</th>\n",
       "      <th>described_duration_of_encounter</th>\n",
       "      <th>description</th>\n",
       "      <th>date_documented</th>\n",
       "      <th>latitude</th>\n",
       "      <th>longitude</th>\n",
       "      <th>Difference</th>\n",
       "    </tr>\n",
       "  </thead>\n",
       "  <tbody>\n",
       "    <tr>\n",
       "      <th>0</th>\n",
       "      <td>1949-10-10 20:00:00</td>\n",
       "      <td>san marcos</td>\n",
       "      <td>tx</td>\n",
       "      <td>us</td>\n",
       "      <td>cylinder</td>\n",
       "      <td>2700</td>\n",
       "      <td>45 minutes</td>\n",
       "      <td>This event took place in early fall around 194...</td>\n",
       "      <td>2004-04-27</td>\n",
       "      <td>29.8830556</td>\n",
       "      <td>-97.941111</td>\n",
       "      <td>19922</td>\n",
       "    </tr>\n",
       "    <tr>\n",
       "      <th>1</th>\n",
       "      <td>1949-10-10 21:00:00</td>\n",
       "      <td>lackland afb</td>\n",
       "      <td>tx</td>\n",
       "      <td>NaN</td>\n",
       "      <td>light</td>\n",
       "      <td>7200</td>\n",
       "      <td>1-2 hrs</td>\n",
       "      <td>1949 Lackland AFB&amp;#44 TX.  Lights racing acros...</td>\n",
       "      <td>2005-12-16</td>\n",
       "      <td>29.38421</td>\n",
       "      <td>-98.581082</td>\n",
       "      <td>20520</td>\n",
       "    </tr>\n",
       "    <tr>\n",
       "      <th>2</th>\n",
       "      <td>1955-10-10 17:00:00</td>\n",
       "      <td>chester (uk/england)</td>\n",
       "      <td>NaN</td>\n",
       "      <td>gb</td>\n",
       "      <td>circle</td>\n",
       "      <td>20</td>\n",
       "      <td>20 seconds</td>\n",
       "      <td>Green/Orange circular disc over Chester&amp;#44 En...</td>\n",
       "      <td>2008-01-21</td>\n",
       "      <td>53.2</td>\n",
       "      <td>-2.916667</td>\n",
       "      <td>19095</td>\n",
       "    </tr>\n",
       "    <tr>\n",
       "      <th>3</th>\n",
       "      <td>1956-10-10 21:00:00</td>\n",
       "      <td>edna</td>\n",
       "      <td>tx</td>\n",
       "      <td>us</td>\n",
       "      <td>circle</td>\n",
       "      <td>20</td>\n",
       "      <td>1/2 hour</td>\n",
       "      <td>My older brother and twin sister were leaving ...</td>\n",
       "      <td>2004-01-17</td>\n",
       "      <td>28.9783333</td>\n",
       "      <td>-96.645833</td>\n",
       "      <td>17264</td>\n",
       "    </tr>\n",
       "    <tr>\n",
       "      <th>4</th>\n",
       "      <td>1960-10-10 20:00:00</td>\n",
       "      <td>kaneohe</td>\n",
       "      <td>hi</td>\n",
       "      <td>us</td>\n",
       "      <td>light</td>\n",
       "      <td>900</td>\n",
       "      <td>15 minutes</td>\n",
       "      <td>AS a Marine 1st Lt. flying an FJ4B fighter/att...</td>\n",
       "      <td>2004-01-22</td>\n",
       "      <td>21.4180556</td>\n",
       "      <td>-157.803611</td>\n",
       "      <td>15808</td>\n",
       "    </tr>\n",
       "  </tbody>\n",
       "</table>\n",
       "</div>"
      ],
      "text/plain": [
       "            Date_time                  city state/province country UFO_shape  \\\n",
       "0 1949-10-10 20:00:00            san marcos             tx      us  cylinder   \n",
       "1 1949-10-10 21:00:00          lackland afb             tx     NaN     light   \n",
       "2 1955-10-10 17:00:00  chester (uk/england)            NaN      gb    circle   \n",
       "3 1956-10-10 21:00:00                  edna             tx      us    circle   \n",
       "4 1960-10-10 20:00:00               kaneohe             hi      us     light   \n",
       "\n",
       "  length_of_encounter_seconds described_duration_of_encounter  \\\n",
       "0                        2700                      45 minutes   \n",
       "1                        7200                         1-2 hrs   \n",
       "2                          20                      20 seconds   \n",
       "3                          20                        1/2 hour   \n",
       "4                         900                      15 minutes   \n",
       "\n",
       "                                         description date_documented  \\\n",
       "0  This event took place in early fall around 194...      2004-04-27   \n",
       "1  1949 Lackland AFB&#44 TX.  Lights racing acros...      2005-12-16   \n",
       "2  Green/Orange circular disc over Chester&#44 En...      2008-01-21   \n",
       "3  My older brother and twin sister were leaving ...      2004-01-17   \n",
       "4  AS a Marine 1st Lt. flying an FJ4B fighter/att...      2004-01-22   \n",
       "\n",
       "     latitude   longitude  Difference  \n",
       "0  29.8830556  -97.941111       19922  \n",
       "1    29.38421  -98.581082       20520  \n",
       "2        53.2   -2.916667       19095  \n",
       "3  28.9783333  -96.645833       17264  \n",
       "4  21.4180556 -157.803611       15808  "
      ]
     },
     "execution_count": 145,
     "metadata": {},
     "output_type": "execute_result"
    }
   ],
   "source": [
    "import pandas as pd\n",
    "from datetime import datetime\n",
    "df = pd.read_csv(r'E:\\ufo_sighting_data.csv')\n",
    "s = df['Date_time'].str.split()\n",
    "df['Date_time'] = pd.to_datetime(s.str[0]) + pd.to_timedelta(s.str[1].str.split(':').str[0] +' hours')\n",
    "df['date_documented'] = pd.to_datetime(df['date_documented'])\n",
    "print(\"Difference (in days) between documented date and reporting date of UFO:\") \n",
    "df['Difference'] = (df['date_documented'] - df['Date_time']).dt.days \n",
    "df.head()"
   ]
  },
  {
   "cell_type": "markdown",
   "metadata": {},
   "source": [
    "#### Q135. Write a pandas program to generate sequences of fixed- frequency dates and time spans."
   ]
  },
  {
   "cell_type": "code",
   "execution_count": 148,
   "metadata": {},
   "outputs": [
    {
     "name": "stdout",
     "output_type": "stream",
     "text": [
      "Hourly frequency:\n",
      "DatetimeIndex(['2018-01-01 00:00:00', '2018-01-01 01:00:00',\n",
      "               '2018-01-01 02:00:00', '2018-01-01 03:00:00',\n",
      "               '2018-01-01 04:00:00', '2018-01-01 05:00:00',\n",
      "               '2018-01-01 06:00:00', '2018-01-01 07:00:00',\n",
      "               '2018-01-01 08:00:00', '2018-01-01 09:00:00',\n",
      "               '2018-01-01 10:00:00', '2018-01-01 11:00:00'],\n",
      "              dtype='datetime64[ns]', freq='H')\n",
      "\n",
      "Minutely frequency:\n",
      "DatetimeIndex(['2018-01-01 00:00:00', '2018-01-01 00:01:00',\n",
      "               '2018-01-01 00:02:00', '2018-01-01 00:03:00',\n",
      "               '2018-01-01 00:04:00', '2018-01-01 00:05:00',\n",
      "               '2018-01-01 00:06:00', '2018-01-01 00:07:00',\n",
      "               '2018-01-01 00:08:00', '2018-01-01 00:09:00',\n",
      "               '2018-01-01 00:10:00', '2018-01-01 00:11:00'],\n",
      "              dtype='datetime64[ns]', freq='T')\n",
      "\n",
      "Secondly frequency:\n",
      "DatetimeIndex(['2018-01-01 00:00:00', '2018-01-01 00:00:01',\n",
      "               '2018-01-01 00:00:02', '2018-01-01 00:00:03',\n",
      "               '2018-01-01 00:00:04', '2018-01-01 00:00:05',\n",
      "               '2018-01-01 00:00:06', '2018-01-01 00:00:07',\n",
      "               '2018-01-01 00:00:08', '2018-01-01 00:00:09',\n",
      "               '2018-01-01 00:00:10', '2018-01-01 00:00:11'],\n",
      "              dtype='datetime64[ns]', freq='S')\n",
      "\n",
      "Multiple Hourly frequency:\n",
      "DatetimeIndex(['2018-01-01 00:00:00', '2018-01-01 02:00:00',\n",
      "               '2018-01-01 04:00:00', '2018-01-01 06:00:00',\n",
      "               '2018-01-01 08:00:00', '2018-01-01 10:00:00',\n",
      "               '2018-01-01 12:00:00', '2018-01-01 14:00:00',\n",
      "               '2018-01-01 16:00:00', '2018-01-01 18:00:00',\n",
      "               '2018-01-01 20:00:00', '2018-01-01 22:00:00'],\n",
      "              dtype='datetime64[ns]', freq='2H')\n",
      "\n",
      "Multiple Minutely frequency:\n",
      "DatetimeIndex(['2018-01-01 00:00:00', '2018-01-01 00:05:00',\n",
      "               '2018-01-01 00:10:00', '2018-01-01 00:15:00',\n",
      "               '2018-01-01 00:20:00', '2018-01-01 00:25:00',\n",
      "               '2018-01-01 00:30:00', '2018-01-01 00:35:00',\n",
      "               '2018-01-01 00:40:00', '2018-01-01 00:45:00',\n",
      "               '2018-01-01 00:50:00', '2018-01-01 00:55:00'],\n",
      "              dtype='datetime64[ns]', freq='5T')\n",
      "\n",
      "Multiple Secondly frequency:\n",
      "DatetimeIndex(['2018-03-30', '2018-06-29', '2018-09-28', '2018-12-31',\n",
      "               '2019-03-29', '2019-06-28', '2019-09-30', '2019-12-31',\n",
      "               '2020-03-31', '2020-06-30', '2020-09-30', '2020-12-31'],\n",
      "              dtype='datetime64[ns]', freq='BQ-DEC')\n",
      "\n",
      "Weekly frequency:\n",
      "DatetimeIndex(['2018-01-07', '2018-01-14', '2018-01-21', '2018-01-28',\n",
      "               '2018-02-04', '2018-02-11', '2018-02-18', '2018-02-25',\n",
      "               '2018-03-04', '2018-03-11', '2018-03-18', '2018-03-25'],\n",
      "              dtype='datetime64[ns]', freq='W-SUN')\n",
      "\n",
      "Combine together day and intraday offsets-1:\n",
      "DatetimeIndex(['2018-01-01 00:00:00', '2018-01-01 02:20:00',\n",
      "               '2018-01-01 04:40:00', '2018-01-01 07:00:00',\n",
      "               '2018-01-01 09:20:00', '2018-01-01 11:40:00',\n",
      "               '2018-01-01 14:00:00', '2018-01-01 16:20:00',\n",
      "               '2018-01-01 18:40:00', '2018-01-01 21:00:00',\n",
      "               '2018-01-01 23:20:00', '2018-01-02 01:40:00'],\n",
      "              dtype='datetime64[ns]', freq='140T')\n",
      "\n",
      "Combine together day and intraday offsets-2:\n",
      "DatetimeIndex([       '2018-01-01 00:00:00', '2018-01-02 00:00:00.000010',\n",
      "               '2018-01-03 00:00:00.000020', '2018-01-04 00:00:00.000030',\n",
      "               '2018-01-05 00:00:00.000040', '2018-01-06 00:00:00.000050',\n",
      "               '2018-01-07 00:00:00.000060', '2018-01-08 00:00:00.000070',\n",
      "               '2018-01-09 00:00:00.000080', '2018-01-10 00:00:00.000090',\n",
      "               '2018-01-11 00:00:00.000100', '2018-01-12 00:00:00.000110'],\n",
      "              dtype='datetime64[ns]', freq='86400000010U')\n"
     ]
    }
   ],
   "source": [
    "import pandas as pd\n",
    "dtr = pd.date_range('2018-01-01', periods=12, freq='H')\n",
    "print(\"Hourly frequency:\") \n",
    "print(dtr) \n",
    "dtr = pd.date_range('2018-01-01', periods=12, freq='min')\n",
    "print(\"\\nMinutely frequency:\") \n",
    "print(dtr) \n",
    "dtr = pd.date_range('2018-01-01', periods=12, freq='S')\n",
    "print(\"\\nSecondly frequency:\") \n",
    "print(dtr) \n",
    "dtr = pd.date_range('2018-01-01', periods=12, freq='2H')\n",
    "print(\"\\nMultiple Hourly frequency:\") \n",
    "print(dtr) \n",
    "dtr = pd.date_range('2018-01-01', periods=12, freq='5min')\n",
    "print(\"\\nMultiple Minutely frequency:\") \n",
    "print(dtr) \n",
    "dtr = pd.date_range('2018-01-01', periods=12, freq='BQ')\n",
    "print(\"\\nMultiple Secondly frequency:\") \n",
    "print(dtr) \n",
    "dtr = pd.date_range('2018-01-01', periods=12, freq='w')\n",
    "print(\"\\nWeekly frequency:\") \n",
    "print(dtr) \n",
    "dtr = pd.date_range('2018-01-01', periods=12, freq='2h20min')\n",
    "print(\"\\nCombine together day and intraday offsets-1:\") \n",
    "print(dtr) \n",
    "dtr = pd.date_range('2018-01-01', periods=12, freq='1D10U')\n",
    "print(\"\\nCombine together day and intraday offsets-2:\") \n",
    "print(dtr)"
   ]
  },
  {
   "cell_type": "markdown",
   "metadata": {},
   "source": [
    "#### Q136. Write a pandas program to manipulate and convert date times with timezone information."
   ]
  },
  {
   "cell_type": "code",
   "execution_count": 116,
   "metadata": {},
   "outputs": [
    {
     "name": "stdout",
     "output_type": "stream",
     "text": [
      "DatetimeIndex(['2018-01-01 00:00:00+00:00', '2018-01-01 01:00:00+00:00',\n",
      "               '2018-01-01 02:00:00+00:00'],\n",
      "              dtype='datetime64[ns, UTC]', freq='H')\n",
      "\n",
      "From UTC to America/Los_Angeles:\n",
      "DatetimeIndex(['2017-12-31 16:00:00-08:00', '2017-12-31 17:00:00-08:00',\n",
      "               '2017-12-31 18:00:00-08:00'],\n",
      "              dtype='datetime64[ns, America/Los_Angeles]', freq='H')\n"
     ]
    }
   ],
   "source": [
    "import pandas as pd \n",
    "dtt = pd.date_range('2018-01-01', periods=3, freq='H') \n",
    "dtt = dtt.tz_localize('UTC') \n",
    "print(dtt)\n",
    "print(\"\\nFrom UTC to America/Los_Angeles:\") \n",
    "dtt = dtt.tz_convert('America/Los_Angeles') \n",
    "print(dtt)"
   ]
  },
  {
   "cell_type": "markdown",
   "metadata": {},
   "source": [
    "#### Q137. Write a pandas program to create the graphical analysis of UFO (unidentified flying object) Sightings year."
   ]
  },
  {
   "cell_type": "code",
   "execution_count": 152,
   "metadata": {},
   "outputs": [
    {
     "name": "stderr",
     "output_type": "stream",
     "text": [
      "C:\\Users\\Dell\\Anaconda3\\lib\\site-packages\\IPython\\core\\interactiveshell.py:2717: DtypeWarning: Columns (5,9) have mixed types. Specify dtype option on import or set low_memory=False.\n",
      "  interactivity=interactivity, compiler=compiler, result=result)\n"
     ]
    },
    {
     "data": {
      "image/png": "[encoded data removed]",
      "text/plain": [
       "<matplotlib.figure.Figure at 0x19658f41e48>"
      ]
     },
     "metadata": {},
     "output_type": "display_data"
    },
    {
     "data": {
      "image/png": "[encoded data removed]",
      "text/plain": [
       "<matplotlib.figure.Figure at 0x196562f7cc0>"
      ]
     },
     "metadata": {},
     "output_type": "display_data"
    },
    {
     "data": {
      "image/png": "[encoded data removed]",
      "text/plain": [
       "<matplotlib.figure.Figure at 0x1964fb68da0>"
      ]
     },
     "metadata": {},
     "output_type": "display_data"
    },
    {
     "data": {
      "image/png": "[encoded data removed]",
      "text/plain": [
       "<matplotlib.figure.Figure at 0x1965a5f7b00>"
      ]
     },
     "metadata": {},
     "output_type": "display_data"
    }
   ],
   "source": [
    "import pandas as pd \n",
    "import matplotlib.pyplot as plt \n",
    "import seaborn as sns\n",
    "from datetime import datetime\n",
    "df = pd.read_csv(r'E:\\ufo_sighting_data.csv')\n",
    "s = df['Date_time'].str.split()\n",
    "df['Date_time'] = pd.to_datetime(s.str[0]) + pd.to_timedelta(s.str[1].str.split(':').str[0] +' hours')\n",
    "df[\"ufo_yr\"] = df.Date_time.dt.year \n",
    "years_data = df.ufo_yr.value_counts() \n",
    "years_index = years_data.index \n",
    "years_values = years_data.get_values() \n",
    "plt.figure(figsize=(15,8)) \n",
    "plt.xticks(rotation = 60)\n",
    "plt.title('UFO Sightings by Year') \n",
    "plt.xlabel(\"Year\") \n",
    "plt.ylabel(\"Number of reports\") \n",
    "years_plot = sns.barplot(x=years_index[:60],y=years_values[:60], palette = \"Reds\")\n",
    "plt.show()"
   ]
  },
  {
   "cell_type": "markdown",
   "metadata": {},
   "source": [
    "### Q138. Write a pandas program to create a comparison of the top 10 years in which the (UFO) was sighted VS each Month."
   ]
  },
  {
   "cell_type": "code",
   "execution_count": 153,
   "metadata": {},
   "outputs": [
    {
     "name": "stderr",
     "output_type": "stream",
     "text": [
      "C:\\Users\\Dell\\Anaconda3\\lib\\site-packages\\IPython\\core\\interactiveshell.py:2717: DtypeWarning: Columns (5,9) have mixed types. Specify dtype option on import or set low_memory=False.\n",
      "  interactivity=interactivity, compiler=compiler, result=result)\n"
     ]
    },
    {
     "ename": "KeyError",
     "evalue": "'Level Date_time not found'",
     "output_type": "error",
     "traceback": [
      "\u001b[1;31m---------------------------------------------------------------------------\u001b[0m",
      "\u001b[1;31mValueError\u001b[0m                                Traceback (most recent call last)",
      "\u001b[1;32mC:\\Users\\Dell\\Anaconda3\\lib\\site-packages\\pandas\\core\\indexes\\multi.py\u001b[0m in \u001b[0;36m_get_level_number\u001b[1;34m(self, level)\u001b[0m\n\u001b[0;32m    609\u001b[0m                 raise ValueError('The name %s occurs multiple times, use a '\n\u001b[1;32m--> 610\u001b[1;33m                                  'level number' % level)\n\u001b[0m\u001b[0;32m    611\u001b[0m             \u001b[0mlevel\u001b[0m \u001b[1;33m=\u001b[0m \u001b[0mself\u001b[0m\u001b[1;33m.\u001b[0m\u001b[0mnames\u001b[0m\u001b[1;33m.\u001b[0m\u001b[0mindex\u001b[0m\u001b[1;33m(\u001b[0m\u001b[0mlevel\u001b[0m\u001b[1;33m)\u001b[0m\u001b[1;33m\u001b[0m\u001b[0m\n",
      "\u001b[1;31mValueError\u001b[0m: The name Date_time occurs multiple times, use a level number",
      "\nDuring handling of the above exception, another exception occurred:\n",
      "\u001b[1;31mKeyError\u001b[0m                                  Traceback (most recent call last)",
      "\u001b[1;32m<ipython-input-153-04f8343240ea>\u001b[0m in \u001b[0;36m<module>\u001b[1;34m()\u001b[0m\n\u001b[0;32m      8\u001b[0m     \u001b[1;32mif\u001b[0m \u001b[0myear\u001b[0m \u001b[1;32min\u001b[0m \u001b[0mmost_sightings_years\u001b[0m\u001b[1;33m.\u001b[0m\u001b[0mindex\u001b[0m\u001b[1;33m:\u001b[0m\u001b[1;33m\u001b[0m\u001b[0m\n\u001b[0;32m      9\u001b[0m         \u001b[1;32mreturn\u001b[0m \u001b[0myear\u001b[0m\u001b[1;33m\u001b[0m\u001b[0m\n\u001b[1;32m---> 10\u001b[1;33m \u001b[0mmonth_vs_year\u001b[0m \u001b[1;33m=\u001b[0m \u001b[0mdf\u001b[0m\u001b[1;33m.\u001b[0m\u001b[0mpivot_table\u001b[0m\u001b[1;33m(\u001b[0m\u001b[0mcolumns\u001b[0m\u001b[1;33m=\u001b[0m\u001b[0mdf\u001b[0m\u001b[1;33m[\u001b[0m\u001b[1;34m'Date_time'\u001b[0m\u001b[1;33m]\u001b[0m\u001b[1;33m.\u001b[0m\u001b[0mdt\u001b[0m\u001b[1;33m.\u001b[0m\u001b[0mmonth\u001b[0m\u001b[1;33m,\u001b[0m\u001b[0mindex\u001b[0m\u001b[1;33m=\u001b[0m\u001b[0mdf\u001b[0m\u001b[1;33m[\u001b[0m\u001b[1;34m'Date_time'\u001b[0m\u001b[1;33m]\u001b[0m\u001b[1;33m.\u001b[0m\u001b[0mdt\u001b[0m\u001b[1;33m.\u001b[0m\u001b[0myear\u001b[0m\u001b[1;33m.\u001b[0m\u001b[0mapply\u001b[0m\u001b[1;33m(\u001b[0m\u001b[0mis_top_years\u001b[0m\u001b[1;33m)\u001b[0m\u001b[1;33m,\u001b[0m\u001b[0maggfunc\u001b[0m\u001b[1;33m=\u001b[0m\u001b[1;34m'count'\u001b[0m\u001b[1;33m,\u001b[0m\u001b[0mvalues\u001b[0m\u001b[1;33m=\u001b[0m\u001b[1;34m'city'\u001b[0m\u001b[1;33m)\u001b[0m\u001b[1;33m\u001b[0m\u001b[0m\n\u001b[0m\u001b[0;32m     11\u001b[0m \u001b[0mmonth_vs_year\u001b[0m\u001b[1;33m.\u001b[0m\u001b[0mindex\u001b[0m \u001b[1;33m=\u001b[0m \u001b[0mmonth_vs_year\u001b[0m\u001b[1;33m.\u001b[0m\u001b[0mindex\u001b[0m\u001b[1;33m.\u001b[0m\u001b[0mastype\u001b[0m\u001b[1;33m(\u001b[0m\u001b[0mint\u001b[0m\u001b[1;33m)\u001b[0m\u001b[1;33m\u001b[0m\u001b[0m\n\u001b[0;32m     12\u001b[0m \u001b[0mmonth_vs_year\u001b[0m\u001b[1;33m.\u001b[0m\u001b[0mcolumns\u001b[0m \u001b[1;33m=\u001b[0m \u001b[0mmonth_vs_year\u001b[0m\u001b[1;33m.\u001b[0m\u001b[0mcolumns\u001b[0m\u001b[1;33m.\u001b[0m\u001b[0mastype\u001b[0m\u001b[1;33m(\u001b[0m\u001b[0mint\u001b[0m\u001b[1;33m)\u001b[0m\u001b[1;33m\u001b[0m\u001b[0m\n",
      "\u001b[1;32mC:\\Users\\Dell\\Anaconda3\\lib\\site-packages\\pandas\\core\\reshape\\pivot.py\u001b[0m in \u001b[0;36mpivot_table\u001b[1;34m(data, values, index, columns, aggfunc, fill_value, margins, dropna, margins_name)\u001b[0m\n\u001b[0;32m    140\u001b[0m         to_unstack = [agged.index.names[i] or i\n\u001b[0;32m    141\u001b[0m                       for i in range(len(index), len(keys))]\n\u001b[1;32m--> 142\u001b[1;33m         \u001b[0mtable\u001b[0m \u001b[1;33m=\u001b[0m \u001b[0magged\u001b[0m\u001b[1;33m.\u001b[0m\u001b[0munstack\u001b[0m\u001b[1;33m(\u001b[0m\u001b[0mto_unstack\u001b[0m\u001b[1;33m)\u001b[0m\u001b[1;33m\u001b[0m\u001b[0m\n\u001b[0m\u001b[0;32m    143\u001b[0m \u001b[1;33m\u001b[0m\u001b[0m\n\u001b[0;32m    144\u001b[0m     \u001b[1;32mif\u001b[0m \u001b[1;32mnot\u001b[0m \u001b[0mdropna\u001b[0m\u001b[1;33m:\u001b[0m\u001b[1;33m\u001b[0m\u001b[0m\n",
      "\u001b[1;32mC:\\Users\\Dell\\Anaconda3\\lib\\site-packages\\pandas\\core\\frame.py\u001b[0m in \u001b[0;36munstack\u001b[1;34m(self, level, fill_value)\u001b[0m\n\u001b[0;32m   4050\u001b[0m         \"\"\"\n\u001b[0;32m   4051\u001b[0m         \u001b[1;32mfrom\u001b[0m \u001b[0mpandas\u001b[0m\u001b[1;33m.\u001b[0m\u001b[0mcore\u001b[0m\u001b[1;33m.\u001b[0m\u001b[0mreshape\u001b[0m\u001b[1;33m.\u001b[0m\u001b[0mreshape\u001b[0m \u001b[1;32mimport\u001b[0m \u001b[0munstack\u001b[0m\u001b[1;33m\u001b[0m\u001b[0m\n\u001b[1;32m-> 4052\u001b[1;33m         \u001b[1;32mreturn\u001b[0m \u001b[0munstack\u001b[0m\u001b[1;33m(\u001b[0m\u001b[0mself\u001b[0m\u001b[1;33m,\u001b[0m \u001b[0mlevel\u001b[0m\u001b[1;33m,\u001b[0m \u001b[0mfill_value\u001b[0m\u001b[1;33m)\u001b[0m\u001b[1;33m\u001b[0m\u001b[0m\n\u001b[0m\u001b[0;32m   4053\u001b[0m \u001b[1;33m\u001b[0m\u001b[0m\n\u001b[0;32m   4054\u001b[0m     _shared_docs['melt'] = (\"\"\"\n",
      "\u001b[1;32mC:\\Users\\Dell\\Anaconda3\\lib\\site-packages\\pandas\\core\\reshape\\reshape.py\u001b[0m in \u001b[0;36munstack\u001b[1;34m(obj, level, fill_value)\u001b[0m\n\u001b[0;32m    447\u001b[0m \u001b[1;32mdef\u001b[0m \u001b[0munstack\u001b[0m\u001b[1;33m(\u001b[0m\u001b[0mobj\u001b[0m\u001b[1;33m,\u001b[0m \u001b[0mlevel\u001b[0m\u001b[1;33m,\u001b[0m \u001b[0mfill_value\u001b[0m\u001b[1;33m=\u001b[0m\u001b[1;32mNone\u001b[0m\u001b[1;33m)\u001b[0m\u001b[1;33m:\u001b[0m\u001b[1;33m\u001b[0m\u001b[0m\n\u001b[0;32m    448\u001b[0m     \u001b[1;32mif\u001b[0m \u001b[0misinstance\u001b[0m\u001b[1;33m(\u001b[0m\u001b[0mlevel\u001b[0m\u001b[1;33m,\u001b[0m \u001b[1;33m(\u001b[0m\u001b[0mtuple\u001b[0m\u001b[1;33m,\u001b[0m \u001b[0mlist\u001b[0m\u001b[1;33m)\u001b[0m\u001b[1;33m)\u001b[0m\u001b[1;33m:\u001b[0m\u001b[1;33m\u001b[0m\u001b[0m\n\u001b[1;32m--> 449\u001b[1;33m         \u001b[1;32mreturn\u001b[0m \u001b[0m_unstack_multiple\u001b[0m\u001b[1;33m(\u001b[0m\u001b[0mobj\u001b[0m\u001b[1;33m,\u001b[0m \u001b[0mlevel\u001b[0m\u001b[1;33m)\u001b[0m\u001b[1;33m\u001b[0m\u001b[0m\n\u001b[0m\u001b[0;32m    450\u001b[0m \u001b[1;33m\u001b[0m\u001b[0m\n\u001b[0;32m    451\u001b[0m     \u001b[1;32mif\u001b[0m \u001b[0misinstance\u001b[0m\u001b[1;33m(\u001b[0m\u001b[0mobj\u001b[0m\u001b[1;33m,\u001b[0m \u001b[0mDataFrame\u001b[0m\u001b[1;33m)\u001b[0m\u001b[1;33m:\u001b[0m\u001b[1;33m\u001b[0m\u001b[0m\n",
      "\u001b[1;32mC:\\Users\\Dell\\Anaconda3\\lib\\site-packages\\pandas\\core\\reshape\\reshape.py\u001b[0m in \u001b[0;36m_unstack_multiple\u001b[1;34m(data, clocs)\u001b[0m\n\u001b[0;32m    294\u001b[0m     \u001b[0mindex\u001b[0m \u001b[1;33m=\u001b[0m \u001b[0mdata\u001b[0m\u001b[1;33m.\u001b[0m\u001b[0mindex\u001b[0m\u001b[1;33m\u001b[0m\u001b[0m\n\u001b[0;32m    295\u001b[0m \u001b[1;33m\u001b[0m\u001b[0m\n\u001b[1;32m--> 296\u001b[1;33m     \u001b[0mclocs\u001b[0m \u001b[1;33m=\u001b[0m \u001b[1;33m[\u001b[0m\u001b[0mindex\u001b[0m\u001b[1;33m.\u001b[0m\u001b[0m_get_level_number\u001b[0m\u001b[1;33m(\u001b[0m\u001b[0mi\u001b[0m\u001b[1;33m)\u001b[0m \u001b[1;32mfor\u001b[0m \u001b[0mi\u001b[0m \u001b[1;32min\u001b[0m \u001b[0mclocs\u001b[0m\u001b[1;33m]\u001b[0m\u001b[1;33m\u001b[0m\u001b[0m\n\u001b[0m\u001b[0;32m    297\u001b[0m \u001b[1;33m\u001b[0m\u001b[0m\n\u001b[0;32m    298\u001b[0m     \u001b[0mrlocs\u001b[0m \u001b[1;33m=\u001b[0m \u001b[1;33m[\u001b[0m\u001b[0mi\u001b[0m \u001b[1;32mfor\u001b[0m \u001b[0mi\u001b[0m \u001b[1;32min\u001b[0m \u001b[0mrange\u001b[0m\u001b[1;33m(\u001b[0m\u001b[0mindex\u001b[0m\u001b[1;33m.\u001b[0m\u001b[0mnlevels\u001b[0m\u001b[1;33m)\u001b[0m \u001b[1;32mif\u001b[0m \u001b[0mi\u001b[0m \u001b[1;32mnot\u001b[0m \u001b[1;32min\u001b[0m \u001b[0mclocs\u001b[0m\u001b[1;33m]\u001b[0m\u001b[1;33m\u001b[0m\u001b[0m\n",
      "\u001b[1;32mC:\\Users\\Dell\\Anaconda3\\lib\\site-packages\\pandas\\core\\reshape\\reshape.py\u001b[0m in \u001b[0;36m<listcomp>\u001b[1;34m(.0)\u001b[0m\n\u001b[0;32m    294\u001b[0m     \u001b[0mindex\u001b[0m \u001b[1;33m=\u001b[0m \u001b[0mdata\u001b[0m\u001b[1;33m.\u001b[0m\u001b[0mindex\u001b[0m\u001b[1;33m\u001b[0m\u001b[0m\n\u001b[0;32m    295\u001b[0m \u001b[1;33m\u001b[0m\u001b[0m\n\u001b[1;32m--> 296\u001b[1;33m     \u001b[0mclocs\u001b[0m \u001b[1;33m=\u001b[0m \u001b[1;33m[\u001b[0m\u001b[0mindex\u001b[0m\u001b[1;33m.\u001b[0m\u001b[0m_get_level_number\u001b[0m\u001b[1;33m(\u001b[0m\u001b[0mi\u001b[0m\u001b[1;33m)\u001b[0m \u001b[1;32mfor\u001b[0m \u001b[0mi\u001b[0m \u001b[1;32min\u001b[0m \u001b[0mclocs\u001b[0m\u001b[1;33m]\u001b[0m\u001b[1;33m\u001b[0m\u001b[0m\n\u001b[0m\u001b[0;32m    297\u001b[0m \u001b[1;33m\u001b[0m\u001b[0m\n\u001b[0;32m    298\u001b[0m     \u001b[0mrlocs\u001b[0m \u001b[1;33m=\u001b[0m \u001b[1;33m[\u001b[0m\u001b[0mi\u001b[0m \u001b[1;32mfor\u001b[0m \u001b[0mi\u001b[0m \u001b[1;32min\u001b[0m \u001b[0mrange\u001b[0m\u001b[1;33m(\u001b[0m\u001b[0mindex\u001b[0m\u001b[1;33m.\u001b[0m\u001b[0mnlevels\u001b[0m\u001b[1;33m)\u001b[0m \u001b[1;32mif\u001b[0m \u001b[0mi\u001b[0m \u001b[1;32mnot\u001b[0m \u001b[1;32min\u001b[0m \u001b[0mclocs\u001b[0m\u001b[1;33m]\u001b[0m\u001b[1;33m\u001b[0m\u001b[0m\n",
      "\u001b[1;32mC:\\Users\\Dell\\Anaconda3\\lib\\site-packages\\pandas\\core\\indexes\\multi.py\u001b[0m in \u001b[0;36m_get_level_number\u001b[1;34m(self, level)\u001b[0m\n\u001b[0;32m    612\u001b[0m         \u001b[1;32mexcept\u001b[0m \u001b[0mValueError\u001b[0m\u001b[1;33m:\u001b[0m\u001b[1;33m\u001b[0m\u001b[0m\n\u001b[0;32m    613\u001b[0m             \u001b[1;32mif\u001b[0m \u001b[1;32mnot\u001b[0m \u001b[0misinstance\u001b[0m\u001b[1;33m(\u001b[0m\u001b[0mlevel\u001b[0m\u001b[1;33m,\u001b[0m \u001b[0mint\u001b[0m\u001b[1;33m)\u001b[0m\u001b[1;33m:\u001b[0m\u001b[1;33m\u001b[0m\u001b[0m\n\u001b[1;32m--> 614\u001b[1;33m                 \u001b[1;32mraise\u001b[0m \u001b[0mKeyError\u001b[0m\u001b[1;33m(\u001b[0m\u001b[1;34m'Level %s not found'\u001b[0m \u001b[1;33m%\u001b[0m \u001b[0mstr\u001b[0m\u001b[1;33m(\u001b[0m\u001b[0mlevel\u001b[0m\u001b[1;33m)\u001b[0m\u001b[1;33m)\u001b[0m\u001b[1;33m\u001b[0m\u001b[0m\n\u001b[0m\u001b[0;32m    615\u001b[0m             \u001b[1;32melif\u001b[0m \u001b[0mlevel\u001b[0m \u001b[1;33m<\u001b[0m \u001b[1;36m0\u001b[0m\u001b[1;33m:\u001b[0m\u001b[1;33m\u001b[0m\u001b[0m\n\u001b[0;32m    616\u001b[0m                 \u001b[0mlevel\u001b[0m \u001b[1;33m+=\u001b[0m \u001b[0mself\u001b[0m\u001b[1;33m.\u001b[0m\u001b[0mnlevels\u001b[0m\u001b[1;33m\u001b[0m\u001b[0m\n",
      "\u001b[1;31mKeyError\u001b[0m: 'Level Date_time not found'"
     ]
    }
   ],
   "source": [
    "import pandas as pd \n",
    "from datetime import datetime\n",
    "df = pd.read_csv(r'E:\\ufo_sighting_data.csv')\n",
    "s = df['Date_time'].str.split()\n",
    "df['Date_time'] = pd.to_datetime(s.str[0]) + pd.to_timedelta(s.str[1].str.split(':').str[0] +' hours')\n",
    "most_sightings_years = df['Date_time'].dt.year.value_counts().head(10) \n",
    "def is_top_years(year): \n",
    "    if year in most_sightings_years.index:\n",
    "        return year \n",
    "month_vs_year = df.pivot_table(columns=df['Date_time'].dt.month,index=df['Date_time'].dt.year.apply(is_top_years),aggfunc='count',values='city') \n",
    "month_vs_year.index = month_vs_year.index.astype(int) \n",
    "month_vs_year.columns = month_vs_year.columns.astype(int)\n",
    "print(\"\\nComparison of the top 10 years in which the UFO was sighted vs each month:\") \n",
    "print(month_vs_year.head(10))"
   ]
  },
  {
   "cell_type": "markdown",
   "metadata": {},
   "source": [
    "### Q139. Write a pandas program to create a heatmap (rectangular data as a colour-encoded matrix) for comparison of top 10 years in which (UFO ) was sighted VS each Month."
   ]
  },
  {
   "cell_type": "code",
   "execution_count": 156,
   "metadata": {},
   "outputs": [
    {
     "name": "stderr",
     "output_type": "stream",
     "text": [
      "C:\\Users\\Dell\\Anaconda3\\lib\\site-packages\\IPython\\core\\interactiveshell.py:2717: DtypeWarning: Columns (5,9) have mixed types. Specify dtype option on import or set low_memory=False.\n",
      "  interactivity=interactivity, compiler=compiler, result=result)\n"
     ]
    },
    {
     "ename": "KeyError",
     "evalue": "'Level Date_time not found'",
     "output_type": "error",
     "traceback": [
      "\u001b[1;31m---------------------------------------------------------------------------\u001b[0m",
      "\u001b[1;31mValueError\u001b[0m                                Traceback (most recent call last)",
      "\u001b[1;32mC:\\Users\\Dell\\Anaconda3\\lib\\site-packages\\pandas\\core\\indexes\\multi.py\u001b[0m in \u001b[0;36m_get_level_number\u001b[1;34m(self, level)\u001b[0m\n\u001b[0;32m    609\u001b[0m                 raise ValueError('The name %s occurs multiple times, use a '\n\u001b[1;32m--> 610\u001b[1;33m                                  'level number' % level)\n\u001b[0m\u001b[0;32m    611\u001b[0m             \u001b[0mlevel\u001b[0m \u001b[1;33m=\u001b[0m \u001b[0mself\u001b[0m\u001b[1;33m.\u001b[0m\u001b[0mnames\u001b[0m\u001b[1;33m.\u001b[0m\u001b[0mindex\u001b[0m\u001b[1;33m(\u001b[0m\u001b[0mlevel\u001b[0m\u001b[1;33m)\u001b[0m\u001b[1;33m\u001b[0m\u001b[0m\n",
      "\u001b[1;31mValueError\u001b[0m: The name Date_time occurs multiple times, use a level number",
      "\nDuring handling of the above exception, another exception occurred:\n",
      "\u001b[1;31mKeyError\u001b[0m                                  Traceback (most recent call last)",
      "\u001b[1;32m<ipython-input-156-2ef8e5ba4c7f>\u001b[0m in \u001b[0;36m<module>\u001b[1;34m()\u001b[0m\n\u001b[0;32m      9\u001b[0m     \u001b[1;32mif\u001b[0m \u001b[0myear\u001b[0m \u001b[1;32min\u001b[0m \u001b[0mmost_sightings_years\u001b[0m\u001b[1;33m.\u001b[0m\u001b[0mindex\u001b[0m\u001b[1;33m:\u001b[0m\u001b[1;33m\u001b[0m\u001b[0m\n\u001b[0;32m     10\u001b[0m         \u001b[1;32mreturn\u001b[0m \u001b[0myear\u001b[0m\u001b[1;33m\u001b[0m\u001b[0m\n\u001b[1;32m---> 11\u001b[1;33m \u001b[0mmonth_vs_year\u001b[0m \u001b[1;33m=\u001b[0m \u001b[0mdf\u001b[0m\u001b[1;33m.\u001b[0m\u001b[0mpivot_table\u001b[0m\u001b[1;33m(\u001b[0m\u001b[0mcolumns\u001b[0m\u001b[1;33m=\u001b[0m\u001b[0mdf\u001b[0m\u001b[1;33m[\u001b[0m\u001b[1;34m'Date_time'\u001b[0m\u001b[1;33m]\u001b[0m\u001b[1;33m.\u001b[0m\u001b[0mdt\u001b[0m\u001b[1;33m.\u001b[0m\u001b[0mmonth\u001b[0m\u001b[1;33m,\u001b[0m\u001b[0mindex\u001b[0m\u001b[1;33m=\u001b[0m\u001b[0mdf\u001b[0m\u001b[1;33m[\u001b[0m\u001b[1;34m'Date_time'\u001b[0m\u001b[1;33m]\u001b[0m\u001b[1;33m.\u001b[0m\u001b[0mdt\u001b[0m\u001b[1;33m.\u001b[0m\u001b[0myear\u001b[0m\u001b[1;33m.\u001b[0m\u001b[0mapply\u001b[0m\u001b[1;33m(\u001b[0m\u001b[0mis_top_years\u001b[0m\u001b[1;33m)\u001b[0m\u001b[1;33m,\u001b[0m\u001b[0maggfunc\u001b[0m\u001b[1;33m=\u001b[0m\u001b[1;34m'count'\u001b[0m\u001b[1;33m,\u001b[0m\u001b[0mvalues\u001b[0m\u001b[1;33m=\u001b[0m\u001b[1;34m'city'\u001b[0m\u001b[1;33m)\u001b[0m\u001b[1;33m\u001b[0m\u001b[0m\n\u001b[0m\u001b[0;32m     12\u001b[0m \u001b[0mmonth_vs_year\u001b[0m\u001b[1;33m.\u001b[0m\u001b[0mcolumns\u001b[0m \u001b[1;33m=\u001b[0m \u001b[0mmonth_vs_year\u001b[0m\u001b[1;33m.\u001b[0m\u001b[0mcolumns\u001b[0m\u001b[1;33m.\u001b[0m\u001b[0mastype\u001b[0m\u001b[1;33m(\u001b[0m\u001b[0mint\u001b[0m\u001b[1;33m)\u001b[0m\u001b[1;33m\u001b[0m\u001b[0m\n\u001b[0;32m     13\u001b[0m \u001b[0mprint\u001b[0m\u001b[1;33m(\u001b[0m\u001b[1;34m\"\\nHeatmap for comparison of the top 10 years in which the UFO was sighted vs each month:\"\u001b[0m\u001b[1;33m)\u001b[0m\u001b[1;33m\u001b[0m\u001b[0m\n",
      "\u001b[1;32mC:\\Users\\Dell\\Anaconda3\\lib\\site-packages\\pandas\\core\\reshape\\pivot.py\u001b[0m in \u001b[0;36mpivot_table\u001b[1;34m(data, values, index, columns, aggfunc, fill_value, margins, dropna, margins_name)\u001b[0m\n\u001b[0;32m    140\u001b[0m         to_unstack = [agged.index.names[i] or i\n\u001b[0;32m    141\u001b[0m                       for i in range(len(index), len(keys))]\n\u001b[1;32m--> 142\u001b[1;33m         \u001b[0mtable\u001b[0m \u001b[1;33m=\u001b[0m \u001b[0magged\u001b[0m\u001b[1;33m.\u001b[0m\u001b[0munstack\u001b[0m\u001b[1;33m(\u001b[0m\u001b[0mto_unstack\u001b[0m\u001b[1;33m)\u001b[0m\u001b[1;33m\u001b[0m\u001b[0m\n\u001b[0m\u001b[0;32m    143\u001b[0m \u001b[1;33m\u001b[0m\u001b[0m\n\u001b[0;32m    144\u001b[0m     \u001b[1;32mif\u001b[0m \u001b[1;32mnot\u001b[0m \u001b[0mdropna\u001b[0m\u001b[1;33m:\u001b[0m\u001b[1;33m\u001b[0m\u001b[0m\n",
      "\u001b[1;32mC:\\Users\\Dell\\Anaconda3\\lib\\site-packages\\pandas\\core\\frame.py\u001b[0m in \u001b[0;36munstack\u001b[1;34m(self, level, fill_value)\u001b[0m\n\u001b[0;32m   4050\u001b[0m         \"\"\"\n\u001b[0;32m   4051\u001b[0m         \u001b[1;32mfrom\u001b[0m \u001b[0mpandas\u001b[0m\u001b[1;33m.\u001b[0m\u001b[0mcore\u001b[0m\u001b[1;33m.\u001b[0m\u001b[0mreshape\u001b[0m\u001b[1;33m.\u001b[0m\u001b[0mreshape\u001b[0m \u001b[1;32mimport\u001b[0m \u001b[0munstack\u001b[0m\u001b[1;33m\u001b[0m\u001b[0m\n\u001b[1;32m-> 4052\u001b[1;33m         \u001b[1;32mreturn\u001b[0m \u001b[0munstack\u001b[0m\u001b[1;33m(\u001b[0m\u001b[0mself\u001b[0m\u001b[1;33m,\u001b[0m \u001b[0mlevel\u001b[0m\u001b[1;33m,\u001b[0m \u001b[0mfill_value\u001b[0m\u001b[1;33m)\u001b[0m\u001b[1;33m\u001b[0m\u001b[0m\n\u001b[0m\u001b[0;32m   4053\u001b[0m \u001b[1;33m\u001b[0m\u001b[0m\n\u001b[0;32m   4054\u001b[0m     _shared_docs['melt'] = (\"\"\"\n",
      "\u001b[1;32mC:\\Users\\Dell\\Anaconda3\\lib\\site-packages\\pandas\\core\\reshape\\reshape.py\u001b[0m in \u001b[0;36munstack\u001b[1;34m(obj, level, fill_value)\u001b[0m\n\u001b[0;32m    447\u001b[0m \u001b[1;32mdef\u001b[0m \u001b[0munstack\u001b[0m\u001b[1;33m(\u001b[0m\u001b[0mobj\u001b[0m\u001b[1;33m,\u001b[0m \u001b[0mlevel\u001b[0m\u001b[1;33m,\u001b[0m \u001b[0mfill_value\u001b[0m\u001b[1;33m=\u001b[0m\u001b[1;32mNone\u001b[0m\u001b[1;33m)\u001b[0m\u001b[1;33m:\u001b[0m\u001b[1;33m\u001b[0m\u001b[0m\n\u001b[0;32m    448\u001b[0m     \u001b[1;32mif\u001b[0m \u001b[0misinstance\u001b[0m\u001b[1;33m(\u001b[0m\u001b[0mlevel\u001b[0m\u001b[1;33m,\u001b[0m \u001b[1;33m(\u001b[0m\u001b[0mtuple\u001b[0m\u001b[1;33m,\u001b[0m \u001b[0mlist\u001b[0m\u001b[1;33m)\u001b[0m\u001b[1;33m)\u001b[0m\u001b[1;33m:\u001b[0m\u001b[1;33m\u001b[0m\u001b[0m\n\u001b[1;32m--> 449\u001b[1;33m         \u001b[1;32mreturn\u001b[0m \u001b[0m_unstack_multiple\u001b[0m\u001b[1;33m(\u001b[0m\u001b[0mobj\u001b[0m\u001b[1;33m,\u001b[0m \u001b[0mlevel\u001b[0m\u001b[1;33m)\u001b[0m\u001b[1;33m\u001b[0m\u001b[0m\n\u001b[0m\u001b[0;32m    450\u001b[0m \u001b[1;33m\u001b[0m\u001b[0m\n\u001b[0;32m    451\u001b[0m     \u001b[1;32mif\u001b[0m \u001b[0misinstance\u001b[0m\u001b[1;33m(\u001b[0m\u001b[0mobj\u001b[0m\u001b[1;33m,\u001b[0m \u001b[0mDataFrame\u001b[0m\u001b[1;33m)\u001b[0m\u001b[1;33m:\u001b[0m\u001b[1;33m\u001b[0m\u001b[0m\n",
      "\u001b[1;32mC:\\Users\\Dell\\Anaconda3\\lib\\site-packages\\pandas\\core\\reshape\\reshape.py\u001b[0m in \u001b[0;36m_unstack_multiple\u001b[1;34m(data, clocs)\u001b[0m\n\u001b[0;32m    294\u001b[0m     \u001b[0mindex\u001b[0m \u001b[1;33m=\u001b[0m \u001b[0mdata\u001b[0m\u001b[1;33m.\u001b[0m\u001b[0mindex\u001b[0m\u001b[1;33m\u001b[0m\u001b[0m\n\u001b[0;32m    295\u001b[0m \u001b[1;33m\u001b[0m\u001b[0m\n\u001b[1;32m--> 296\u001b[1;33m     \u001b[0mclocs\u001b[0m \u001b[1;33m=\u001b[0m \u001b[1;33m[\u001b[0m\u001b[0mindex\u001b[0m\u001b[1;33m.\u001b[0m\u001b[0m_get_level_number\u001b[0m\u001b[1;33m(\u001b[0m\u001b[0mi\u001b[0m\u001b[1;33m)\u001b[0m \u001b[1;32mfor\u001b[0m \u001b[0mi\u001b[0m \u001b[1;32min\u001b[0m \u001b[0mclocs\u001b[0m\u001b[1;33m]\u001b[0m\u001b[1;33m\u001b[0m\u001b[0m\n\u001b[0m\u001b[0;32m    297\u001b[0m \u001b[1;33m\u001b[0m\u001b[0m\n\u001b[0;32m    298\u001b[0m     \u001b[0mrlocs\u001b[0m \u001b[1;33m=\u001b[0m \u001b[1;33m[\u001b[0m\u001b[0mi\u001b[0m \u001b[1;32mfor\u001b[0m \u001b[0mi\u001b[0m \u001b[1;32min\u001b[0m \u001b[0mrange\u001b[0m\u001b[1;33m(\u001b[0m\u001b[0mindex\u001b[0m\u001b[1;33m.\u001b[0m\u001b[0mnlevels\u001b[0m\u001b[1;33m)\u001b[0m \u001b[1;32mif\u001b[0m \u001b[0mi\u001b[0m \u001b[1;32mnot\u001b[0m \u001b[1;32min\u001b[0m \u001b[0mclocs\u001b[0m\u001b[1;33m]\u001b[0m\u001b[1;33m\u001b[0m\u001b[0m\n",
      "\u001b[1;32mC:\\Users\\Dell\\Anaconda3\\lib\\site-packages\\pandas\\core\\reshape\\reshape.py\u001b[0m in \u001b[0;36m<listcomp>\u001b[1;34m(.0)\u001b[0m\n\u001b[0;32m    294\u001b[0m     \u001b[0mindex\u001b[0m \u001b[1;33m=\u001b[0m \u001b[0mdata\u001b[0m\u001b[1;33m.\u001b[0m\u001b[0mindex\u001b[0m\u001b[1;33m\u001b[0m\u001b[0m\n\u001b[0;32m    295\u001b[0m \u001b[1;33m\u001b[0m\u001b[0m\n\u001b[1;32m--> 296\u001b[1;33m     \u001b[0mclocs\u001b[0m \u001b[1;33m=\u001b[0m \u001b[1;33m[\u001b[0m\u001b[0mindex\u001b[0m\u001b[1;33m.\u001b[0m\u001b[0m_get_level_number\u001b[0m\u001b[1;33m(\u001b[0m\u001b[0mi\u001b[0m\u001b[1;33m)\u001b[0m \u001b[1;32mfor\u001b[0m \u001b[0mi\u001b[0m \u001b[1;32min\u001b[0m \u001b[0mclocs\u001b[0m\u001b[1;33m]\u001b[0m\u001b[1;33m\u001b[0m\u001b[0m\n\u001b[0m\u001b[0;32m    297\u001b[0m \u001b[1;33m\u001b[0m\u001b[0m\n\u001b[0;32m    298\u001b[0m     \u001b[0mrlocs\u001b[0m \u001b[1;33m=\u001b[0m \u001b[1;33m[\u001b[0m\u001b[0mi\u001b[0m \u001b[1;32mfor\u001b[0m \u001b[0mi\u001b[0m \u001b[1;32min\u001b[0m \u001b[0mrange\u001b[0m\u001b[1;33m(\u001b[0m\u001b[0mindex\u001b[0m\u001b[1;33m.\u001b[0m\u001b[0mnlevels\u001b[0m\u001b[1;33m)\u001b[0m \u001b[1;32mif\u001b[0m \u001b[0mi\u001b[0m \u001b[1;32mnot\u001b[0m \u001b[1;32min\u001b[0m \u001b[0mclocs\u001b[0m\u001b[1;33m]\u001b[0m\u001b[1;33m\u001b[0m\u001b[0m\n",
      "\u001b[1;32mC:\\Users\\Dell\\Anaconda3\\lib\\site-packages\\pandas\\core\\indexes\\multi.py\u001b[0m in \u001b[0;36m_get_level_number\u001b[1;34m(self, level)\u001b[0m\n\u001b[0;32m    612\u001b[0m         \u001b[1;32mexcept\u001b[0m \u001b[0mValueError\u001b[0m\u001b[1;33m:\u001b[0m\u001b[1;33m\u001b[0m\u001b[0m\n\u001b[0;32m    613\u001b[0m             \u001b[1;32mif\u001b[0m \u001b[1;32mnot\u001b[0m \u001b[0misinstance\u001b[0m\u001b[1;33m(\u001b[0m\u001b[0mlevel\u001b[0m\u001b[1;33m,\u001b[0m \u001b[0mint\u001b[0m\u001b[1;33m)\u001b[0m\u001b[1;33m:\u001b[0m\u001b[1;33m\u001b[0m\u001b[0m\n\u001b[1;32m--> 614\u001b[1;33m                 \u001b[1;32mraise\u001b[0m \u001b[0mKeyError\u001b[0m\u001b[1;33m(\u001b[0m\u001b[1;34m'Level %s not found'\u001b[0m \u001b[1;33m%\u001b[0m \u001b[0mstr\u001b[0m\u001b[1;33m(\u001b[0m\u001b[0mlevel\u001b[0m\u001b[1;33m)\u001b[0m\u001b[1;33m)\u001b[0m\u001b[1;33m\u001b[0m\u001b[0m\n\u001b[0m\u001b[0;32m    615\u001b[0m             \u001b[1;32melif\u001b[0m \u001b[0mlevel\u001b[0m \u001b[1;33m<\u001b[0m \u001b[1;36m0\u001b[0m\u001b[1;33m:\u001b[0m\u001b[1;33m\u001b[0m\u001b[0m\n\u001b[0;32m    616\u001b[0m                 \u001b[0mlevel\u001b[0m \u001b[1;33m+=\u001b[0m \u001b[0mself\u001b[0m\u001b[1;33m.\u001b[0m\u001b[0mnlevels\u001b[0m\u001b[1;33m\u001b[0m\u001b[0m\n",
      "\u001b[1;31mKeyError\u001b[0m: 'Level Date_time not found'"
     ]
    }
   ],
   "source": [
    "import pandas as pd \n",
    "import matplotlib.pyplot as plt \n",
    "import seaborn as sns\n",
    "from datetime import datetime\n",
    "df = pd.read_csv(r'E:\\ufo_sighting_data.csv')\n",
    "s = df['Date_time'].str.split()\n",
    "df['Date_time'] = pd.to_datetime(s.str[0]) + pd.to_timedelta(s.str[1].str.split(':').str[0] +' hours')\n",
    "most_sightings_years = df['Date_time'].dt.year.value_counts().head(10)\n",
    "def is_top_years(year): \n",
    "    if year in most_sightings_years.index:\n",
    "        return year \n",
    "month_vs_year = df.pivot_table(columns=df['Date_time'].dt.month,index=df['Date_time'].dt.year.apply(is_top_years),aggfunc='count',values='city') \n",
    "month_vs_year.columns = month_vs_year.columns.astype(int)\n",
    "print(\"\\nHeatmap for comparison of the top 10 years in which the UFO was sighted vs each month:\") \n",
    "plt.figure(figsize=(10,8)) \n",
    "ax = sns.heatmap(month_vs_year, vmin=0, vmax=4) \n",
    "ax.set_xlabel('Month').set_size(20)\n",
    "ax.set_ylabel('Year').set_size(20)"
   ]
  },
  {
   "cell_type": "markdown",
   "metadata": {},
   "source": [
    "### Q140. Write a pandas program to create a Timewheel of Hour VS Year comparison of the top 10 years in which the (UFO) was sighted."
   ]
  },
  {
   "cell_type": "code",
   "execution_count": 157,
   "metadata": {},
   "outputs": [
    {
     "name": "stderr",
     "output_type": "stream",
     "text": [
      "C:\\Users\\Dell\\Anaconda3\\lib\\site-packages\\IPython\\core\\interactiveshell.py:2717: DtypeWarning: Columns (5,9) have mixed types. Specify dtype option on import or set low_memory=False.\n",
      "  interactivity=interactivity, compiler=compiler, result=result)\n"
     ]
    },
    {
     "ename": "KeyError",
     "evalue": "'Level Date_time not found'",
     "output_type": "error",
     "traceback": [
      "\u001b[1;31m---------------------------------------------------------------------------\u001b[0m",
      "\u001b[1;31mValueError\u001b[0m                                Traceback (most recent call last)",
      "\u001b[1;32mC:\\Users\\Dell\\Anaconda3\\lib\\site-packages\\pandas\\core\\indexes\\multi.py\u001b[0m in \u001b[0;36m_get_level_number\u001b[1;34m(self, level)\u001b[0m\n\u001b[0;32m    609\u001b[0m                 raise ValueError('The name %s occurs multiple times, use a '\n\u001b[1;32m--> 610\u001b[1;33m                                  'level number' % level)\n\u001b[0m\u001b[0;32m    611\u001b[0m             \u001b[0mlevel\u001b[0m \u001b[1;33m=\u001b[0m \u001b[0mself\u001b[0m\u001b[1;33m.\u001b[0m\u001b[0mnames\u001b[0m\u001b[1;33m.\u001b[0m\u001b[0mindex\u001b[0m\u001b[1;33m(\u001b[0m\u001b[0mlevel\u001b[0m\u001b[1;33m)\u001b[0m\u001b[1;33m\u001b[0m\u001b[0m\n",
      "\u001b[1;31mValueError\u001b[0m: The name Date_time occurs multiple times, use a level number",
      "\nDuring handling of the above exception, another exception occurred:\n",
      "\u001b[1;31mKeyError\u001b[0m                                  Traceback (most recent call last)",
      "\u001b[1;32m<ipython-input-157-1f1e98a67460>\u001b[0m in \u001b[0;36m<module>\u001b[1;34m()\u001b[0m\n\u001b[0;32m     11\u001b[0m     \u001b[1;32mif\u001b[0m \u001b[0myear\u001b[0m \u001b[1;32min\u001b[0m \u001b[0mmost_sightings_years\u001b[0m\u001b[1;33m.\u001b[0m\u001b[0mindex\u001b[0m\u001b[1;33m:\u001b[0m\u001b[1;33m\u001b[0m\u001b[0m\n\u001b[0;32m     12\u001b[0m         \u001b[1;32mreturn\u001b[0m \u001b[0myear\u001b[0m\u001b[1;33m\u001b[0m\u001b[0m\n\u001b[1;32m---> 13\u001b[1;33m \u001b[0mmonth_vs_year\u001b[0m \u001b[1;33m=\u001b[0m \u001b[0mdf\u001b[0m\u001b[1;33m.\u001b[0m\u001b[0mpivot_table\u001b[0m\u001b[1;33m(\u001b[0m\u001b[0mcolumns\u001b[0m\u001b[1;33m=\u001b[0m\u001b[0mdf\u001b[0m\u001b[1;33m[\u001b[0m\u001b[1;34m'Date_time'\u001b[0m\u001b[1;33m]\u001b[0m\u001b[1;33m.\u001b[0m\u001b[0mdt\u001b[0m\u001b[1;33m.\u001b[0m\u001b[0mmonth\u001b[0m\u001b[1;33m,\u001b[0m\u001b[0mindex\u001b[0m\u001b[1;33m=\u001b[0m\u001b[0mdf\u001b[0m\u001b[1;33m[\u001b[0m\u001b[1;34m'Date_time'\u001b[0m\u001b[1;33m]\u001b[0m\u001b[1;33m.\u001b[0m\u001b[0mdt\u001b[0m\u001b[1;33m.\u001b[0m\u001b[0myear\u001b[0m\u001b[1;33m.\u001b[0m\u001b[0mapply\u001b[0m\u001b[1;33m(\u001b[0m\u001b[0mis_top_years\u001b[0m\u001b[1;33m)\u001b[0m\u001b[1;33m,\u001b[0m\u001b[0maggfunc\u001b[0m\u001b[1;33m=\u001b[0m\u001b[1;34m'count'\u001b[0m\u001b[1;33m,\u001b[0m\u001b[0mvalues\u001b[0m\u001b[1;33m=\u001b[0m\u001b[1;34m'city'\u001b[0m\u001b[1;33m)\u001b[0m\u001b[1;33m\u001b[0m\u001b[0m\n\u001b[0m\u001b[0;32m     14\u001b[0m \u001b[0mmonth_vs_year\u001b[0m\u001b[1;33m.\u001b[0m\u001b[0mindex\u001b[0m \u001b[1;33m=\u001b[0m \u001b[0mmonth_vs_year\u001b[0m\u001b[1;33m.\u001b[0m\u001b[0mindex\u001b[0m\u001b[1;33m.\u001b[0m\u001b[0mastype\u001b[0m\u001b[1;33m(\u001b[0m\u001b[0mint\u001b[0m\u001b[1;33m)\u001b[0m\u001b[1;33m\u001b[0m\u001b[0m\n\u001b[0;32m     15\u001b[0m \u001b[0mmonth_vs_year\u001b[0m\u001b[1;33m.\u001b[0m\u001b[0mcolumns\u001b[0m \u001b[1;33m=\u001b[0m \u001b[0mmonth_vs_year\u001b[0m\u001b[1;33m.\u001b[0m\u001b[0mcolumns\u001b[0m\u001b[1;33m.\u001b[0m\u001b[0mastype\u001b[0m\u001b[1;33m(\u001b[0m\u001b[0mint\u001b[0m\u001b[1;33m)\u001b[0m\u001b[1;33m\u001b[0m\u001b[0m\n",
      "\u001b[1;32mC:\\Users\\Dell\\Anaconda3\\lib\\site-packages\\pandas\\core\\reshape\\pivot.py\u001b[0m in \u001b[0;36mpivot_table\u001b[1;34m(data, values, index, columns, aggfunc, fill_value, margins, dropna, margins_name)\u001b[0m\n\u001b[0;32m    140\u001b[0m         to_unstack = [agged.index.names[i] or i\n\u001b[0;32m    141\u001b[0m                       for i in range(len(index), len(keys))]\n\u001b[1;32m--> 142\u001b[1;33m         \u001b[0mtable\u001b[0m \u001b[1;33m=\u001b[0m \u001b[0magged\u001b[0m\u001b[1;33m.\u001b[0m\u001b[0munstack\u001b[0m\u001b[1;33m(\u001b[0m\u001b[0mto_unstack\u001b[0m\u001b[1;33m)\u001b[0m\u001b[1;33m\u001b[0m\u001b[0m\n\u001b[0m\u001b[0;32m    143\u001b[0m \u001b[1;33m\u001b[0m\u001b[0m\n\u001b[0;32m    144\u001b[0m     \u001b[1;32mif\u001b[0m \u001b[1;32mnot\u001b[0m \u001b[0mdropna\u001b[0m\u001b[1;33m:\u001b[0m\u001b[1;33m\u001b[0m\u001b[0m\n",
      "\u001b[1;32mC:\\Users\\Dell\\Anaconda3\\lib\\site-packages\\pandas\\core\\frame.py\u001b[0m in \u001b[0;36munstack\u001b[1;34m(self, level, fill_value)\u001b[0m\n\u001b[0;32m   4050\u001b[0m         \"\"\"\n\u001b[0;32m   4051\u001b[0m         \u001b[1;32mfrom\u001b[0m \u001b[0mpandas\u001b[0m\u001b[1;33m.\u001b[0m\u001b[0mcore\u001b[0m\u001b[1;33m.\u001b[0m\u001b[0mreshape\u001b[0m\u001b[1;33m.\u001b[0m\u001b[0mreshape\u001b[0m \u001b[1;32mimport\u001b[0m \u001b[0munstack\u001b[0m\u001b[1;33m\u001b[0m\u001b[0m\n\u001b[1;32m-> 4052\u001b[1;33m         \u001b[1;32mreturn\u001b[0m \u001b[0munstack\u001b[0m\u001b[1;33m(\u001b[0m\u001b[0mself\u001b[0m\u001b[1;33m,\u001b[0m \u001b[0mlevel\u001b[0m\u001b[1;33m,\u001b[0m \u001b[0mfill_value\u001b[0m\u001b[1;33m)\u001b[0m\u001b[1;33m\u001b[0m\u001b[0m\n\u001b[0m\u001b[0;32m   4053\u001b[0m \u001b[1;33m\u001b[0m\u001b[0m\n\u001b[0;32m   4054\u001b[0m     _shared_docs['melt'] = (\"\"\"\n",
      "\u001b[1;32mC:\\Users\\Dell\\Anaconda3\\lib\\site-packages\\pandas\\core\\reshape\\reshape.py\u001b[0m in \u001b[0;36munstack\u001b[1;34m(obj, level, fill_value)\u001b[0m\n\u001b[0;32m    447\u001b[0m \u001b[1;32mdef\u001b[0m \u001b[0munstack\u001b[0m\u001b[1;33m(\u001b[0m\u001b[0mobj\u001b[0m\u001b[1;33m,\u001b[0m \u001b[0mlevel\u001b[0m\u001b[1;33m,\u001b[0m \u001b[0mfill_value\u001b[0m\u001b[1;33m=\u001b[0m\u001b[1;32mNone\u001b[0m\u001b[1;33m)\u001b[0m\u001b[1;33m:\u001b[0m\u001b[1;33m\u001b[0m\u001b[0m\n\u001b[0;32m    448\u001b[0m     \u001b[1;32mif\u001b[0m \u001b[0misinstance\u001b[0m\u001b[1;33m(\u001b[0m\u001b[0mlevel\u001b[0m\u001b[1;33m,\u001b[0m \u001b[1;33m(\u001b[0m\u001b[0mtuple\u001b[0m\u001b[1;33m,\u001b[0m \u001b[0mlist\u001b[0m\u001b[1;33m)\u001b[0m\u001b[1;33m)\u001b[0m\u001b[1;33m:\u001b[0m\u001b[1;33m\u001b[0m\u001b[0m\n\u001b[1;32m--> 449\u001b[1;33m         \u001b[1;32mreturn\u001b[0m \u001b[0m_unstack_multiple\u001b[0m\u001b[1;33m(\u001b[0m\u001b[0mobj\u001b[0m\u001b[1;33m,\u001b[0m \u001b[0mlevel\u001b[0m\u001b[1;33m)\u001b[0m\u001b[1;33m\u001b[0m\u001b[0m\n\u001b[0m\u001b[0;32m    450\u001b[0m \u001b[1;33m\u001b[0m\u001b[0m\n\u001b[0;32m    451\u001b[0m     \u001b[1;32mif\u001b[0m \u001b[0misinstance\u001b[0m\u001b[1;33m(\u001b[0m\u001b[0mobj\u001b[0m\u001b[1;33m,\u001b[0m \u001b[0mDataFrame\u001b[0m\u001b[1;33m)\u001b[0m\u001b[1;33m:\u001b[0m\u001b[1;33m\u001b[0m\u001b[0m\n",
      "\u001b[1;32mC:\\Users\\Dell\\Anaconda3\\lib\\site-packages\\pandas\\core\\reshape\\reshape.py\u001b[0m in \u001b[0;36m_unstack_multiple\u001b[1;34m(data, clocs)\u001b[0m\n\u001b[0;32m    294\u001b[0m     \u001b[0mindex\u001b[0m \u001b[1;33m=\u001b[0m \u001b[0mdata\u001b[0m\u001b[1;33m.\u001b[0m\u001b[0mindex\u001b[0m\u001b[1;33m\u001b[0m\u001b[0m\n\u001b[0;32m    295\u001b[0m \u001b[1;33m\u001b[0m\u001b[0m\n\u001b[1;32m--> 296\u001b[1;33m     \u001b[0mclocs\u001b[0m \u001b[1;33m=\u001b[0m \u001b[1;33m[\u001b[0m\u001b[0mindex\u001b[0m\u001b[1;33m.\u001b[0m\u001b[0m_get_level_number\u001b[0m\u001b[1;33m(\u001b[0m\u001b[0mi\u001b[0m\u001b[1;33m)\u001b[0m \u001b[1;32mfor\u001b[0m \u001b[0mi\u001b[0m \u001b[1;32min\u001b[0m \u001b[0mclocs\u001b[0m\u001b[1;33m]\u001b[0m\u001b[1;33m\u001b[0m\u001b[0m\n\u001b[0m\u001b[0;32m    297\u001b[0m \u001b[1;33m\u001b[0m\u001b[0m\n\u001b[0;32m    298\u001b[0m     \u001b[0mrlocs\u001b[0m \u001b[1;33m=\u001b[0m \u001b[1;33m[\u001b[0m\u001b[0mi\u001b[0m \u001b[1;32mfor\u001b[0m \u001b[0mi\u001b[0m \u001b[1;32min\u001b[0m \u001b[0mrange\u001b[0m\u001b[1;33m(\u001b[0m\u001b[0mindex\u001b[0m\u001b[1;33m.\u001b[0m\u001b[0mnlevels\u001b[0m\u001b[1;33m)\u001b[0m \u001b[1;32mif\u001b[0m \u001b[0mi\u001b[0m \u001b[1;32mnot\u001b[0m \u001b[1;32min\u001b[0m \u001b[0mclocs\u001b[0m\u001b[1;33m]\u001b[0m\u001b[1;33m\u001b[0m\u001b[0m\n",
      "\u001b[1;32mC:\\Users\\Dell\\Anaconda3\\lib\\site-packages\\pandas\\core\\reshape\\reshape.py\u001b[0m in \u001b[0;36m<listcomp>\u001b[1;34m(.0)\u001b[0m\n\u001b[0;32m    294\u001b[0m     \u001b[0mindex\u001b[0m \u001b[1;33m=\u001b[0m \u001b[0mdata\u001b[0m\u001b[1;33m.\u001b[0m\u001b[0mindex\u001b[0m\u001b[1;33m\u001b[0m\u001b[0m\n\u001b[0;32m    295\u001b[0m \u001b[1;33m\u001b[0m\u001b[0m\n\u001b[1;32m--> 296\u001b[1;33m     \u001b[0mclocs\u001b[0m \u001b[1;33m=\u001b[0m \u001b[1;33m[\u001b[0m\u001b[0mindex\u001b[0m\u001b[1;33m.\u001b[0m\u001b[0m_get_level_number\u001b[0m\u001b[1;33m(\u001b[0m\u001b[0mi\u001b[0m\u001b[1;33m)\u001b[0m \u001b[1;32mfor\u001b[0m \u001b[0mi\u001b[0m \u001b[1;32min\u001b[0m \u001b[0mclocs\u001b[0m\u001b[1;33m]\u001b[0m\u001b[1;33m\u001b[0m\u001b[0m\n\u001b[0m\u001b[0;32m    297\u001b[0m \u001b[1;33m\u001b[0m\u001b[0m\n\u001b[0;32m    298\u001b[0m     \u001b[0mrlocs\u001b[0m \u001b[1;33m=\u001b[0m \u001b[1;33m[\u001b[0m\u001b[0mi\u001b[0m \u001b[1;32mfor\u001b[0m \u001b[0mi\u001b[0m \u001b[1;32min\u001b[0m \u001b[0mrange\u001b[0m\u001b[1;33m(\u001b[0m\u001b[0mindex\u001b[0m\u001b[1;33m.\u001b[0m\u001b[0mnlevels\u001b[0m\u001b[1;33m)\u001b[0m \u001b[1;32mif\u001b[0m \u001b[0mi\u001b[0m \u001b[1;32mnot\u001b[0m \u001b[1;32min\u001b[0m \u001b[0mclocs\u001b[0m\u001b[1;33m]\u001b[0m\u001b[1;33m\u001b[0m\u001b[0m\n",
      "\u001b[1;32mC:\\Users\\Dell\\Anaconda3\\lib\\site-packages\\pandas\\core\\indexes\\multi.py\u001b[0m in \u001b[0;36m_get_level_number\u001b[1;34m(self, level)\u001b[0m\n\u001b[0;32m    612\u001b[0m         \u001b[1;32mexcept\u001b[0m \u001b[0mValueError\u001b[0m\u001b[1;33m:\u001b[0m\u001b[1;33m\u001b[0m\u001b[0m\n\u001b[0;32m    613\u001b[0m             \u001b[1;32mif\u001b[0m \u001b[1;32mnot\u001b[0m \u001b[0misinstance\u001b[0m\u001b[1;33m(\u001b[0m\u001b[0mlevel\u001b[0m\u001b[1;33m,\u001b[0m \u001b[0mint\u001b[0m\u001b[1;33m)\u001b[0m\u001b[1;33m:\u001b[0m\u001b[1;33m\u001b[0m\u001b[0m\n\u001b[1;32m--> 614\u001b[1;33m                 \u001b[1;32mraise\u001b[0m \u001b[0mKeyError\u001b[0m\u001b[1;33m(\u001b[0m\u001b[1;34m'Level %s not found'\u001b[0m \u001b[1;33m%\u001b[0m \u001b[0mstr\u001b[0m\u001b[1;33m(\u001b[0m\u001b[0mlevel\u001b[0m\u001b[1;33m)\u001b[0m\u001b[1;33m)\u001b[0m\u001b[1;33m\u001b[0m\u001b[0m\n\u001b[0m\u001b[0;32m    615\u001b[0m             \u001b[1;32melif\u001b[0m \u001b[0mlevel\u001b[0m \u001b[1;33m<\u001b[0m \u001b[1;36m0\u001b[0m\u001b[1;33m:\u001b[0m\u001b[1;33m\u001b[0m\u001b[0m\n\u001b[0;32m    616\u001b[0m                 \u001b[0mlevel\u001b[0m \u001b[1;33m+=\u001b[0m \u001b[0mself\u001b[0m\u001b[1;33m.\u001b[0m\u001b[0mnlevels\u001b[0m\u001b[1;33m\u001b[0m\u001b[0m\n",
      "\u001b[1;31mKeyError\u001b[0m: 'Level Date_time not found'"
     ]
    }
   ],
   "source": [
    "import pandas as pd \n",
    "import matplotlib.pyplot as plt \n",
    "import matplotlib as mpl \n",
    "import matplotlib.cm as cm\n",
    "from datetime import datetime\n",
    "df = pd.read_csv(r'E:\\ufo_sighting_data.csv')\n",
    "s = df['Date_time'].str.split()\n",
    "df['Date_time'] = pd.to_datetime(s.str[0]) + pd.to_timedelta(s.str[1].str.split(':').str[0] +' hours')\n",
    "most_sightings_years = df['Date_time'].dt.year.value_counts().head(10) \n",
    "def is_top_years(year): \n",
    "    if year in most_sightings_years.index: \n",
    "        return year \n",
    "month_vs_year = df.pivot_table(columns=df['Date_time'].dt.month,index=df['Date_time'].dt.year.apply(is_top_years),aggfunc='count',values='city') \n",
    "month_vs_year.index = month_vs_year.index.astype(int) \n",
    "month_vs_year.columns = month_vs_year.columns.astype(int)\n",
    "print(\"\\nComparison of the top 10 years in which the UFO was sighted vs each month:\") \n",
    "def pie_heatmap(table, cmap='coolwarm_r', vmin=None, vmax=None,inner_r=0.25, pie_args={}): \n",
    "    n, m = table.shape \n",
    "    vmin= table.min().min() if vmin is None else vmin \n",
    "    vmax= table.max().max() if vmax is None else vmax\n",
    "centre_circle = plt.Circle((0,0),inner_r,edgecolor='black',facecolor='white',fill=True,linewidth=0.25) \n",
    "plt.gcf().gca().add_artist(centre_circle) \n",
    "norm = mpl.colors.Normalize(vmin=vmin, vmax=vmax)\n",
    "cmapper = cm.ScalarMappable(norm=norm, cmap=cmap)\n",
    "for i, (row_name, row) in enumerate(table.iterrows()): \n",
    "    labels = None if i > 0 else table.columns \n",
    "    wedges = plt.pie([1] * m,radius=inner_r+float(n-i)/n, colors=[cmapper.to_rgba(x) for x in row.values], labels=labels, startangle=90, counterclock=False, wedgeprops={'linewidth':-1}, **pie_args) \n",
    "    plt.setp(wedges[0], edgecolor='grey',linewidth=1.5) \n",
    "    wedges = plt.pie([1], radius=inner_r+float(n-i-1)/n, colors=['w'], labels=[row_name], startangle=-90, wedgeprops={'linewidth':0}) \n",
    "    plt.setp(wedges[0], edgecolor='grey',linewidth=1.5) \n",
    "plt.figure(figsize=(8,8)) \n",
    "plt.title(\"Timewheel of Hour Vs Year\",y=1.08,fontsize=30) \n",
    "pie_heatmap(month_vs_year, vmin=-20,vmax=80,inner_r=0.2)"
   ]
  },
  {
   "cell_type": "markdown",
   "metadata": {},
   "source": [
    "#### Q141. Write a python program to draw the line using given axis values with the suitable label in the x-axis, y-axis, and a title."
   ]
  },
  {
   "cell_type": "code",
   "execution_count": 79,
   "metadata": {},
   "outputs": [
    {
     "data": {
      "image/png": "[encoded data removed]",
      "text/plain": [
       "<matplotlib.figure.Figure at 0x196436d1748>"
      ]
     },
     "metadata": {},
     "output_type": "display_data"
    }
   ],
   "source": [
    "import matplotlib.pyplot as plt\n",
    "x = [1,2,3]\n",
    "y = [2,4,1]\n",
    "# Plot lines and/or markers to the Axes. \n",
    "plt.plot(x, y)\n",
    "plt.xlabel('x - axis')\n",
    "plt.ylabel('y - axis')\n",
    "plt.title('Sample graph!')\n",
    "plt.show()"
   ]
  },
  {
   "cell_type": "markdown",
   "metadata": {},
   "source": [
    "#### Q142. Write a python program to draw the line charts of the financial data of the Alphabet Inc., between October 3, 2016 to October 7 2016. \n",
    "Sample Financial data (fdata.csv)- Date,Open,High,Low,Close 10-03-16,774.25,776.065002,769.5,772.559998 10-04-16 , 776.030029, 778.710022,772.890015,776.429993 10-05-16 , 779.309998, 782.070007,775.650024,776.469971 10-06-16 , 779 , 780.47998,775.539978,776.859985 10-07-16,779.659973, 779.659973 , 770.75 , 775.080017 "
   ]
  },
  {
   "cell_type": "code",
   "execution_count": 78,
   "metadata": {},
   "outputs": [
    {
     "data": {
      "image/png": "[encoded data removed]",
      "text/plain": [
       "<matplotlib.figure.Figure at 0x1964790f4a8>"
      ]
     },
     "metadata": {},
     "output_type": "display_data"
    }
   ],
   "source": [
    "import matplotlib.pyplot as plt \n",
    "import pandas as pd \n",
    "df = pd.read_excel(r'E:\\fdata.xlsx',index_col=0) \n",
    "df.plot() \n",
    "plt.show()"
   ]
  },
  {
   "cell_type": "markdown",
   "metadata": {},
   "source": [
    "#### Q143. Write a Python program to plot two or more lines on same plot with the suitable legends of each line. "
   ]
  },
  {
   "cell_type": "code",
   "execution_count": 57,
   "metadata": {},
   "outputs": [
    {
     "data": {
      "image/png": "[encoded data removed]",
      "text/plain": [
       "<matplotlib.figure.Figure at 0x1964aa1bf60>"
      ]
     },
     "metadata": {},
     "output_type": "display_data"
    }
   ],
   "source": [
    "import matplotlib.pyplot as plt\n",
    "# line 1 points \n",
    "x1 = [10,20,30] \n",
    "y1 = [20,40,10]\n",
    "# plotting the line 1 points \n",
    "plt.plot(x1, y1, label = \"line 1\")\n",
    "# line 2 points \n",
    "x2 = [10,20,30] \n",
    "y2 = [40,10,30]\n",
    "# plotting the line 2 points \n",
    "plt.plot(x2, y2, label = \"line 2\") \n",
    "plt.xlabel('x - axis')\n",
    "# Set the y axis label of the current axis. \n",
    "plt.ylabel('y - axis')\n",
    "# Set a title of the current axes. \n",
    "plt.title('Two or more lines on same plot with suitable legends ')\n",
    "# show a legend on the plot \n",
    "plt.legend()\n",
    "# Display a figure. \n",
    "plt.show()"
   ]
  },
  {
   "cell_type": "markdown",
   "metadata": {},
   "source": [
    "#### Q144. Write a python programming to display a bar chart of the popularity of programming languages.\n",
    "Sample data: programming languages- Java, Python, PHP, JavaScript, C#, C++ Popularity- 22.2, 17.6, 8.8, 8, 7.7 , 6.7 "
   ]
  },
  {
   "cell_type": "code",
   "execution_count": 56,
   "metadata": {},
   "outputs": [
    {
     "data": {
      "image/png": "[encoded data removed]",
      "text/plain": [
       "<matplotlib.figure.Figure at 0x1964aa1ec88>"
      ]
     },
     "metadata": {},
     "output_type": "display_data"
    }
   ],
   "source": [
    "import matplotlib.pyplot as plt \n",
    "x = ['Java', 'Python', 'PHP', 'JavaScript', 'C#', 'C++'] \n",
    "popularity = [22.2, 17.6, 8.8, 8, 7.7, 6.7] \n",
    "x_pos = [i for i, _ in enumerate(x)] \n",
    "plt.bar(x_pos, popularity, color='blue') \n",
    "plt.xlabel(\"Languages\") \n",
    "plt.ylabel(\"Popularity\") \n",
    "plt.title(\"PopularitY of Programming Language\\n\" + \"Worldwide, Oct 2017 compared to a year ago\") \n",
    "plt.xticks(x_pos, x)\n",
    "plt.minorticks_on() \n",
    "plt.grid(which='major', linestyle='-', linewidth='0.5', color='red')\n",
    "plt.grid(which='minor', linestyle=':', linewidth='0.5', color='black') \n",
    "plt.show()"
   ]
  },
  {
   "cell_type": "markdown",
   "metadata": {},
   "source": [
    "#### Q145. Write a python programming to display a horizontal bar chart of the popularity of programming languages.\n",
    "Sample data: programming languages- Java, Python, PHP, JavaScript, C#, C++ Popularity- 22.2, 17.6, 8.8, 8, 7.7 , 6.7 "
   ]
  },
  {
   "cell_type": "code",
   "execution_count": 55,
   "metadata": {},
   "outputs": [
    {
     "data": {
      "image/png": "[encoded data removed]",
      "text/plain": [
       "<matplotlib.figure.Figure at 0x19648fa2080>"
      ]
     },
     "metadata": {},
     "output_type": "display_data"
    }
   ],
   "source": [
    "import matplotlib.pyplot as plt \n",
    "x = ['Java', 'Python', 'PHP', 'JS', 'C#', 'C++'] \n",
    "popularity = [22.2, 17.6, 8.8, 8, 7.7, 6.7]\n",
    "x_pos = [i for i, _ in enumerate(x)] \n",
    "plt.barh(x_pos, popularity, color='green') \n",
    "plt.xlabel(\"Popularity\") \n",
    "plt.ylabel(\"Languages\") \n",
    "plt.title(\"PopularitY of Programming Language\\n\" + \"Worldwide, Oct 2017 compared to a year ago\") \n",
    "plt.yticks(x_pos, x)\n",
    "plt.minorticks_on() \n",
    "plt.grid(which='major', linestyle='-', linewidth='0.5', color='red')\n",
    "plt.grid(which='minor', linestyle=':', linewidth='0.5', color='black') \n",
    "plt.show()"
   ]
  },
  {
   "cell_type": "markdown",
   "metadata": {},
   "source": [
    "#### Q146. Write a python programming to display a bar chart of the Popularity of programming languages. Increase bottom margin.\n",
    "Sample data: programming languages: Java, Python, PHP, JavaScript, C#, C++ Popularity: 22.2, 17.6, 8.8, 8, 7.7 , 6.7 "
   ]
  },
  {
   "cell_type": "code",
   "execution_count": 53,
   "metadata": {},
   "outputs": [
    {
     "data": {
      "image/png": "[encoded data removed]",
      "text/plain": [
       "<matplotlib.figure.Figure at 0x196488caa90>"
      ]
     },
     "metadata": {},
     "output_type": "display_data"
    }
   ],
   "source": [
    "import matplotlib.pyplot as plt \n",
    "x = ['Java', 'Python', 'PHP', 'JavaScript', 'C#', 'C++'] \n",
    "popularity = [22.2, 17.6, 8.8, 8, 7.7, 6.7] \n",
    "x_pos = [i for i, _ in enumerate(x)] \n",
    "plt.bar(x_pos, popularity, color=(0.4, 0.6, 0.8, 1.0)) \n",
    "plt.xlabel(\"Languages\") \n",
    "plt.ylabel(\"Popularity\") \n",
    "plt.title(\"PopularitY of Programming Language\\n\" + \"Worldwide, Oct 2017 compared to a year ago\")\n",
    "# Rotation of the bars names \n",
    "plt.xticks(x_pos, x, rotation=90)\n",
    "# Custom the subplot layout \n",
    "plt.subplots_adjust(bottom=0.4, top=.8)\n",
    "plt.minorticks_on() \n",
    "plt.grid(which='major', linestyle='-', linewidth='0.5', color='red')\n",
    "plt.grid(which='minor', linestyle=':', linewidth='0.5', color='black') \n",
    "plt.show()"
   ]
  },
  {
   "cell_type": "markdown",
   "metadata": {},
   "source": [
    "#### Q147. Write a python program to create the bar plot from a DataFrame.\n",
    "a b c d e 2 4,8,5,7,6 4 2,3,4,2,6 6 4,7,4,7, 8 8 2,6,4,8, 6 10 2,4,3,3, 2 "
   ]
  },
  {
   "cell_type": "code",
   "execution_count": 52,
   "metadata": {},
   "outputs": [
    {
     "data": {
      "image/png": "[encoded data removed]",
      "text/plain": [
       "<matplotlib.figure.Figure at 0x1964ac27240>"
      ]
     },
     "metadata": {},
     "output_type": "display_data"
    }
   ],
   "source": [
    "from pandas import DataFrame \n",
    "import matplotlib.pyplot as plt \n",
    "import numpy as np\n",
    "a=np.array([[4,8,5,7,6],[2,3,4,2,6],[4,7,4,7,8],[2,6,4,8,6],[2,4,3,3,2]]) \n",
    "df=DataFrame(a, columns=['a','b','c','d','e'], index=[2,4,6,8,10])\n",
    "df.plot(kind='bar')\n",
    "# Turn on the grid \n",
    "plt.minorticks_on() \n",
    "plt.grid(which='major', linestyle='-', linewidth='0.5', color='green') \n",
    "plt.grid(which='minor', linestyle=':', linewidth='0.5', color='black')\n",
    "plt.show()"
   ]
  },
  {
   "cell_type": "markdown",
   "metadata": {},
   "source": [
    "#### Q148. Write a python program to draw the scatter plot comparing two subject marks of Mathematics and Science. Use marks of 10 students.\n",
    "Sample data: Test Data- math_marks = [88, 92 , 80, 89, 100, 80, 60, 100, 80, 34] science_marks = [35, 79, 79 , 48, 100, 88, 32, 45, 20, 30] marks_range = [10, 20, 30, 40, 50, 60, 70, 80, 90, 100]"
   ]
  },
  {
   "cell_type": "code",
   "execution_count": 51,
   "metadata": {},
   "outputs": [
    {
     "data": {
      "image/png": "[encoded data removed]",
      "text/plain": [
       "<matplotlib.figure.Figure at 0x1964aa3b358>"
      ]
     },
     "metadata": {},
     "output_type": "display_data"
    }
   ],
   "source": [
    "import matplotlib.pyplot as plt \n",
    "import pandas as pd \n",
    "math_marks = [88, 92, 80, 89, 100, 80, 60, 100, 80, 34] \n",
    "science_marks = [35, 79, 79, 48, 100, 88, 32, 45, 20, 30] \n",
    "marks_range = [10, 20, 30, 40, 50, 60, 70, 80, 90, 100] \n",
    "plt.scatter(marks_range, math_marks, label='Math marks', color='g') \n",
    "plt.scatter(marks_range, science_marks, label='Science marks', color='y') \n",
    "plt.title('Scatter Plot') \n",
    "plt.xlabel('Marks Range') \n",
    "plt.ylabel('Marks Scored') \n",
    "plt.legend() \n",
    "plt.show()"
   ]
  },
  {
   "cell_type": "markdown",
   "metadata": {},
   "source": [
    "#### Q149. Write a python program to draw the scatter plot for three different groups comparing weights and heights. \n",
    "The output shown in the screenshot:"
   ]
  },
  {
   "cell_type": "code",
   "execution_count": 46,
   "metadata": {},
   "outputs": [
    {
     "data": {
      "image/png": "[encoded data removed]",
      "text/plain": [
       "<matplotlib.figure.Figure at 0x1964d5b3a20>"
      ]
     },
     "metadata": {},
     "output_type": "display_data"
    }
   ],
   "source": [
    "import matplotlib.pyplot as plt \n",
    "import numpy as np \n",
    "weight1=[67,57.2,59.6,59.64,55.8,61.2,60.45,61,56.23,56] \n",
    "height1=[101.7,197.6,98.3,125.1,113.7,157.7,136,148.9,125.3,114.9] \n",
    "weight2=[61.9,64,62.1,64.2,62.3,65.4,62.4,61.4,62.5,63.6] \n",
    "height2=[152.8,155.3,135.1,125.2,151.3,135,182.2,195.9,165.1,125.1]\n",
    "weight3=[68.2,67.2,68.4,68.7,71,71.3,70.8,70,71.1,71.7] \n",
    "height3=[165.8,170.9,192.8,135.4,161.4,136.1,167.1,235.1,181.1,177.3] \n",
    "weight=np.concatenate((weight1,weight2,weight3)) \n",
    "height=np.concatenate((height1,height2,height3))\n",
    "plt.scatter(weight, height, marker='*', color=['red','green','blue']) \n",
    "plt.xlabel('weight', fontsize=16) \n",
    "plt.ylabel('height', fontsize=16) \n",
    "plt.title('Group wise Weight vs Height scatter plot\\n',fontsize=20) \n",
    "plt.show()"
   ]
  },
  {
   "cell_type": "markdown",
   "metadata": {},
   "source": [
    "#### Q150. Write a python program to draw a scatter plot to find sea-level rise in past 100 years. "
   ]
  },
  {
   "cell_type": "code",
   "execution_count": 158,
   "metadata": {},
   "outputs": [
    {
     "data": {
      "image/png": "[encoded data removed]",
      "text/plain": [
       "<matplotlib.figure.Figure at 0x19658370dd8>"
      ]
     },
     "metadata": {},
     "output_type": "display_data"
    }
   ],
   "source": [
    "import matplotlib.pyplot as plt\n",
    "import pandas as pd\n",
    "url='https://raw.githubusercontent.com/datasets/sea-level-rise/master/data/epa-sea-level.csv'\n",
    "data = pd.read_csv(url,sep=',') \n",
    "year = data['Year'] \n",
    "sea_levels = data['CSIRO Adjusted Sea Level'] \n",
    "plt.scatter(year, sea_levels, edgecolors='g') \n",
    "plt.xlabel('Year') \n",
    "plt.ylabel('Sea Level (inches)') \n",
    "plt.title('Rise in Sealevel') \n",
    "plt.show()"
   ]
  },
  {
   "cell_type": "code",
   "execution_count": null,
   "metadata": {
    "collapsed": true
   },
   "outputs": [],
   "source": []
  }
 ],
 "metadata": {
  "kernelspec": {
   "display_name": "Python 3",
   "language": "python",
   "name": "python3"
  },
  "language_info": {
   "codemirror_mode": {
    "name": "ipython",
    "version": 3
   },
   "file_extension": ".py",
   "mimetype": "text/x-python",
   "name": "python",
   "nbconvert_exporter": "python",
   "pygments_lexer": "ipython3",
   "version": "3.6.1"
  }
 },
 "nbformat": 4,
 "nbformat_minor": 2
}
